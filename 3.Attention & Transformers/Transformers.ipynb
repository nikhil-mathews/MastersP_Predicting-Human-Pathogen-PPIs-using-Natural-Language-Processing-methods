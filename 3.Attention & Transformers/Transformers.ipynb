{
  "nbformat": 4,
  "nbformat_minor": 0,
  "metadata": {
    "colab": {
      "name": "Transformers.ipynb",
      "provenance": [],
      "collapsed_sections": [],
      "mount_file_id": "1WfsjlyxvS0QuLgF7BYrwBavA2UsCN7d2",
      "authorship_tag": "ABX9TyOQYxMV82ANwCKONX1KHJuT",
      "include_colab_link": true
    },
    "kernelspec": {
      "name": "python3",
      "display_name": "Python 3"
    },
    "language_info": {
      "name": "python"
    },
    "accelerator": "GPU"
  },
  "cells": [
    {
      "cell_type": "markdown",
      "metadata": {
        "id": "view-in-github",
        "colab_type": "text"
      },
      "source": [
        "<a href=\"https://colab.research.google.com/github/nikhil-mathews/MastersPr_Predicting-Human-Pathogen-PPIs-using-Natural-Language-Processing-methods/blob/main/3.Attention%20%26%20Transformers/Transformers.ipynb\" target=\"_parent\"><img src=\"https://colab.research.google.com/assets/colab-badge.svg\" alt=\"Open In Colab\"/></a>"
      ]
    },
    {
      "cell_type": "code",
      "metadata": {
        "colab": {
          "base_uri": "https://localhost:8080/"
        },
        "id": "GvlQyzXck__p",
        "outputId": "836606bc-eb64-4b41-ebf9-8823bd58c655"
      },
      "source": [
        "\n",
        "try:\n",
        "  import pickle5 as pickle\n",
        "except:\n",
        "  !pip install pickle5\n",
        "  import pickle5 as pickle\n",
        "import os\n",
        "import sys\n",
        "import numpy as np\n",
        "import pandas as pd\n",
        "import matplotlib.pyplot as plt\n",
        "from keras.preprocessing.text import Tokenizer\n",
        "from keras.preprocessing.sequence import pad_sequences\n",
        "from keras.layers import Dense, Input, GlobalMaxPooling1D,GlobalAveragePooling1D\n",
        "from keras.layers import Conv1D, MaxPooling1D, Embedding, Flatten,Attention\n",
        "from keras.models import Model\n",
        "from sklearn.metrics import roc_auc_score,roc_curve, auc\n",
        "from numpy import random\n",
        "from keras.layers import LSTM, Bidirectional, GlobalMaxPool1D, Dropout\n",
        "from keras.optimizers import Adam\n",
        "from keras.utils.vis_utils import plot_model\n",
        "\n",
        "import sys\n",
        "sys.path.insert(0,'/content/drive/MyDrive/ML_Data/')\n",
        "import functions as f\n",
        "\n",
        "def load_data(D=1,randomize=False):\n",
        "    try:\n",
        "        with open('/content/drive/MyDrive/ML_Data/df_train_'+str(D)+'D.pickle', 'rb') as handle:\n",
        "            df_train = pickle.load(handle)\n",
        "    except:\n",
        "        df_train = pd.read_pickle(\"C:/Users/nik00/py/proj/hyppi-train.pkl\")\n",
        "    try:\n",
        "        with open('/content/drive/MyDrive/ML_Data/df_test_'+str(D)+'D.pickle', 'rb') as handle:\n",
        "            df_test = pickle.load(handle)\n",
        "    except:\n",
        "        df_test = pd.read_pickle(\"C:/Users/nik00/py/proj/hyppi-independent.pkl\")\n",
        "    if randomize:\n",
        "        return shuff_together(df_train,df_test)\n",
        "    else:\n",
        "        return df_train,df_test\n",
        "# df_train,df_test = load_data()\n",
        "# print('The data used will be:')\n",
        "# df_train[['Joined']]"
      ],
      "execution_count": null,
      "outputs": [
        {
          "output_type": "stream",
          "text": [
            "Collecting pickle5\n",
            "\u001b[?25l  Downloading https://files.pythonhosted.org/packages/f7/4c/5c4dd0462c8d3a6bc4af500a6af240763c2ebd1efdc736fc2c946d44b70a/pickle5-0.0.11.tar.gz (132kB)\n",
            "\r\u001b[K     |██▌                             | 10kB 15.9MB/s eta 0:00:01\r\u001b[K     |█████                           | 20kB 19.3MB/s eta 0:00:01\r\u001b[K     |███████▍                        | 30kB 15.1MB/s eta 0:00:01\r\u001b[K     |██████████                      | 40kB 14.2MB/s eta 0:00:01\r\u001b[K     |████████████▍                   | 51kB 11.6MB/s eta 0:00:01\r\u001b[K     |██████████████▉                 | 61kB 13.2MB/s eta 0:00:01\r\u001b[K     |█████████████████▍              | 71kB 11.9MB/s eta 0:00:01\r\u001b[K     |███████████████████▉            | 81kB 12.7MB/s eta 0:00:01\r\u001b[K     |██████████████████████▎         | 92kB 11.9MB/s eta 0:00:01\r\u001b[K     |████████████████████████▉       | 102kB 11.2MB/s eta 0:00:01\r\u001b[K     |███████████████████████████▎    | 112kB 11.2MB/s eta 0:00:01\r\u001b[K     |█████████████████████████████▊  | 122kB 11.2MB/s eta 0:00:01\r\u001b[K     |████████████████████████████████| 133kB 11.2MB/s \n",
            "\u001b[?25hBuilding wheels for collected packages: pickle5\n",
            "  Building wheel for pickle5 (setup.py) ... \u001b[?25l\u001b[?25hdone\n",
            "  Created wheel for pickle5: filename=pickle5-0.0.11-cp37-cp37m-linux_x86_64.whl size=219235 sha256=352ca99ea48d23f29fc24857cb107f41367610e30a5094c03ea809412dfc885f\n",
            "  Stored in directory: /root/.cache/pip/wheels/a6/90/95/f889ca4aa8b0e0c7f21c8470b6f5d6032f0390a3a141a9a3bd\n",
            "Successfully built pickle5\n",
            "Installing collected packages: pickle5\n",
            "Successfully installed pickle5-0.0.11\n"
          ],
          "name": "stdout"
        }
      ]
    },
    {
      "cell_type": "code",
      "metadata": {
        "colab": {
          "base_uri": "https://localhost:8080/",
          "height": 429
        },
        "id": "nMGBLQqKItlE",
        "outputId": "46b9210b-22f7-482d-bf8f-8dcf3bb64a7f"
      },
      "source": [
        "df_train,df_test = load_data(1)\n",
        "print('The data used will be:')\n",
        "df_train[['Joined']]"
      ],
      "execution_count": null,
      "outputs": [
        {
          "output_type": "stream",
          "text": [
            "The data used will be:\n"
          ],
          "name": "stdout"
        },
        {
          "output_type": "execute_result",
          "data": {
            "text/html": [
              "<div>\n",
              "<style scoped>\n",
              "    .dataframe tbody tr th:only-of-type {\n",
              "        vertical-align: middle;\n",
              "    }\n",
              "\n",
              "    .dataframe tbody tr th {\n",
              "        vertical-align: top;\n",
              "    }\n",
              "\n",
              "    .dataframe thead th {\n",
              "        text-align: right;\n",
              "    }\n",
              "</style>\n",
              "<table border=\"1\" class=\"dataframe\">\n",
              "  <thead>\n",
              "    <tr style=\"text-align: right;\">\n",
              "      <th></th>\n",
              "      <th>Joined</th>\n",
              "    </tr>\n",
              "  </thead>\n",
              "  <tbody>\n",
              "    <tr>\n",
              "      <th>0</th>\n",
              "      <td>[M, K, D, K, Q, K, K, K, K, E, R, T, W, A, E, ...</td>\n",
              "    </tr>\n",
              "    <tr>\n",
              "      <th>1</th>\n",
              "      <td>[M, S, W, S, G, L, L, H, G, L, N, T, S, L, T, ...</td>\n",
              "    </tr>\n",
              "    <tr>\n",
              "      <th>2</th>\n",
              "      <td>[M, S, L, F, D, L, F, R, G, F, F, G, F, P, G, ...</td>\n",
              "    </tr>\n",
              "    <tr>\n",
              "      <th>3</th>\n",
              "      <td>[M, A, V, A, P, R, L, F, G, G, L, C, F, R, F, ...</td>\n",
              "    </tr>\n",
              "    <tr>\n",
              "      <th>4</th>\n",
              "      <td>[M, S, T, I, Q, S, E, T, D, C, Y, D, I, I, E, ...</td>\n",
              "    </tr>\n",
              "    <tr>\n",
              "      <th>...</th>\n",
              "      <td>...</td>\n",
              "    </tr>\n",
              "    <tr>\n",
              "      <th>6265</th>\n",
              "      <td>[M, S, Y, F, G, E, H, F, W, G, E, K, N, H, G, ...</td>\n",
              "    </tr>\n",
              "    <tr>\n",
              "      <th>6266</th>\n",
              "      <td>[M, T, V, G, K, S, S, K, M, L, Q, H, I, D, Y, ...</td>\n",
              "    </tr>\n",
              "    <tr>\n",
              "      <th>6267</th>\n",
              "      <td>[M, N, N, L, S, F, S, E, L, C, C, L, F, C, C, ...</td>\n",
              "    </tr>\n",
              "    <tr>\n",
              "      <th>6268</th>\n",
              "      <td>[M, A, P, E, I, N, L, P, G, P, M, S, L, I, D, ...</td>\n",
              "    </tr>\n",
              "    <tr>\n",
              "      <th>6269</th>\n",
              "      <td>[M, M, L, G, T, E, G, G, E, G, F, V, V, K, V, ...</td>\n",
              "    </tr>\n",
              "  </tbody>\n",
              "</table>\n",
              "<p>6270 rows × 1 columns</p>\n",
              "</div>"
            ],
            "text/plain": [
              "                                                 Joined\n",
              "0     [M, K, D, K, Q, K, K, K, K, E, R, T, W, A, E, ...\n",
              "1     [M, S, W, S, G, L, L, H, G, L, N, T, S, L, T, ...\n",
              "2     [M, S, L, F, D, L, F, R, G, F, F, G, F, P, G, ...\n",
              "3     [M, A, V, A, P, R, L, F, G, G, L, C, F, R, F, ...\n",
              "4     [M, S, T, I, Q, S, E, T, D, C, Y, D, I, I, E, ...\n",
              "...                                                 ...\n",
              "6265  [M, S, Y, F, G, E, H, F, W, G, E, K, N, H, G, ...\n",
              "6266  [M, T, V, G, K, S, S, K, M, L, Q, H, I, D, Y, ...\n",
              "6267  [M, N, N, L, S, F, S, E, L, C, C, L, F, C, C, ...\n",
              "6268  [M, A, P, E, I, N, L, P, G, P, M, S, L, I, D, ...\n",
              "6269  [M, M, L, G, T, E, G, G, E, G, F, V, V, K, V, ...\n",
              "\n",
              "[6270 rows x 1 columns]"
            ]
          },
          "metadata": {
            "tags": []
          },
          "execution_count": 8
        }
      ]
    },
    {
      "cell_type": "code",
      "metadata": {
        "colab": {
          "base_uri": "https://localhost:8080/"
        },
        "id": "yyAwcR6TIuz0",
        "outputId": "fbd81b1f-7b9b-4979-cf1b-cb50cfd972f4"
      },
      "source": [
        "data_join,data_test_join,num_words_join,MAX_SEQUENCE_LENGTH_,MAX_VOCAB_SIZE_ = f.get_seq_data_join(5000,2000,df_train,df_test,pad='pre')"
      ],
      "execution_count": null,
      "outputs": [
        {
          "output_type": "stream",
          "text": [
            "MAX_VOCAB_SIZE is 5000\n",
            "MAX_SEQUENCE_LENGTH is 2000\n",
            "max sequence_data length: 8966\n",
            "min sequence_data length: 107\n",
            "median sequence_data length: 881\n",
            "max word index: 20\n",
            "Found 20 unique tokens.\n",
            "pre padding.\n",
            "Shape of data tensor: (6270, 2000)\n",
            "max sequences_test length: 6126\n",
            "min sequences_test length: 134\n",
            "median sequences_test length: 901\n",
            "pre padding for test seq.\n",
            "Shape of data_test tensor: (1514, 2000)\n",
            "num_words is 21\n"
          ],
          "name": "stdout"
        }
      ]
    },
    {
      "cell_type": "code",
      "metadata": {
        "colab": {
          "base_uri": "https://localhost:8080/"
        },
        "id": "WTTCozoEIvE0",
        "outputId": "0fd57945-fdbe-4a85-8e3d-a6cba7313913"
      },
      "source": [
        "DROP = 0.4\n",
        "BATCH_SIZE = 64\n",
        "EPOCHS = 10\n",
        "ip = f.transf_model(MAX_SEQUENCE_LENGTH_,num_words_join,5,DROP)\n",
        "x = Dropout(DROP)(ip.output)\n",
        "x = Dense(128, activation=\"relu\")(x)\n",
        "x = Dropout(DROP)(x)\n",
        "outputs = Dense(1, activation=\"sigmoid\")(x)\n",
        "model1D_CNN_join=Model(ip.input,outputs)\n",
        "\n",
        "model1D_CNN_join.compile(loss='binary_crossentropy', optimizer=Adam(lr=0.01), metrics=['accuracy'])\n",
        "model1D_CNN_join.fit(data_join, df_train['label'].values,batch_size= BATCH_SIZE,epochs=EPOCHS, validation_data=(data_test_join,df_test['label'].values))\n",
        "print(roc_auc_score(df_test['label'].values, model1D_CNN_join.predict(data_test_join)))"
      ],
      "execution_count": null,
      "outputs": [
        {
          "output_type": "stream",
          "text": [
            "Epoch 1/10\n",
            "98/98 [==============================] - 22s 209ms/step - loss: 0.6859 - accuracy: 0.5674 - val_loss: 0.6561 - val_accuracy: 0.6189\n",
            "Epoch 2/10\n",
            "98/98 [==============================] - 20s 205ms/step - loss: 0.6576 - accuracy: 0.6209 - val_loss: 0.6204 - val_accuracy: 0.6678\n",
            "Epoch 3/10\n",
            "98/98 [==============================] - 20s 205ms/step - loss: 0.6496 - accuracy: 0.6290 - val_loss: 0.6204 - val_accuracy: 0.6691\n",
            "Epoch 4/10\n",
            "98/98 [==============================] - 20s 204ms/step - loss: 0.6443 - accuracy: 0.6383 - val_loss: 0.6257 - val_accuracy: 0.6764\n",
            "Epoch 5/10\n",
            "98/98 [==============================] - 20s 205ms/step - loss: 0.6517 - accuracy: 0.6195 - val_loss: 0.6089 - val_accuracy: 0.6744\n",
            "Epoch 6/10\n",
            "98/98 [==============================] - 20s 204ms/step - loss: 0.6388 - accuracy: 0.6424 - val_loss: 0.6263 - val_accuracy: 0.6585\n",
            "Epoch 7/10\n",
            "98/98 [==============================] - 20s 204ms/step - loss: 0.6424 - accuracy: 0.6265 - val_loss: 0.6090 - val_accuracy: 0.6790\n",
            "Epoch 8/10\n",
            "98/98 [==============================] - 20s 205ms/step - loss: 0.6410 - accuracy: 0.6420 - val_loss: 0.6134 - val_accuracy: 0.6757\n",
            "Epoch 9/10\n",
            "98/98 [==============================] - 20s 205ms/step - loss: 0.6348 - accuracy: 0.6402 - val_loss: 0.6147 - val_accuracy: 0.6691\n",
            "Epoch 10/10\n",
            "98/98 [==============================] - 20s 205ms/step - loss: 0.6206 - accuracy: 0.6406 - val_loss: 0.6060 - val_accuracy: 0.6737\n",
            "0.7501915193988646\n"
          ],
          "name": "stdout"
        }
      ]
    },
    {
      "cell_type": "code",
      "metadata": {
        "colab": {
          "base_uri": "https://localhost:8080/",
          "height": 429
        },
        "id": "K9inJ9zeEr3o",
        "outputId": "7e0b4014-7944-42b5-e976-351b22d45a00"
      },
      "source": [
        "df_train,df_test = load_data(2)\n",
        "print('The data used will be:')\n",
        "df_train[['Joined']]"
      ],
      "execution_count": null,
      "outputs": [
        {
          "output_type": "stream",
          "text": [
            "The data used will be:\n"
          ],
          "name": "stdout"
        },
        {
          "output_type": "execute_result",
          "data": {
            "text/html": [
              "<div>\n",
              "<style scoped>\n",
              "    .dataframe tbody tr th:only-of-type {\n",
              "        vertical-align: middle;\n",
              "    }\n",
              "\n",
              "    .dataframe tbody tr th {\n",
              "        vertical-align: top;\n",
              "    }\n",
              "\n",
              "    .dataframe thead th {\n",
              "        text-align: right;\n",
              "    }\n",
              "</style>\n",
              "<table border=\"1\" class=\"dataframe\">\n",
              "  <thead>\n",
              "    <tr style=\"text-align: right;\">\n",
              "      <th></th>\n",
              "      <th>Joined</th>\n",
              "    </tr>\n",
              "  </thead>\n",
              "  <tbody>\n",
              "    <tr>\n",
              "      <th>0</th>\n",
              "      <td>[MK, KD, DK, KQ, QK, KK, KK, KK, KE, ER, RT, T...</td>\n",
              "    </tr>\n",
              "    <tr>\n",
              "      <th>1</th>\n",
              "      <td>[MS, SW, WS, SG, GL, LL, LH, HG, GL, LN, NT, T...</td>\n",
              "    </tr>\n",
              "    <tr>\n",
              "      <th>2</th>\n",
              "      <td>[MS, SL, LF, FD, DL, LF, FR, RG, GF, FF, FG, G...</td>\n",
              "    </tr>\n",
              "    <tr>\n",
              "      <th>3</th>\n",
              "      <td>[MA, AV, VA, AP, PR, RL, LF, FG, GG, GL, LC, C...</td>\n",
              "    </tr>\n",
              "    <tr>\n",
              "      <th>4</th>\n",
              "      <td>[MS, ST, TI, IQ, QS, SE, ET, TD, DC, CY, YD, D...</td>\n",
              "    </tr>\n",
              "    <tr>\n",
              "      <th>...</th>\n",
              "      <td>...</td>\n",
              "    </tr>\n",
              "    <tr>\n",
              "      <th>6265</th>\n",
              "      <td>[MS, SY, YF, FG, GE, EH, HF, FW, WG, GE, EK, K...</td>\n",
              "    </tr>\n",
              "    <tr>\n",
              "      <th>6266</th>\n",
              "      <td>[MT, TV, VG, GK, KS, SS, SK, KM, ML, LQ, QH, H...</td>\n",
              "    </tr>\n",
              "    <tr>\n",
              "      <th>6267</th>\n",
              "      <td>[MN, NN, NL, LS, SF, FS, SE, EL, LC, CC, CL, L...</td>\n",
              "    </tr>\n",
              "    <tr>\n",
              "      <th>6268</th>\n",
              "      <td>[MA, AP, PE, EI, IN, NL, LP, PG, GP, PM, MS, S...</td>\n",
              "    </tr>\n",
              "    <tr>\n",
              "      <th>6269</th>\n",
              "      <td>[MM, ML, LG, GT, TE, EG, GG, GE, EG, GF, FV, V...</td>\n",
              "    </tr>\n",
              "  </tbody>\n",
              "</table>\n",
              "<p>6270 rows × 1 columns</p>\n",
              "</div>"
            ],
            "text/plain": [
              "                                                 Joined\n",
              "0     [MK, KD, DK, KQ, QK, KK, KK, KK, KE, ER, RT, T...\n",
              "1     [MS, SW, WS, SG, GL, LL, LH, HG, GL, LN, NT, T...\n",
              "2     [MS, SL, LF, FD, DL, LF, FR, RG, GF, FF, FG, G...\n",
              "3     [MA, AV, VA, AP, PR, RL, LF, FG, GG, GL, LC, C...\n",
              "4     [MS, ST, TI, IQ, QS, SE, ET, TD, DC, CY, YD, D...\n",
              "...                                                 ...\n",
              "6265  [MS, SY, YF, FG, GE, EH, HF, FW, WG, GE, EK, K...\n",
              "6266  [MT, TV, VG, GK, KS, SS, SK, KM, ML, LQ, QH, H...\n",
              "6267  [MN, NN, NL, LS, SF, FS, SE, EL, LC, CC, CL, L...\n",
              "6268  [MA, AP, PE, EI, IN, NL, LP, PG, GP, PM, MS, S...\n",
              "6269  [MM, ML, LG, GT, TE, EG, GG, GE, EG, GF, FV, V...\n",
              "\n",
              "[6270 rows x 1 columns]"
            ]
          },
          "metadata": {
            "tags": []
          },
          "execution_count": 2
        }
      ]
    },
    {
      "cell_type": "code",
      "metadata": {
        "colab": {
          "base_uri": "https://localhost:8080/"
        },
        "id": "MxpKRxLzEsAn",
        "outputId": "131271e0-833c-4b0c-bac6-6bcfda0953d8"
      },
      "source": [
        "data_join,data_test_join,num_words_join,MAX_SEQUENCE_LENGTH_,MAX_VOCAB_SIZE_ = f.get_seq_data_join(5000,2000,df_train,df_test,pad='pre')"
      ],
      "execution_count": null,
      "outputs": [
        {
          "output_type": "stream",
          "text": [
            "MAX_VOCAB_SIZE is 5000\n",
            "MAX_SEQUENCE_LENGTH is 2000\n",
            "max sequence_data length: 8964\n",
            "min sequence_data length: 105\n",
            "median sequence_data length: 879\n",
            "max word index: 400\n",
            "Found 400 unique tokens.\n",
            "pre padding.\n",
            "Shape of data tensor: (6270, 2000)\n",
            "max sequences_test length: 6124\n",
            "min sequences_test length: 132\n",
            "median sequences_test length: 899\n",
            "pre padding for test seq.\n",
            "Shape of data_test tensor: (1514, 2000)\n",
            "num_words is 401\n"
          ],
          "name": "stdout"
        }
      ]
    },
    {
      "cell_type": "code",
      "metadata": {
        "colab": {
          "base_uri": "https://localhost:8080/"
        },
        "id": "5D29Cn6-Hbxn",
        "outputId": "8f0789c3-8e26-4338-dfdb-07b40219b761"
      },
      "source": [
        "DROP = 0.3\n",
        "BATCH_SIZE = 64\n",
        "EPOCHS = 10\n",
        "ip = f.transf_model(MAX_SEQUENCE_LENGTH_,num_words_join,EMBEDDING_DIM=5)\n",
        "x = Dropout(DROP)(ip.output)\n",
        "x = Dense(128, activation=\"relu\")(x)\n",
        "x = Dropout(DROP)(x)\n",
        "outputs = Dense(1, activation=\"sigmoid\")(x)\n",
        "model1D_CNN_join=Model(ip.input,outputs)\n",
        "\n",
        "model1D_CNN_join.compile(loss='binary_crossentropy', optimizer=Adam(lr=0.01), metrics=['accuracy'])\n",
        "model1D_CNN_join.fit(data_join, df_train['label'].values,batch_size= BATCH_SIZE,epochs=EPOCHS, validation_data=(data_test_join,df_test['label'].values))\n",
        "print(roc_auc_score(df_test['label'].values, model1D_CNN_join.predict(data_test_join)))"
      ],
      "execution_count": null,
      "outputs": [
        {
          "output_type": "stream",
          "text": [
            "Epoch 1/10\n",
            "98/98 [==============================] - 22s 209ms/step - loss: 0.6846 - accuracy: 0.5606 - val_loss: 0.6248 - val_accuracy: 0.6697\n",
            "Epoch 2/10\n",
            "98/98 [==============================] - 20s 205ms/step - loss: 0.6451 - accuracy: 0.6366 - val_loss: 0.6107 - val_accuracy: 0.6797\n",
            "Epoch 3/10\n",
            "98/98 [==============================] - 20s 206ms/step - loss: 0.6460 - accuracy: 0.6332 - val_loss: 0.6114 - val_accuracy: 0.6823\n",
            "Epoch 4/10\n",
            "98/98 [==============================] - 20s 206ms/step - loss: 0.6337 - accuracy: 0.6483 - val_loss: 0.6008 - val_accuracy: 0.6849\n",
            "Epoch 5/10\n",
            "98/98 [==============================] - 20s 205ms/step - loss: 0.6380 - accuracy: 0.6383 - val_loss: 0.5942 - val_accuracy: 0.7041\n",
            "Epoch 6/10\n",
            "98/98 [==============================] - 20s 205ms/step - loss: 0.6096 - accuracy: 0.6678 - val_loss: 0.5810 - val_accuracy: 0.7100\n",
            "Epoch 7/10\n",
            "98/98 [==============================] - 20s 205ms/step - loss: 0.5967 - accuracy: 0.6860 - val_loss: 0.5769 - val_accuracy: 0.7166\n",
            "Epoch 8/10\n",
            "98/98 [==============================] - 20s 205ms/step - loss: 0.5784 - accuracy: 0.7006 - val_loss: 0.5742 - val_accuracy: 0.6995\n",
            "Epoch 9/10\n",
            "98/98 [==============================] - 20s 205ms/step - loss: 0.5340 - accuracy: 0.7319 - val_loss: 0.6318 - val_accuracy: 0.6288\n",
            "Epoch 10/10\n",
            "98/98 [==============================] - 20s 205ms/step - loss: 0.5232 - accuracy: 0.7356 - val_loss: 0.5880 - val_accuracy: 0.6955\n",
            "0.8193513992695213\n"
          ],
          "name": "stdout"
        }
      ]
    },
    {
      "cell_type": "code",
      "metadata": {
        "colab": {
          "base_uri": "https://localhost:8080/",
          "height": 429
        },
        "id": "3nKCdExAlE9Q",
        "outputId": "2b51f03b-3802-4d14-c9bd-2b9c640ad24b"
      },
      "source": [
        "df_train,df_test = load_data(3)\n",
        "print('The data used will be:')\n",
        "df_train[['Joined']]"
      ],
      "execution_count": null,
      "outputs": [
        {
          "output_type": "stream",
          "text": [
            "The data used will be:\n"
          ],
          "name": "stdout"
        },
        {
          "output_type": "execute_result",
          "data": {
            "text/html": [
              "<div>\n",
              "<style scoped>\n",
              "    .dataframe tbody tr th:only-of-type {\n",
              "        vertical-align: middle;\n",
              "    }\n",
              "\n",
              "    .dataframe tbody tr th {\n",
              "        vertical-align: top;\n",
              "    }\n",
              "\n",
              "    .dataframe thead th {\n",
              "        text-align: right;\n",
              "    }\n",
              "</style>\n",
              "<table border=\"1\" class=\"dataframe\">\n",
              "  <thead>\n",
              "    <tr style=\"text-align: right;\">\n",
              "      <th></th>\n",
              "      <th>Joined</th>\n",
              "    </tr>\n",
              "  </thead>\n",
              "  <tbody>\n",
              "    <tr>\n",
              "      <th>0</th>\n",
              "      <td>[MKD, KDK, DKQ, KQK, QKK, KKK, KKK, KKE, KER, ...</td>\n",
              "    </tr>\n",
              "    <tr>\n",
              "      <th>1</th>\n",
              "      <td>[MSW, SWS, WSG, SGL, GLL, LLH, LHG, HGL, GLN, ...</td>\n",
              "    </tr>\n",
              "    <tr>\n",
              "      <th>2</th>\n",
              "      <td>[MSL, SLF, LFD, FDL, DLF, LFR, FRG, RGF, GFF, ...</td>\n",
              "    </tr>\n",
              "    <tr>\n",
              "      <th>3</th>\n",
              "      <td>[MAV, AVA, VAP, APR, PRL, RLF, LFG, FGG, GGL, ...</td>\n",
              "    </tr>\n",
              "    <tr>\n",
              "      <th>4</th>\n",
              "      <td>[MST, STI, TIQ, IQS, QSE, SET, ETD, TDC, DCY, ...</td>\n",
              "    </tr>\n",
              "    <tr>\n",
              "      <th>...</th>\n",
              "      <td>...</td>\n",
              "    </tr>\n",
              "    <tr>\n",
              "      <th>6265</th>\n",
              "      <td>[MSY, SYF, YFG, FGE, GEH, EHF, HFW, FWG, WGE, ...</td>\n",
              "    </tr>\n",
              "    <tr>\n",
              "      <th>6266</th>\n",
              "      <td>[MTV, TVG, VGK, GKS, KSS, SSK, SKM, KML, MLQ, ...</td>\n",
              "    </tr>\n",
              "    <tr>\n",
              "      <th>6267</th>\n",
              "      <td>[MNN, NNL, NLS, LSF, SFS, FSE, SEL, ELC, LCC, ...</td>\n",
              "    </tr>\n",
              "    <tr>\n",
              "      <th>6268</th>\n",
              "      <td>[MAP, APE, PEI, EIN, INL, NLP, LPG, PGP, GPM, ...</td>\n",
              "    </tr>\n",
              "    <tr>\n",
              "      <th>6269</th>\n",
              "      <td>[MML, MLG, LGT, GTE, TEG, EGG, GGE, GEG, EGF, ...</td>\n",
              "    </tr>\n",
              "  </tbody>\n",
              "</table>\n",
              "<p>6270 rows × 1 columns</p>\n",
              "</div>"
            ],
            "text/plain": [
              "                                                 Joined\n",
              "0     [MKD, KDK, DKQ, KQK, QKK, KKK, KKK, KKE, KER, ...\n",
              "1     [MSW, SWS, WSG, SGL, GLL, LLH, LHG, HGL, GLN, ...\n",
              "2     [MSL, SLF, LFD, FDL, DLF, LFR, FRG, RGF, GFF, ...\n",
              "3     [MAV, AVA, VAP, APR, PRL, RLF, LFG, FGG, GGL, ...\n",
              "4     [MST, STI, TIQ, IQS, QSE, SET, ETD, TDC, DCY, ...\n",
              "...                                                 ...\n",
              "6265  [MSY, SYF, YFG, FGE, GEH, EHF, HFW, FWG, WGE, ...\n",
              "6266  [MTV, TVG, VGK, GKS, KSS, SSK, SKM, KML, MLQ, ...\n",
              "6267  [MNN, NNL, NLS, LSF, SFS, FSE, SEL, ELC, LCC, ...\n",
              "6268  [MAP, APE, PEI, EIN, INL, NLP, LPG, PGP, GPM, ...\n",
              "6269  [MML, MLG, LGT, GTE, TEG, EGG, GGE, GEG, EGF, ...\n",
              "\n",
              "[6270 rows x 1 columns]"
            ]
          },
          "metadata": {
            "tags": []
          },
          "execution_count": 2
        }
      ]
    },
    {
      "cell_type": "code",
      "metadata": {
        "colab": {
          "base_uri": "https://localhost:8080/"
        },
        "id": "vMOFaHA_D4fF",
        "outputId": "168c7c3b-23f0-4b58-e1d1-c32773478064"
      },
      "source": [
        "data_join,data_test_join,num_words_join,MAX_SEQUENCE_LENGTH_,MAX_VOCAB_SIZE_ = f.get_seq_data_join(5000,2000,df_train,df_test,pad='pre')"
      ],
      "execution_count": null,
      "outputs": [
        {
          "output_type": "stream",
          "text": [
            "MAX_VOCAB_SIZE is 5000\n",
            "MAX_SEQUENCE_LENGTH is 2000\n",
            "max sequence_data length: 7989\n",
            "min sequence_data length: 83\n",
            "median sequence_data length: 775\n",
            "max word index: 4999\n",
            "Found 8000 unique tokens.\n",
            "pre padding.\n",
            "Shape of data tensor: (6270, 2000)\n",
            "max sequences_test length: 5409\n",
            "min sequences_test length: 116\n",
            "median sequences_test length: 796\n",
            "pre padding for test seq.\n",
            "Shape of data_test tensor: (1514, 2000)\n",
            "num_words is 5000\n"
          ],
          "name": "stdout"
        }
      ]
    },
    {
      "cell_type": "code",
      "metadata": {
        "colab": {
          "base_uri": "https://localhost:8080/"
        },
        "id": "hA-APgZKDdEG",
        "outputId": "2a416ffe-d0d2-41c9-86e5-1aae1685e699"
      },
      "source": [
        "DROP = 0.3\n",
        "BATCH_SIZE = 64\n",
        "EPOCHS = 10\n",
        "ip = f.transf_model(MAX_SEQUENCE_LENGTH_,num_words_join,EMBEDDING_DIM=5)\n",
        "x = Dropout(DROP)(ip.output)\n",
        "x = Dense(128, activation=\"relu\")(x)\n",
        "x = Dropout(DROP)(x)\n",
        "outputs = Dense(1, activation=\"sigmoid\")(x)\n",
        "model1D_CNN_join=Model(ip.input,outputs)\n",
        "\n",
        "model1D_CNN_join.compile(loss='binary_crossentropy', optimizer='adam', metrics=['accuracy'])\n",
        "model1D_CNN_join.fit(data_join, df_train['label'].values,batch_size= BATCH_SIZE,epochs=EPOCHS, validation_data=(data_test_join,df_test['label'].values))\n",
        "print(roc_auc_score(df_test['label'].values, model1D_CNN_join.predict(data_test_join)))"
      ],
      "execution_count": null,
      "outputs": [
        {
          "output_type": "stream",
          "text": [
            "Epoch 1/10\n",
            "98/98 [==============================] - 22s 207ms/step - loss: 0.6701 - accuracy: 0.5752 - val_loss: 0.6148 - val_accuracy: 0.6678\n",
            "Epoch 2/10\n",
            "98/98 [==============================] - 20s 205ms/step - loss: 0.6351 - accuracy: 0.6405 - val_loss: 0.6012 - val_accuracy: 0.6856\n",
            "Epoch 3/10\n",
            "98/98 [==============================] - 20s 205ms/step - loss: 0.6186 - accuracy: 0.6495 - val_loss: 0.5958 - val_accuracy: 0.6942\n",
            "Epoch 4/10\n",
            "98/98 [==============================] - 20s 205ms/step - loss: 0.5926 - accuracy: 0.6799 - val_loss: 0.5621 - val_accuracy: 0.7417\n",
            "Epoch 5/10\n",
            "98/98 [==============================] - 20s 205ms/step - loss: 0.5466 - accuracy: 0.7287 - val_loss: 0.5297 - val_accuracy: 0.7450\n",
            "Epoch 6/10\n",
            "98/98 [==============================] - 20s 205ms/step - loss: 0.4891 - accuracy: 0.7628 - val_loss: 0.5001 - val_accuracy: 0.7695\n",
            "Epoch 7/10\n",
            "98/98 [==============================] - 20s 205ms/step - loss: 0.4301 - accuracy: 0.8065 - val_loss: 0.5087 - val_accuracy: 0.7688\n",
            "Epoch 8/10\n",
            "98/98 [==============================] - 20s 205ms/step - loss: 0.3875 - accuracy: 0.8318 - val_loss: 0.5421 - val_accuracy: 0.7649\n",
            "Epoch 9/10\n",
            "98/98 [==============================] - 20s 205ms/step - loss: 0.3358 - accuracy: 0.8599 - val_loss: 0.5287 - val_accuracy: 0.7774\n",
            "Epoch 10/10\n",
            "98/98 [==============================] - 20s 205ms/step - loss: 0.2704 - accuracy: 0.8888 - val_loss: 0.5564 - val_accuracy: 0.7655\n",
            "0.8465532615884506\n"
          ],
          "name": "stdout"
        }
      ]
    },
    {
      "cell_type": "code",
      "metadata": {
        "colab": {
          "base_uri": "https://localhost:8080/",
          "height": 429
        },
        "id": "gYi15pT2p6Ym",
        "outputId": "38efa749-900a-4ae2-cd8c-9147fc24a58b"
      },
      "source": [
        "df_train,df_test = load_data(4)\n",
        "print('The data used will be:')\n",
        "df_train[['Joined']]"
      ],
      "execution_count": null,
      "outputs": [
        {
          "output_type": "stream",
          "text": [
            "The data used will be:\n"
          ],
          "name": "stdout"
        },
        {
          "output_type": "execute_result",
          "data": {
            "text/html": [
              "<div>\n",
              "<style scoped>\n",
              "    .dataframe tbody tr th:only-of-type {\n",
              "        vertical-align: middle;\n",
              "    }\n",
              "\n",
              "    .dataframe tbody tr th {\n",
              "        vertical-align: top;\n",
              "    }\n",
              "\n",
              "    .dataframe thead th {\n",
              "        text-align: right;\n",
              "    }\n",
              "</style>\n",
              "<table border=\"1\" class=\"dataframe\">\n",
              "  <thead>\n",
              "    <tr style=\"text-align: right;\">\n",
              "      <th></th>\n",
              "      <th>Joined</th>\n",
              "    </tr>\n",
              "  </thead>\n",
              "  <tbody>\n",
              "    <tr>\n",
              "      <th>0</th>\n",
              "      <td>[MKDK, KDKQ, DKQK, KQKK, QKKK, KKKK, KKKE, KKE...</td>\n",
              "    </tr>\n",
              "    <tr>\n",
              "      <th>1</th>\n",
              "      <td>[MSWS, SWSG, WSGL, SGLL, GLLH, LLHG, LHGL, HGL...</td>\n",
              "    </tr>\n",
              "    <tr>\n",
              "      <th>2</th>\n",
              "      <td>[MSLF, SLFD, LFDL, FDLF, DLFR, LFRG, FRGF, RGF...</td>\n",
              "    </tr>\n",
              "    <tr>\n",
              "      <th>3</th>\n",
              "      <td>[MAVA, AVAP, VAPR, APRL, PRLF, RLFG, LFGG, FGG...</td>\n",
              "    </tr>\n",
              "    <tr>\n",
              "      <th>4</th>\n",
              "      <td>[MSTI, STIQ, TIQS, IQSE, QSET, SETD, ETDC, TDC...</td>\n",
              "    </tr>\n",
              "    <tr>\n",
              "      <th>...</th>\n",
              "      <td>...</td>\n",
              "    </tr>\n",
              "    <tr>\n",
              "      <th>6265</th>\n",
              "      <td>[MSYF, SYFG, YFGE, FGEH, GEHF, EHFW, HFWG, FWG...</td>\n",
              "    </tr>\n",
              "    <tr>\n",
              "      <th>6266</th>\n",
              "      <td>[MTVG, TVGK, VGKS, GKSS, KSSK, SSKM, SKML, KML...</td>\n",
              "    </tr>\n",
              "    <tr>\n",
              "      <th>6267</th>\n",
              "      <td>[MNNL, NNLS, NLSF, LSFS, SFSE, FSEL, SELC, ELC...</td>\n",
              "    </tr>\n",
              "    <tr>\n",
              "      <th>6268</th>\n",
              "      <td>[MAPE, APEI, PEIN, EINL, INLP, NLPG, LPGP, PGP...</td>\n",
              "    </tr>\n",
              "    <tr>\n",
              "      <th>6269</th>\n",
              "      <td>[MMLG, MLGT, LGTE, GTEG, TEGG, EGGE, GGEG, GEG...</td>\n",
              "    </tr>\n",
              "  </tbody>\n",
              "</table>\n",
              "<p>6270 rows × 1 columns</p>\n",
              "</div>"
            ],
            "text/plain": [
              "                                                 Joined\n",
              "0     [MKDK, KDKQ, DKQK, KQKK, QKKK, KKKK, KKKE, KKE...\n",
              "1     [MSWS, SWSG, WSGL, SGLL, GLLH, LLHG, LHGL, HGL...\n",
              "2     [MSLF, SLFD, LFDL, FDLF, DLFR, LFRG, FRGF, RGF...\n",
              "3     [MAVA, AVAP, VAPR, APRL, PRLF, RLFG, LFGG, FGG...\n",
              "4     [MSTI, STIQ, TIQS, IQSE, QSET, SETD, ETDC, TDC...\n",
              "...                                                 ...\n",
              "6265  [MSYF, SYFG, YFGE, FGEH, GEHF, EHFW, HFWG, FWG...\n",
              "6266  [MTVG, TVGK, VGKS, GKSS, KSSK, SSKM, SKML, KML...\n",
              "6267  [MNNL, NNLS, NLSF, LSFS, SFSE, FSEL, SELC, ELC...\n",
              "6268  [MAPE, APEI, PEIN, EINL, INLP, NLPG, LPGP, PGP...\n",
              "6269  [MMLG, MLGT, LGTE, GTEG, TEGG, EGGE, GGEG, GEG...\n",
              "\n",
              "[6270 rows x 1 columns]"
            ]
          },
          "metadata": {
            "tags": []
          },
          "execution_count": 11
        }
      ]
    },
    {
      "cell_type": "code",
      "metadata": {
        "colab": {
          "base_uri": "https://localhost:8080/"
        },
        "id": "7GML-Ka7H10W",
        "outputId": "01818788-5d8b-4d0c-996c-fc8fbcfb39f9"
      },
      "source": [
        "data_join,data_test_join,num_words_join,MAX_SEQUENCE_LENGTH_,MAX_VOCAB_SIZE_ = f.get_seq_data_join(100000,2000,df_train,df_test,pad='pre')"
      ],
      "execution_count": null,
      "outputs": [
        {
          "output_type": "stream",
          "text": [
            "MAX_VOCAB_SIZE is 100000\n",
            "MAX_SEQUENCE_LENGTH is 2000\n",
            "max sequence_data length: 8192\n",
            "min sequence_data length: 89\n",
            "median sequence_data length: 805\n",
            "max word index: 99999\n",
            "Found 157062 unique tokens.\n",
            "pre padding.\n",
            "Shape of data tensor: (6270, 2000)\n",
            "max sequences_test length: 5586\n",
            "min sequences_test length: 115\n",
            "median sequences_test length: 825\n",
            "pre padding for test seq.\n",
            "Shape of data_test tensor: (1514, 2000)\n",
            "num_words is 100000\n"
          ],
          "name": "stdout"
        }
      ]
    },
    {
      "cell_type": "code",
      "metadata": {
        "colab": {
          "base_uri": "https://localhost:8080/"
        },
        "id": "Zs8_ugQ8Ijpt",
        "outputId": "d6e5db58-8220-48c8-af2e-09a8c52b89c6"
      },
      "source": [
        "DROP = 0.5\n",
        "BATCH_SIZE = 64\n",
        "EPOCHS = 10\n",
        "ip = f.transf_model(MAX_SEQUENCE_LENGTH_,num_words_join,5,DROP)\n",
        "x = Dropout(DROP)(ip.output)\n",
        "x = Dense(128, activation=\"relu\")(x)\n",
        "x = Dropout(DROP)(x)\n",
        "outputs = Dense(1, activation=\"sigmoid\")(x)\n",
        "model1D_CNN_join=Model(ip.input,outputs)\n",
        "\n",
        "model1D_CNN_join.compile(loss='binary_crossentropy', optimizer='adam', metrics=['accuracy'])\n",
        "model1D_CNN_join.fit(data_join, df_train['label'].values,batch_size= BATCH_SIZE,epochs=EPOCHS, validation_data=(data_test_join,df_test['label'].values))\n",
        "print(roc_auc_score(df_test['label'].values, model1D_CNN_join.predict(data_test_join)))"
      ],
      "execution_count": null,
      "outputs": [
        {
          "output_type": "stream",
          "text": [
            "Epoch 1/10\n",
            "98/98 [==============================] - 22s 216ms/step - loss: 0.6839 - accuracy: 0.5441 - val_loss: 0.6063 - val_accuracy: 0.6797\n",
            "Epoch 2/10\n",
            "98/98 [==============================] - 21s 214ms/step - loss: 0.6104 - accuracy: 0.6645 - val_loss: 0.5800 - val_accuracy: 0.6783\n",
            "Epoch 3/10\n",
            "98/98 [==============================] - 21s 213ms/step - loss: 0.4972 - accuracy: 0.7580 - val_loss: 0.5162 - val_accuracy: 0.7556\n",
            "Epoch 4/10\n",
            "98/98 [==============================] - 21s 213ms/step - loss: 0.2725 - accuracy: 0.8943 - val_loss: 0.5288 - val_accuracy: 0.7721\n",
            "Epoch 5/10\n",
            "98/98 [==============================] - 21s 213ms/step - loss: 0.1587 - accuracy: 0.9430 - val_loss: 0.6726 - val_accuracy: 0.7794\n",
            "Epoch 6/10\n",
            "98/98 [==============================] - 21s 213ms/step - loss: 0.1453 - accuracy: 0.9419 - val_loss: 0.5808 - val_accuracy: 0.8078\n",
            "Epoch 7/10\n",
            "98/98 [==============================] - 21s 214ms/step - loss: 0.0732 - accuracy: 0.9759 - val_loss: 0.6822 - val_accuracy: 0.8065\n",
            "Epoch 8/10\n",
            "98/98 [==============================] - 21s 211ms/step - loss: 0.0528 - accuracy: 0.9821 - val_loss: 0.7099 - val_accuracy: 0.8065\n",
            "Epoch 9/10\n",
            "98/98 [==============================] - 21s 213ms/step - loss: 0.0255 - accuracy: 0.9936 - val_loss: 0.8761 - val_accuracy: 0.7919\n",
            "Epoch 10/10\n",
            "98/98 [==============================] - 21s 213ms/step - loss: 0.0305 - accuracy: 0.9892 - val_loss: 0.8543 - val_accuracy: 0.8018\n",
            "0.887508747070495\n"
          ],
          "name": "stdout"
        }
      ]
    },
    {
      "cell_type": "code",
      "metadata": {
        "colab": {
          "base_uri": "https://localhost:8080/",
          "height": 429
        },
        "id": "AxolBOqUSmzJ",
        "outputId": "b549fd9c-2aa0-483d-d4f5-9f039ca03d76"
      },
      "source": [
        "df_train,df_test = load_data(5)\n",
        "print('The data used will be:')\n",
        "df_train[['Joined']]"
      ],
      "execution_count": null,
      "outputs": [
        {
          "output_type": "stream",
          "text": [
            "The data used will be:\n"
          ],
          "name": "stdout"
        },
        {
          "output_type": "execute_result",
          "data": {
            "text/html": [
              "<div>\n",
              "<style scoped>\n",
              "    .dataframe tbody tr th:only-of-type {\n",
              "        vertical-align: middle;\n",
              "    }\n",
              "\n",
              "    .dataframe tbody tr th {\n",
              "        vertical-align: top;\n",
              "    }\n",
              "\n",
              "    .dataframe thead th {\n",
              "        text-align: right;\n",
              "    }\n",
              "</style>\n",
              "<table border=\"1\" class=\"dataframe\">\n",
              "  <thead>\n",
              "    <tr style=\"text-align: right;\">\n",
              "      <th></th>\n",
              "      <th>Joined</th>\n",
              "    </tr>\n",
              "  </thead>\n",
              "  <tbody>\n",
              "    <tr>\n",
              "      <th>0</th>\n",
              "      <td>[MKDKQ, KDKQK, DKQKK, KQKKK, QKKKK, KKKKE, KKK...</td>\n",
              "    </tr>\n",
              "    <tr>\n",
              "      <th>1</th>\n",
              "      <td>[MSWSG, SWSGL, WSGLL, SGLLH, GLLHG, LLHGL, LHG...</td>\n",
              "    </tr>\n",
              "    <tr>\n",
              "      <th>2</th>\n",
              "      <td>[MSLFD, SLFDL, LFDLF, FDLFR, DLFRG, LFRGF, FRG...</td>\n",
              "    </tr>\n",
              "    <tr>\n",
              "      <th>3</th>\n",
              "      <td>[MAVAP, AVAPR, VAPRL, APRLF, PRLFG, RLFGG, LFG...</td>\n",
              "    </tr>\n",
              "    <tr>\n",
              "      <th>4</th>\n",
              "      <td>[MSTIQ, STIQS, TIQSE, IQSET, QSETD, SETDC, ETD...</td>\n",
              "    </tr>\n",
              "    <tr>\n",
              "      <th>...</th>\n",
              "      <td>...</td>\n",
              "    </tr>\n",
              "    <tr>\n",
              "      <th>6265</th>\n",
              "      <td>[MSYFG, SYFGE, YFGEH, FGEHF, GEHFW, EHFWG, HFW...</td>\n",
              "    </tr>\n",
              "    <tr>\n",
              "      <th>6266</th>\n",
              "      <td>[MTVGK, TVGKS, VGKSS, GKSSK, KSSKM, SSKML, SKM...</td>\n",
              "    </tr>\n",
              "    <tr>\n",
              "      <th>6267</th>\n",
              "      <td>[MNNLS, NNLSF, NLSFS, LSFSE, SFSEL, FSELC, SEL...</td>\n",
              "    </tr>\n",
              "    <tr>\n",
              "      <th>6268</th>\n",
              "      <td>[MAPEI, APEIN, PEINL, EINLP, INLPG, NLPGP, LPG...</td>\n",
              "    </tr>\n",
              "    <tr>\n",
              "      <th>6269</th>\n",
              "      <td>[MMLGT, MLGTE, LGTEG, GTEGG, TEGGE, EGGEG, GGE...</td>\n",
              "    </tr>\n",
              "  </tbody>\n",
              "</table>\n",
              "<p>6270 rows × 1 columns</p>\n",
              "</div>"
            ],
            "text/plain": [
              "                                                 Joined\n",
              "0     [MKDKQ, KDKQK, DKQKK, KQKKK, QKKKK, KKKKE, KKK...\n",
              "1     [MSWSG, SWSGL, WSGLL, SGLLH, GLLHG, LLHGL, LHG...\n",
              "2     [MSLFD, SLFDL, LFDLF, FDLFR, DLFRG, LFRGF, FRG...\n",
              "3     [MAVAP, AVAPR, VAPRL, APRLF, PRLFG, RLFGG, LFG...\n",
              "4     [MSTIQ, STIQS, TIQSE, IQSET, QSETD, SETDC, ETD...\n",
              "...                                                 ...\n",
              "6265  [MSYFG, SYFGE, YFGEH, FGEHF, GEHFW, EHFWG, HFW...\n",
              "6266  [MTVGK, TVGKS, VGKSS, GKSSK, KSSKM, SSKML, SKM...\n",
              "6267  [MNNLS, NNLSF, NLSFS, LSFSE, SFSEL, FSELC, SEL...\n",
              "6268  [MAPEI, APEIN, PEINL, EINLP, INLPG, NLPGP, LPG...\n",
              "6269  [MMLGT, MLGTE, LGTEG, GTEGG, TEGGE, EGGEG, GGE...\n",
              "\n",
              "[6270 rows x 1 columns]"
            ]
          },
          "metadata": {
            "tags": []
          },
          "execution_count": 51
        }
      ]
    },
    {
      "cell_type": "code",
      "metadata": {
        "colab": {
          "base_uri": "https://localhost:8080/"
        },
        "id": "kMdU8xEDIId9",
        "outputId": "0fddc2a1-df62-4f27-e110-039b320ecee7"
      },
      "source": [
        "data_join,data_test_join,num_words_join,MAX_SEQUENCE_LENGTH_,MAX_VOCAB_SIZE_ = f.get_seq_data_join(500000,2000,df_train,df_test,pad='pre')"
      ],
      "execution_count": null,
      "outputs": [
        {
          "output_type": "stream",
          "text": [
            "MAX_VOCAB_SIZE is 500000\n",
            "MAX_SEQUENCE_LENGTH is 2000\n",
            "max sequence_data length: 5818\n",
            "min sequence_data length: 29\n",
            "median sequence_data length: 585\n",
            "max word index: 499999\n",
            "Found 1562791 unique tokens.\n",
            "pre padding.\n",
            "Shape of data tensor: (6270, 2000)\n",
            "max sequences_test length: 4978\n",
            "min sequences_test length: 53\n",
            "median sequences_test length: 518\n",
            "pre padding for test seq.\n",
            "Shape of data_test tensor: (1514, 2000)\n",
            "num_words is 500000\n"
          ],
          "name": "stdout"
        }
      ]
    },
    {
      "cell_type": "code",
      "metadata": {
        "colab": {
          "base_uri": "https://localhost:8080/"
        },
        "id": "To97Ob7DU-Jy",
        "outputId": "bea056ea-6159-4e09-a21a-1ae536df54df"
      },
      "source": [
        "DROP = 0.7\n",
        "BATCH_SIZE = 64\n",
        "EPOCHS = 10\n",
        "ip = f.transf_model(MAX_SEQUENCE_LENGTH_,num_words_join,5,DROP)\n",
        "x = Dropout(DROP)(ip.output)\n",
        "x = Dense(128, activation=\"relu\")(x)\n",
        "x = Dropout(DROP)(x)\n",
        "outputs = Dense(1, activation=\"sigmoid\")(x)\n",
        "model1D_CNN_join=Model(ip.input,outputs)\n",
        "\n",
        "model1D_CNN_join.compile(loss='binary_crossentropy', optimizer='adam', metrics=['accuracy'])\n",
        "model1D_CNN_join.fit(data_join, df_train['label'].values,batch_size= BATCH_SIZE,epochs=EPOCHS, validation_data=(data_test_join,df_test['label'].values))\n",
        "print(roc_auc_score(df_test['label'].values, model1D_CNN_join.predict(data_test_join)))"
      ],
      "execution_count": null,
      "outputs": [
        {
          "output_type": "stream",
          "text": [
            "Epoch 1/10\n",
            "98/98 [==============================] - 24s 231ms/step - loss: 0.6800 - accuracy: 0.5644 - val_loss: 0.5475 - val_accuracy: 0.7246\n",
            "Epoch 2/10\n",
            "98/98 [==============================] - 22s 228ms/step - loss: 0.5415 - accuracy: 0.7430 - val_loss: 0.4716 - val_accuracy: 0.7966\n",
            "Epoch 3/10\n",
            "98/98 [==============================] - 22s 229ms/step - loss: 0.3554 - accuracy: 0.8661 - val_loss: 0.5063 - val_accuracy: 0.7794\n",
            "Epoch 4/10\n",
            "98/98 [==============================] - 22s 229ms/step - loss: 0.2335 - accuracy: 0.9176 - val_loss: 0.5494 - val_accuracy: 0.8164\n",
            "Epoch 5/10\n",
            "98/98 [==============================] - 22s 229ms/step - loss: 0.1170 - accuracy: 0.9603 - val_loss: 0.5706 - val_accuracy: 0.8052\n",
            "Epoch 6/10\n",
            "98/98 [==============================] - 22s 229ms/step - loss: 0.0825 - accuracy: 0.9757 - val_loss: 0.6129 - val_accuracy: 0.8190\n",
            "Epoch 7/10\n",
            "98/98 [==============================] - 22s 229ms/step - loss: 0.0584 - accuracy: 0.9839 - val_loss: 0.6595 - val_accuracy: 0.8124\n",
            "Epoch 8/10\n",
            "98/98 [==============================] - 22s 228ms/step - loss: 0.0478 - accuracy: 0.9845 - val_loss: 0.8864 - val_accuracy: 0.7913\n",
            "Epoch 9/10\n",
            "98/98 [==============================] - 22s 229ms/step - loss: 0.0360 - accuracy: 0.9880 - val_loss: 0.9238 - val_accuracy: 0.8091\n",
            "Epoch 10/10\n",
            "98/98 [==============================] - 22s 229ms/step - loss: 0.0360 - accuracy: 0.9895 - val_loss: 1.2438 - val_accuracy: 0.7774\n",
            "0.8961319189109483\n"
          ],
          "name": "stdout"
        }
      ]
    },
    {
      "cell_type": "code",
      "metadata": {
        "colab": {
          "base_uri": "https://localhost:8080/",
          "height": 429
        },
        "id": "VxdpbmimU-RI",
        "outputId": "f45f3d7d-9085-46d0-e30b-d14c85cdf49f"
      },
      "source": [
        "df_train,df_test = load_data(6)\n",
        "print('The data used will be:')\n",
        "df_train[['Joined']]"
      ],
      "execution_count": null,
      "outputs": [
        {
          "output_type": "stream",
          "text": [
            "The data used will be:\n"
          ],
          "name": "stdout"
        },
        {
          "output_type": "execute_result",
          "data": {
            "text/html": [
              "<div>\n",
              "<style scoped>\n",
              "    .dataframe tbody tr th:only-of-type {\n",
              "        vertical-align: middle;\n",
              "    }\n",
              "\n",
              "    .dataframe tbody tr th {\n",
              "        vertical-align: top;\n",
              "    }\n",
              "\n",
              "    .dataframe thead th {\n",
              "        text-align: right;\n",
              "    }\n",
              "</style>\n",
              "<table border=\"1\" class=\"dataframe\">\n",
              "  <thead>\n",
              "    <tr style=\"text-align: right;\">\n",
              "      <th></th>\n",
              "      <th>Joined</th>\n",
              "    </tr>\n",
              "  </thead>\n",
              "  <tbody>\n",
              "    <tr>\n",
              "      <th>0</th>\n",
              "      <td>[MKDKQK, KDKQKK, DKQKKK, KQKKKK, QKKKKE, KKKKE...</td>\n",
              "    </tr>\n",
              "    <tr>\n",
              "      <th>1</th>\n",
              "      <td>[MSWSGL, SWSGLL, WSGLLH, SGLLHG, GLLHGL, LLHGL...</td>\n",
              "    </tr>\n",
              "    <tr>\n",
              "      <th>2</th>\n",
              "      <td>[MSLFDL, SLFDLF, LFDLFR, FDLFRG, DLFRGF, LFRGF...</td>\n",
              "    </tr>\n",
              "    <tr>\n",
              "      <th>3</th>\n",
              "      <td>[MAVAPR, AVAPRL, VAPRLF, APRLFG, PRLFGG, RLFGG...</td>\n",
              "    </tr>\n",
              "    <tr>\n",
              "      <th>4</th>\n",
              "      <td>[MSTIQS, STIQSE, TIQSET, IQSETD, QSETDC, SETDC...</td>\n",
              "    </tr>\n",
              "    <tr>\n",
              "      <th>...</th>\n",
              "      <td>...</td>\n",
              "    </tr>\n",
              "    <tr>\n",
              "      <th>6265</th>\n",
              "      <td>[MSYFGE, SYFGEH, YFGEHF, FGEHFW, GEHFWG, EHFWG...</td>\n",
              "    </tr>\n",
              "    <tr>\n",
              "      <th>6266</th>\n",
              "      <td>[MTVGKS, TVGKSS, VGKSSK, GKSSKM, KSSKML, SSKML...</td>\n",
              "    </tr>\n",
              "    <tr>\n",
              "      <th>6267</th>\n",
              "      <td>[MNNLSF, NNLSFS, NLSFSE, LSFSEL, SFSELC, FSELC...</td>\n",
              "    </tr>\n",
              "    <tr>\n",
              "      <th>6268</th>\n",
              "      <td>[MAPEIN, APEINL, PEINLP, EINLPG, INLPGP, NLPGP...</td>\n",
              "    </tr>\n",
              "    <tr>\n",
              "      <th>6269</th>\n",
              "      <td>[MMLGTE, MLGTEG, LGTEGG, GTEGGE, TEGGEG, EGGEG...</td>\n",
              "    </tr>\n",
              "  </tbody>\n",
              "</table>\n",
              "<p>6270 rows × 1 columns</p>\n",
              "</div>"
            ],
            "text/plain": [
              "                                                 Joined\n",
              "0     [MKDKQK, KDKQKK, DKQKKK, KQKKKK, QKKKKE, KKKKE...\n",
              "1     [MSWSGL, SWSGLL, WSGLLH, SGLLHG, GLLHGL, LLHGL...\n",
              "2     [MSLFDL, SLFDLF, LFDLFR, FDLFRG, DLFRGF, LFRGF...\n",
              "3     [MAVAPR, AVAPRL, VAPRLF, APRLFG, PRLFGG, RLFGG...\n",
              "4     [MSTIQS, STIQSE, TIQSET, IQSETD, QSETDC, SETDC...\n",
              "...                                                 ...\n",
              "6265  [MSYFGE, SYFGEH, YFGEHF, FGEHFW, GEHFWG, EHFWG...\n",
              "6266  [MTVGKS, TVGKSS, VGKSSK, GKSSKM, KSSKML, SSKML...\n",
              "6267  [MNNLSF, NNLSFS, NLSFSE, LSFSEL, SFSELC, FSELC...\n",
              "6268  [MAPEIN, APEINL, PEINLP, EINLPG, INLPGP, NLPGP...\n",
              "6269  [MMLGTE, MLGTEG, LGTEGG, GTEGGE, TEGGEG, EGGEG...\n",
              "\n",
              "[6270 rows x 1 columns]"
            ]
          },
          "metadata": {
            "tags": []
          },
          "execution_count": 45
        }
      ]
    },
    {
      "cell_type": "code",
      "metadata": {
        "colab": {
          "base_uri": "https://localhost:8080/"
        },
        "id": "G-_gpyfOUc-h",
        "outputId": "19e98ea4-e3bf-448b-c57c-bd955e66278a"
      },
      "source": [
        "data_join,data_test_join,num_words_join,MAX_SEQUENCE_LENGTH_,MAX_VOCAB_SIZE_ = f.get_seq_data_join(850000,2000,df_train,df_test,pad='pre')"
      ],
      "execution_count": null,
      "outputs": [
        {
          "output_type": "stream",
          "text": [
            "MAX_VOCAB_SIZE is 850000\n",
            "MAX_SEQUENCE_LENGTH is 2000\n",
            "max sequence_data length: 6856\n",
            "min sequence_data length: 5\n",
            "median sequence_data length: 436\n",
            "max word index: 849999\n",
            "Found 3205693 unique tokens.\n",
            "pre padding.\n",
            "Shape of data tensor: (6270, 2000)\n",
            "max sequences_test length: 5558\n",
            "min sequences_test length: 4\n",
            "median sequences_test length: 261\n",
            "pre padding for test seq.\n",
            "Shape of data_test tensor: (1514, 2000)\n",
            "num_words is 850000\n"
          ],
          "name": "stdout"
        }
      ]
    },
    {
      "cell_type": "code",
      "metadata": {
        "colab": {
          "base_uri": "https://localhost:8080/"
        },
        "id": "fZ19UQoqdZjW",
        "outputId": "6530fb85-2b19-4d53-c853-685a1fcd585c"
      },
      "source": [
        "DROP = 0.7\n",
        "BATCH_SIZE = 64\n",
        "EPOCHS = 10\n",
        "ip = f.transf_model(MAX_SEQUENCE_LENGTH_,num_words_join,10,DROP)\n",
        "x = Dropout(DROP)(ip.output)\n",
        "x = Dense(128, activation=\"relu\")(x)\n",
        "x = Dropout(DROP)(x)\n",
        "outputs = Dense(1, activation=\"sigmoid\")(x)\n",
        "model1D_CNN_join=Model(ip.input,outputs)\n",
        "\n",
        "model1D_CNN_join.compile(loss='binary_crossentropy', optimizer='adam', metrics=['accuracy'])\n",
        "model1D_CNN_join.fit(data_join, df_train['label'].values,batch_size= BATCH_SIZE,epochs=EPOCHS, validation_data=(data_test_join,df_test['label'].values))\n",
        "print(roc_auc_score(df_test['label'].values, model1D_CNN_join.predict(data_test_join)))"
      ],
      "execution_count": null,
      "outputs": [
        {
          "output_type": "stream",
          "text": [
            "Epoch 1/10\n",
            "98/98 [==============================] - 30s 286ms/step - loss: 0.6666 - accuracy: 0.5916 - val_loss: 0.5054 - val_accuracy: 0.7596\n",
            "Epoch 2/10\n",
            "98/98 [==============================] - 28s 283ms/step - loss: 0.5003 - accuracy: 0.7750 - val_loss: 0.4660 - val_accuracy: 0.7972\n",
            "Epoch 3/10\n",
            "98/98 [==============================] - 28s 282ms/step - loss: 0.3446 - accuracy: 0.8665 - val_loss: 0.4669 - val_accuracy: 0.8118\n",
            "Epoch 4/10\n",
            "98/98 [==============================] - 28s 281ms/step - loss: 0.2615 - accuracy: 0.9037 - val_loss: 0.4479 - val_accuracy: 0.8078\n",
            "Epoch 5/10\n",
            "98/98 [==============================] - 27s 280ms/step - loss: 0.2343 - accuracy: 0.9101 - val_loss: 0.4989 - val_accuracy: 0.8170\n",
            "Epoch 6/10\n",
            "98/98 [==============================] - 28s 282ms/step - loss: 0.1563 - accuracy: 0.9407 - val_loss: 0.4842 - val_accuracy: 0.8177\n",
            "Epoch 7/10\n",
            "98/98 [==============================] - 27s 280ms/step - loss: 0.1421 - accuracy: 0.9492 - val_loss: 0.5290 - val_accuracy: 0.8137\n",
            "Epoch 8/10\n",
            "98/98 [==============================] - 28s 282ms/step - loss: 0.1066 - accuracy: 0.9614 - val_loss: 0.6958 - val_accuracy: 0.8144\n",
            "Epoch 9/10\n",
            "98/98 [==============================] - 28s 281ms/step - loss: 0.0726 - accuracy: 0.9739 - val_loss: 0.6569 - val_accuracy: 0.8091\n",
            "Epoch 10/10\n",
            "98/98 [==============================] - 28s 282ms/step - loss: 0.0615 - accuracy: 0.9792 - val_loss: 0.8139 - val_accuracy: 0.8111\n",
            "0.8833302213248779\n"
          ],
          "name": "stdout"
        }
      ]
    },
    {
      "cell_type": "markdown",
      "metadata": {
        "id": "ej3LMcfYl6wK"
      },
      "source": [
        "###Differential join"
      ]
    },
    {
      "cell_type": "code",
      "metadata": {
        "colab": {
          "base_uri": "https://localhost:8080/",
          "height": 433
        },
        "id": "GkSpYuO0f8L1",
        "outputId": "cccb72fe-dcdd-4e8b-b8f7-9ebb60266c5f"
      },
      "source": [
        "def diff_prot(df,dikt):\n",
        "  df.Yersinia = df.Yersinia.apply(lambda x: [dikt[char] for char in x])\n",
        "  df.Joined = [df.loc[row]['Human']+df.loc[row]['Yersinia'] for row in range(df.shape[0])]\n",
        "  return df\n",
        "\n",
        "\n",
        "\n",
        "df_train,df_test = load_data(1)\n",
        "dikt={}\n",
        "for char in set(df_train.loc[0]['Yersinia']+df_train.loc[0]['Human']):\n",
        "    dikt[char] = chr(ord(char)+150)\n",
        "df_test = diff_prot(df_test,dikt)\n",
        "df_train = diff_prot(df_train,dikt)\n",
        "\n",
        "print('Yersinia is changed to create seperate words:')\n",
        "df_train"
      ],
      "execution_count": null,
      "outputs": [
        {
          "output_type": "stream",
          "text": [
            "Yersinia is changed to create seperate words:\n"
          ],
          "name": "stdout"
        },
        {
          "output_type": "execute_result",
          "data": {
            "text/html": [
              "<div>\n",
              "<style scoped>\n",
              "    .dataframe tbody tr th:only-of-type {\n",
              "        vertical-align: middle;\n",
              "    }\n",
              "\n",
              "    .dataframe tbody tr th {\n",
              "        vertical-align: top;\n",
              "    }\n",
              "\n",
              "    .dataframe thead th {\n",
              "        text-align: right;\n",
              "    }\n",
              "</style>\n",
              "<table border=\"1\" class=\"dataframe\">\n",
              "  <thead>\n",
              "    <tr style=\"text-align: right;\">\n",
              "      <th></th>\n",
              "      <th>Human</th>\n",
              "      <th>Yersinia</th>\n",
              "      <th>Joined</th>\n",
              "      <th>label</th>\n",
              "    </tr>\n",
              "  </thead>\n",
              "  <tbody>\n",
              "    <tr>\n",
              "      <th>0</th>\n",
              "      <td>[M, K, D, K, Q, K, K, K, K, E, R, T, W, A, E, ...</td>\n",
              "      <td>[ã, ×, á, ×, é, è, Þ, ä, â, é, ß, Ý, ß, é, ã, ...</td>\n",
              "      <td>[M, K, D, K, Q, K, K, K, K, E, R, T, W, A, E, ...</td>\n",
              "      <td>1</td>\n",
              "    </tr>\n",
              "    <tr>\n",
              "      <th>1</th>\n",
              "      <td>[M, S, W, S, G, L, L, H, G, L, N, T, S, L, T, ...</td>\n",
              "      <td>[ã, ç, Þ, ì, ê, Ý, é, á, è, è, â, ß, Ý, í, ì, ...</td>\n",
              "      <td>[M, S, W, S, G, L, L, H, G, L, N, T, S, L, T, ...</td>\n",
              "      <td>0</td>\n",
              "    </tr>\n",
              "    <tr>\n",
              "      <th>2</th>\n",
              "      <td>[M, S, L, F, D, L, F, R, G, F, F, G, F, P, G, ...</td>\n",
              "      <td>[ã, ×, Û, â, æ, ×, á, è, è, Ü, ê, è, ß, Ú, è, ...</td>\n",
              "      <td>[M, S, L, F, D, L, F, R, G, F, F, G, F, P, G, ...</td>\n",
              "      <td>1</td>\n",
              "    </tr>\n",
              "    <tr>\n",
              "      <th>3</th>\n",
              "      <td>[M, A, V, A, P, R, L, F, G, G, L, C, F, R, F, ...</td>\n",
              "      <td>[ã, è, ß, Ü, ×, ß, é, Ù, é, é, ï, ê, ï, Ù, ï, ...</td>\n",
              "      <td>[M, A, V, A, P, R, L, F, G, G, L, C, F, R, F, ...</td>\n",
              "      <td>0</td>\n",
              "    </tr>\n",
              "    <tr>\n",
              "      <th>4</th>\n",
              "      <td>[M, S, T, I, Q, S, E, T, D, C, Y, D, I, I, E, ...</td>\n",
              "      <td>[ã, é, ï, ×, Ü, æ, Ý, ê, Ü, æ, Ý, è, è, ã, è, ...</td>\n",
              "      <td>[M, S, T, I, Q, S, E, T, D, C, Y, D, I, I, E, ...</td>\n",
              "      <td>0</td>\n",
              "    </tr>\n",
              "    <tr>\n",
              "      <th>...</th>\n",
              "      <td>...</td>\n",
              "      <td>...</td>\n",
              "      <td>...</td>\n",
              "      <td>...</td>\n",
              "    </tr>\n",
              "    <tr>\n",
              "      <th>6265</th>\n",
              "      <td>[M, S, Y, F, G, E, H, F, W, G, E, K, N, H, G, ...</td>\n",
              "      <td>[ã, ß, ê, ê, Ú, Ý, ä, é, ×, ì, ×, é, ì, ×, ï, ...</td>\n",
              "      <td>[M, S, Y, F, G, E, H, F, W, G, E, K, N, H, G, ...</td>\n",
              "      <td>1</td>\n",
              "    </tr>\n",
              "    <tr>\n",
              "      <th>6266</th>\n",
              "      <td>[M, T, V, G, K, S, S, K, M, L, Q, H, I, D, Y, ...</td>\n",
              "      <td>[ã, é, ç, æ, æ, Ü, í, ç, ç, á, ê, â, ×, Û, ã, ...</td>\n",
              "      <td>[M, T, V, G, K, S, S, K, M, L, Q, H, I, D, Y, ...</td>\n",
              "      <td>1</td>\n",
              "    </tr>\n",
              "    <tr>\n",
              "      <th>6267</th>\n",
              "      <td>[M, N, N, L, S, F, S, E, L, C, C, L, F, C, C, ...</td>\n",
              "      <td>[ã, é, Û, Ú, è, Þ, ç, ç, è, ç, ç, è, â, á, Û, ...</td>\n",
              "      <td>[M, N, N, L, S, F, S, E, L, C, C, L, F, C, C, ...</td>\n",
              "      <td>0</td>\n",
              "    </tr>\n",
              "    <tr>\n",
              "      <th>6268</th>\n",
              "      <td>[M, A, P, E, I, N, L, P, G, P, M, S, L, I, D, ...</td>\n",
              "      <td>[ã, á, ä, â, é, Ü, ì, ×, Ý, â, ì, ß, â, â, Ý, ...</td>\n",
              "      <td>[M, A, P, E, I, N, L, P, G, P, M, S, L, I, D, ...</td>\n",
              "      <td>1</td>\n",
              "    </tr>\n",
              "    <tr>\n",
              "      <th>6269</th>\n",
              "      <td>[M, M, L, G, T, E, G, G, E, G, F, V, V, K, V, ...</td>\n",
              "      <td>[ã, ì, ã, á, á, ß, ×, Ù, â, é, ×, ì, ×, ×, Ù, ...</td>\n",
              "      <td>[M, M, L, G, T, E, G, G, E, G, F, V, V, K, V, ...</td>\n",
              "      <td>1</td>\n",
              "    </tr>\n",
              "  </tbody>\n",
              "</table>\n",
              "<p>6270 rows × 4 columns</p>\n",
              "</div>"
            ],
            "text/plain": [
              "                                                  Human  ... label\n",
              "0     [M, K, D, K, Q, K, K, K, K, E, R, T, W, A, E, ...  ...     1\n",
              "1     [M, S, W, S, G, L, L, H, G, L, N, T, S, L, T, ...  ...     0\n",
              "2     [M, S, L, F, D, L, F, R, G, F, F, G, F, P, G, ...  ...     1\n",
              "3     [M, A, V, A, P, R, L, F, G, G, L, C, F, R, F, ...  ...     0\n",
              "4     [M, S, T, I, Q, S, E, T, D, C, Y, D, I, I, E, ...  ...     0\n",
              "...                                                 ...  ...   ...\n",
              "6265  [M, S, Y, F, G, E, H, F, W, G, E, K, N, H, G, ...  ...     1\n",
              "6266  [M, T, V, G, K, S, S, K, M, L, Q, H, I, D, Y, ...  ...     1\n",
              "6267  [M, N, N, L, S, F, S, E, L, C, C, L, F, C, C, ...  ...     0\n",
              "6268  [M, A, P, E, I, N, L, P, G, P, M, S, L, I, D, ...  ...     1\n",
              "6269  [M, M, L, G, T, E, G, G, E, G, F, V, V, K, V, ...  ...     1\n",
              "\n",
              "[6270 rows x 4 columns]"
            ]
          },
          "metadata": {
            "tags": []
          },
          "execution_count": 5
        }
      ]
    },
    {
      "cell_type": "code",
      "metadata": {
        "colab": {
          "base_uri": "https://localhost:8080/"
        },
        "id": "1eRBBO0ELuUR",
        "outputId": "4b4d34be-0550-4aac-f03a-1af1df632502"
      },
      "source": [
        "data_join,data_test_join,num_words_join,MAX_SEQUENCE_LENGTH_,MAX_VOCAB_SIZE_ = f.get_seq_data_join(5000,2000,df_train,df_test,pad='pre')"
      ],
      "execution_count": null,
      "outputs": [
        {
          "output_type": "stream",
          "text": [
            "MAX_VOCAB_SIZE is 5000\n",
            "MAX_SEQUENCE_LENGTH is 2000\n",
            "max sequence_data length: 8966\n",
            "min sequence_data length: 107\n",
            "median sequence_data length: 881\n",
            "max word index: 40\n",
            "Found 40 unique tokens.\n",
            "pre padding.\n",
            "Shape of data tensor: (6270, 2000)\n",
            "max sequences_test length: 6126\n",
            "min sequences_test length: 134\n",
            "median sequences_test length: 901\n",
            "pre padding for test seq.\n",
            "Shape of data_test tensor: (1514, 2000)\n",
            "num_words is 41\n"
          ],
          "name": "stdout"
        }
      ]
    },
    {
      "cell_type": "code",
      "metadata": {
        "colab": {
          "base_uri": "https://localhost:8080/"
        },
        "id": "ZnqnH8GGLtSN",
        "outputId": "8edefdb8-0e5a-4572-e622-aa369f1cec3b"
      },
      "source": [
        "DROP = 0.4\n",
        "BATCH_SIZE = 64\n",
        "EPOCHS = 10\n",
        "ip = f.transf_model(MAX_SEQUENCE_LENGTH_,num_words_join,5,DROP)\n",
        "x = Dropout(DROP)(ip.output)\n",
        "x = Dense(128, activation=\"relu\")(x)\n",
        "x = Dropout(DROP)(x)\n",
        "outputs = Dense(1, activation=\"sigmoid\")(x)\n",
        "model1D_CNN_join=Model(ip.input,outputs)\n",
        "\n",
        "model1D_CNN_join.compile(loss='binary_crossentropy', optimizer=Adam(lr=0.01), metrics=['accuracy'])\n",
        "model1D_CNN_join.fit(data_join, df_train['label'].values,batch_size= BATCH_SIZE,epochs=EPOCHS, validation_data=(data_test_join,df_test['label'].values))\n",
        "print(roc_auc_score(df_test['label'].values, model1D_CNN_join.predict(data_test_join)))"
      ],
      "execution_count": null,
      "outputs": [
        {
          "output_type": "stream",
          "text": [
            "Epoch 1/10\n",
            "98/98 [==============================] - 22s 208ms/step - loss: 0.6813 - accuracy: 0.5485 - val_loss: 0.6131 - val_accuracy: 0.6717\n",
            "Epoch 2/10\n",
            "98/98 [==============================] - 20s 205ms/step - loss: 0.6242 - accuracy: 0.6622 - val_loss: 0.5983 - val_accuracy: 0.6823\n",
            "Epoch 3/10\n",
            "98/98 [==============================] - 20s 204ms/step - loss: 0.6143 - accuracy: 0.6659 - val_loss: 0.5976 - val_accuracy: 0.6876\n",
            "Epoch 4/10\n",
            "98/98 [==============================] - 20s 205ms/step - loss: 0.6101 - accuracy: 0.6734 - val_loss: 0.5935 - val_accuracy: 0.6803\n",
            "Epoch 5/10\n",
            "98/98 [==============================] - 20s 205ms/step - loss: 0.6060 - accuracy: 0.6714 - val_loss: 0.5821 - val_accuracy: 0.6869\n",
            "Epoch 6/10\n",
            "98/98 [==============================] - 20s 205ms/step - loss: 0.5848 - accuracy: 0.6901 - val_loss: 0.5715 - val_accuracy: 0.7008\n",
            "Epoch 7/10\n",
            "98/98 [==============================] - 20s 205ms/step - loss: 0.5802 - accuracy: 0.6801 - val_loss: 0.5596 - val_accuracy: 0.7061\n",
            "Epoch 8/10\n",
            "98/98 [==============================] - 20s 205ms/step - loss: 0.5543 - accuracy: 0.7116 - val_loss: 0.5748 - val_accuracy: 0.7094\n",
            "Epoch 9/10\n",
            "98/98 [==============================] - 20s 205ms/step - loss: 0.5618 - accuracy: 0.7006 - val_loss: 0.5647 - val_accuracy: 0.7094\n",
            "Epoch 10/10\n",
            "98/98 [==============================] - 20s 205ms/step - loss: 0.5488 - accuracy: 0.7188 - val_loss: 0.5761 - val_accuracy: 0.6764\n",
            "0.7863001244221699\n"
          ],
          "name": "stdout"
        }
      ]
    },
    {
      "cell_type": "code",
      "metadata": {
        "colab": {
          "base_uri": "https://localhost:8080/",
          "height": 415
        },
        "id": "HahsKsSGPvnb",
        "outputId": "94fb6238-4cb2-4278-8a89-01d5a327b912"
      },
      "source": [
        "df_train,df_test = load_data(1)\n",
        "df_test = diff_prot(df_test,dikt)\n",
        "df_train = diff_prot(df_train,dikt)\n",
        "df_train = f.combine_AC(df_train,chunksize=2)\n",
        "df_test = f.combine_AC(df_test,chunksize=2)\n",
        "df_train"
      ],
      "execution_count": null,
      "outputs": [
        {
          "output_type": "execute_result",
          "data": {
            "text/html": [
              "<div>\n",
              "<style scoped>\n",
              "    .dataframe tbody tr th:only-of-type {\n",
              "        vertical-align: middle;\n",
              "    }\n",
              "\n",
              "    .dataframe tbody tr th {\n",
              "        vertical-align: top;\n",
              "    }\n",
              "\n",
              "    .dataframe thead th {\n",
              "        text-align: right;\n",
              "    }\n",
              "</style>\n",
              "<table border=\"1\" class=\"dataframe\">\n",
              "  <thead>\n",
              "    <tr style=\"text-align: right;\">\n",
              "      <th></th>\n",
              "      <th>Human</th>\n",
              "      <th>Yersinia</th>\n",
              "      <th>Joined</th>\n",
              "      <th>label</th>\n",
              "    </tr>\n",
              "  </thead>\n",
              "  <tbody>\n",
              "    <tr>\n",
              "      <th>0</th>\n",
              "      <td>[MK, KD, DK, KQ, QK, KK, KK, KK, KE, ER, RT, T...</td>\n",
              "      <td>[ã×, ×á, á×, ×é, éè, èÞ, Þä, äâ, âé, éß, ßÝ, Ý...</td>\n",
              "      <td>[MK, KD, DK, KQ, QK, KK, KK, KK, KE, ER, RT, T...</td>\n",
              "      <td>1</td>\n",
              "    </tr>\n",
              "    <tr>\n",
              "      <th>1</th>\n",
              "      <td>[MS, SW, WS, SG, GL, LL, LH, HG, GL, LN, NT, T...</td>\n",
              "      <td>[ãç, çÞ, Þì, ìê, êÝ, Ýé, éá, áè, èè, èâ, âß, ß...</td>\n",
              "      <td>[MS, SW, WS, SG, GL, LL, LH, HG, GL, LN, NT, T...</td>\n",
              "      <td>0</td>\n",
              "    </tr>\n",
              "    <tr>\n",
              "      <th>2</th>\n",
              "      <td>[MS, SL, LF, FD, DL, LF, FR, RG, GF, FF, FG, G...</td>\n",
              "      <td>[ã×, ×Û, Ûâ, âæ, æ×, ×á, áè, èè, èÜ, Üê, êè, è...</td>\n",
              "      <td>[MS, SL, LF, FD, DL, LF, FR, RG, GF, FF, FG, G...</td>\n",
              "      <td>1</td>\n",
              "    </tr>\n",
              "    <tr>\n",
              "      <th>3</th>\n",
              "      <td>[MA, AV, VA, AP, PR, RL, LF, FG, GG, GL, LC, C...</td>\n",
              "      <td>[ãè, èß, ßÜ, Ü×, ×ß, ßé, éÙ, Ùé, éé, éï, ïê, ê...</td>\n",
              "      <td>[MA, AV, VA, AP, PR, RL, LF, FG, GG, GL, LC, C...</td>\n",
              "      <td>0</td>\n",
              "    </tr>\n",
              "    <tr>\n",
              "      <th>4</th>\n",
              "      <td>[MS, ST, TI, IQ, QS, SE, ET, TD, DC, CY, YD, D...</td>\n",
              "      <td>[ãé, éï, ï×, ×Ü, Üæ, æÝ, Ýê, êÜ, Üæ, æÝ, Ýè, è...</td>\n",
              "      <td>[MS, ST, TI, IQ, QS, SE, ET, TD, DC, CY, YD, D...</td>\n",
              "      <td>0</td>\n",
              "    </tr>\n",
              "    <tr>\n",
              "      <th>...</th>\n",
              "      <td>...</td>\n",
              "      <td>...</td>\n",
              "      <td>...</td>\n",
              "      <td>...</td>\n",
              "    </tr>\n",
              "    <tr>\n",
              "      <th>6265</th>\n",
              "      <td>[MS, SY, YF, FG, GE, EH, HF, FW, WG, GE, EK, K...</td>\n",
              "      <td>[ãß, ßê, êê, êÚ, ÚÝ, Ýä, äé, é×, ×ì, ì×, ×é, é...</td>\n",
              "      <td>[MS, SY, YF, FG, GE, EH, HF, FW, WG, GE, EK, K...</td>\n",
              "      <td>1</td>\n",
              "    </tr>\n",
              "    <tr>\n",
              "      <th>6266</th>\n",
              "      <td>[MT, TV, VG, GK, KS, SS, SK, KM, ML, LQ, QH, H...</td>\n",
              "      <td>[ãé, éç, çæ, ææ, æÜ, Üí, íç, çç, çá, áê, êâ, â...</td>\n",
              "      <td>[MT, TV, VG, GK, KS, SS, SK, KM, ML, LQ, QH, H...</td>\n",
              "      <td>1</td>\n",
              "    </tr>\n",
              "    <tr>\n",
              "      <th>6267</th>\n",
              "      <td>[MN, NN, NL, LS, SF, FS, SE, EL, LC, CC, CL, L...</td>\n",
              "      <td>[ãé, éÛ, ÛÚ, Úè, èÞ, Þç, çç, çè, èç, çç, çè, è...</td>\n",
              "      <td>[MN, NN, NL, LS, SF, FS, SE, EL, LC, CC, CL, L...</td>\n",
              "      <td>0</td>\n",
              "    </tr>\n",
              "    <tr>\n",
              "      <th>6268</th>\n",
              "      <td>[MA, AP, PE, EI, IN, NL, LP, PG, GP, PM, MS, S...</td>\n",
              "      <td>[ãá, áä, äâ, âé, éÜ, Üì, ì×, ×Ý, Ýâ, âì, ìß, ß...</td>\n",
              "      <td>[MA, AP, PE, EI, IN, NL, LP, PG, GP, PM, MS, S...</td>\n",
              "      <td>1</td>\n",
              "    </tr>\n",
              "    <tr>\n",
              "      <th>6269</th>\n",
              "      <td>[MM, ML, LG, GT, TE, EG, GG, GE, EG, GF, FV, V...</td>\n",
              "      <td>[ãì, ìã, ãá, áá, áß, ß×, ×Ù, Ùâ, âé, é×, ×ì, ì...</td>\n",
              "      <td>[MM, ML, LG, GT, TE, EG, GG, GE, EG, GF, FV, V...</td>\n",
              "      <td>1</td>\n",
              "    </tr>\n",
              "  </tbody>\n",
              "</table>\n",
              "<p>6270 rows × 4 columns</p>\n",
              "</div>"
            ],
            "text/plain": [
              "                                                  Human  ... label\n",
              "0     [MK, KD, DK, KQ, QK, KK, KK, KK, KE, ER, RT, T...  ...     1\n",
              "1     [MS, SW, WS, SG, GL, LL, LH, HG, GL, LN, NT, T...  ...     0\n",
              "2     [MS, SL, LF, FD, DL, LF, FR, RG, GF, FF, FG, G...  ...     1\n",
              "3     [MA, AV, VA, AP, PR, RL, LF, FG, GG, GL, LC, C...  ...     0\n",
              "4     [MS, ST, TI, IQ, QS, SE, ET, TD, DC, CY, YD, D...  ...     0\n",
              "...                                                 ...  ...   ...\n",
              "6265  [MS, SY, YF, FG, GE, EH, HF, FW, WG, GE, EK, K...  ...     1\n",
              "6266  [MT, TV, VG, GK, KS, SS, SK, KM, ML, LQ, QH, H...  ...     1\n",
              "6267  [MN, NN, NL, LS, SF, FS, SE, EL, LC, CC, CL, L...  ...     0\n",
              "6268  [MA, AP, PE, EI, IN, NL, LP, PG, GP, PM, MS, S...  ...     1\n",
              "6269  [MM, ML, LG, GT, TE, EG, GG, GE, EG, GF, FV, V...  ...     1\n",
              "\n",
              "[6270 rows x 4 columns]"
            ]
          },
          "metadata": {
            "tags": []
          },
          "execution_count": 6
        }
      ]
    },
    {
      "cell_type": "code",
      "metadata": {
        "colab": {
          "base_uri": "https://localhost:8080/"
        },
        "id": "yZxRP4HiQlxi",
        "outputId": "1fe5669f-e576-48e6-fb40-49bc713db051"
      },
      "source": [
        "data_join,data_test_join,num_words_join,MAX_SEQUENCE_LENGTH_,MAX_VOCAB_SIZE_ = f.get_seq_data_join(5000,2000,df_train,df_test,pad='pre')"
      ],
      "execution_count": null,
      "outputs": [
        {
          "output_type": "stream",
          "text": [
            "MAX_VOCAB_SIZE is 5000\n",
            "MAX_SEQUENCE_LENGTH is 2000\n",
            "max sequence_data length: 8964\n",
            "min sequence_data length: 105\n",
            "median sequence_data length: 879\n",
            "max word index: 800\n",
            "Found 800 unique tokens.\n",
            "pre padding.\n",
            "Shape of data tensor: (6270, 2000)\n",
            "max sequences_test length: 6124\n",
            "min sequences_test length: 132\n",
            "median sequences_test length: 899\n",
            "pre padding for test seq.\n",
            "Shape of data_test tensor: (1514, 2000)\n",
            "num_words is 801\n"
          ],
          "name": "stdout"
        }
      ]
    },
    {
      "cell_type": "code",
      "metadata": {
        "colab": {
          "base_uri": "https://localhost:8080/"
        },
        "id": "E2XoV_KaR86h",
        "outputId": "066ad563-9812-463d-f6e6-9460422850e5"
      },
      "source": [
        "DROP = 0.4\n",
        "BATCH_SIZE = 64\n",
        "EPOCHS = 10\n",
        "ip = f.transf_model(MAX_SEQUENCE_LENGTH_,num_words_join,5,DROP)\n",
        "x = Dropout(DROP)(ip.output)\n",
        "x = Dense(128, activation=\"relu\")(x)\n",
        "x = Dropout(DROP)(x)\n",
        "outputs = Dense(1, activation=\"sigmoid\")(x)\n",
        "model1D_CNN_join=Model(ip.input,outputs)\n",
        "\n",
        "model1D_CNN_join.compile(loss='binary_crossentropy', optimizer=Adam(lr=0.01), metrics=['accuracy'])\n",
        "model1D_CNN_join.fit(data_join, df_train['label'].values,batch_size= BATCH_SIZE,epochs=EPOCHS, validation_data=(data_test_join,df_test['label'].values))\n",
        "print(roc_auc_score(df_test['label'].values, model1D_CNN_join.predict(data_test_join)))"
      ],
      "execution_count": null,
      "outputs": [
        {
          "output_type": "stream",
          "text": [
            "Epoch 1/10\n",
            "98/98 [==============================] - 22s 209ms/step - loss: 0.6767 - accuracy: 0.5682 - val_loss: 0.5960 - val_accuracy: 0.6968\n",
            "Epoch 2/10\n",
            "98/98 [==============================] - 20s 206ms/step - loss: 0.6180 - accuracy: 0.6703 - val_loss: 0.5849 - val_accuracy: 0.6988\n",
            "Epoch 3/10\n",
            "98/98 [==============================] - 20s 206ms/step - loss: 0.6024 - accuracy: 0.6790 - val_loss: 0.5843 - val_accuracy: 0.7081\n",
            "Epoch 4/10\n",
            "98/98 [==============================] - 20s 205ms/step - loss: 0.5860 - accuracy: 0.6921 - val_loss: 0.5540 - val_accuracy: 0.7061\n",
            "Epoch 5/10\n",
            "98/98 [==============================] - 20s 205ms/step - loss: 0.5685 - accuracy: 0.7006 - val_loss: 0.5508 - val_accuracy: 0.7034\n",
            "Epoch 6/10\n",
            "98/98 [==============================] - 20s 205ms/step - loss: 0.5330 - accuracy: 0.7329 - val_loss: 0.5441 - val_accuracy: 0.7153\n",
            "Epoch 7/10\n",
            "98/98 [==============================] - 20s 206ms/step - loss: 0.5171 - accuracy: 0.7488 - val_loss: 0.5696 - val_accuracy: 0.7133\n",
            "Epoch 8/10\n",
            "98/98 [==============================] - 20s 205ms/step - loss: 0.4811 - accuracy: 0.7762 - val_loss: 0.5391 - val_accuracy: 0.7338\n",
            "Epoch 9/10\n",
            "98/98 [==============================] - 20s 205ms/step - loss: 0.4482 - accuracy: 0.8013 - val_loss: 0.6628 - val_accuracy: 0.6830\n",
            "Epoch 10/10\n",
            "98/98 [==============================] - 20s 205ms/step - loss: 0.4653 - accuracy: 0.7884 - val_loss: 0.6034 - val_accuracy: 0.7272\n",
            "0.8013581735593291\n"
          ],
          "name": "stdout"
        }
      ]
    },
    {
      "cell_type": "code",
      "metadata": {
        "colab": {
          "base_uri": "https://localhost:8080/",
          "height": 411
        },
        "id": "Ct0i1qr6mrTE",
        "outputId": "022a299d-b2a6-4d18-f9e8-71452dd43552"
      },
      "source": [
        "df_train = f.combine_AC(df_train,chunksize=3)\n",
        "df_test = f.combine_AC(df_test,chunksize=3)\n",
        "df_test"
      ],
      "execution_count": null,
      "outputs": [
        {
          "output_type": "execute_result",
          "data": {
            "text/html": [
              "<div>\n",
              "<style scoped>\n",
              "    .dataframe tbody tr th:only-of-type {\n",
              "        vertical-align: middle;\n",
              "    }\n",
              "\n",
              "    .dataframe tbody tr th {\n",
              "        vertical-align: top;\n",
              "    }\n",
              "\n",
              "    .dataframe thead th {\n",
              "        text-align: right;\n",
              "    }\n",
              "</style>\n",
              "<table border=\"1\" class=\"dataframe\">\n",
              "  <thead>\n",
              "    <tr style=\"text-align: right;\">\n",
              "      <th></th>\n",
              "      <th>Human</th>\n",
              "      <th>Yersinia</th>\n",
              "      <th>Joined</th>\n",
              "      <th>label</th>\n",
              "    </tr>\n",
              "  </thead>\n",
              "  <tbody>\n",
              "    <tr>\n",
              "      <th>0</th>\n",
              "      <td>[MYV, YVT, VTM, TMM, MMM, MMT, MTD, TDQ, DQI, ...</td>\n",
              "      <td>[ãêÝ, êÝæ, Ýæç, æçç, ççÝ, çÝá, Ýáß, áßâ, ßââ, ...</td>\n",
              "      <td>[MYV, YVT, VTM, TMM, MMM, MMT, MTD, TDQ, DQI, ...</td>\n",
              "      <td>1</td>\n",
              "    </tr>\n",
              "    <tr>\n",
              "      <th>1</th>\n",
              "      <td>[MED, EDH, DHQ, HQH, QHV, HVP, VPI, PID, IDI, ...</td>\n",
              "      <td>[ãáä, áäè, äèê, èêâ, êâÝ, âÝé, Ýéß, éßÜ, ßÜß, ...</td>\n",
              "      <td>[MED, EDH, DHQ, HQH, QHV, HVP, VPI, PID, IDI, ...</td>\n",
              "      <td>1</td>\n",
              "    </tr>\n",
              "    <tr>\n",
              "      <th>2</th>\n",
              "      <td>[MVL, VLG, LGK, GKV, KVK, VKS, KSL, SLT, LTI, ...</td>\n",
              "      <td>[ãßß, ßßì, ßìê, ìêÝ, êÝÝ, ÝÝ×, Ý×Ý, ×ÝÜ, ÝÜß, ...</td>\n",
              "      <td>[MVL, VLG, LGK, GKV, KVK, VKS, KSL, SLT, LTI, ...</td>\n",
              "      <td>1</td>\n",
              "    </tr>\n",
              "    <tr>\n",
              "      <th>3</th>\n",
              "      <td>[MEH, EHK, HKE, KEV, EVV, VVL, VLL, LLL, LLL, ...</td>\n",
              "      <td>[ãâß, âßá, ßáâ, áââ, ââê, âêá, êáì, áìÜ, ìÜÝ, ...</td>\n",
              "      <td>[MEH, EHK, HKE, KEV, EVV, VVL, VLL, LLL, LLL, ...</td>\n",
              "      <td>1</td>\n",
              "    </tr>\n",
              "    <tr>\n",
              "      <th>4</th>\n",
              "      <td>[MAP, APR, PRT, RTL, TLW, LWS, WSC, SCY, CYL, ...</td>\n",
              "      <td>[ãêä, êäê, äêé, êéï, éïß, ïßá, ßáä, áä×, ä×Û, ...</td>\n",
              "      <td>[MAP, APR, PRT, RTL, TLW, LWS, WSC, SCY, CYL, ...</td>\n",
              "      <td>0</td>\n",
              "    </tr>\n",
              "    <tr>\n",
              "      <th>...</th>\n",
              "      <td>...</td>\n",
              "      <td>...</td>\n",
              "      <td>...</td>\n",
              "      <td>...</td>\n",
              "    </tr>\n",
              "    <tr>\n",
              "      <th>1509</th>\n",
              "      <td>[MGT, GTP, TPA, PAS, ASG, SGR, GRK, RKR, KRT, ...</td>\n",
              "      <td>[ãßá, ßáâ, áâÝ, âÝß, Ýßì, ßìã, ìãÚ, ãÚæ, Úæß, ...</td>\n",
              "      <td>[MGT, GTP, TPA, PAS, ASG, SGR, GRK, RKR, KRT, ...</td>\n",
              "      <td>1</td>\n",
              "    </tr>\n",
              "    <tr>\n",
              "      <th>1510</th>\n",
              "      <td>[MRS, RSA, SAA, AAA, AAA, AAP, APR, PRS, RSP, ...</td>\n",
              "      <td>[ãèé, èéÙ, éÙâ, Ùâé, âéÝ, éÝê, Ýêè, êèÙ, èÙì, ...</td>\n",
              "      <td>[MRS, RSA, SAA, AAA, AAA, AAP, APR, PRS, RSP, ...</td>\n",
              "      <td>1</td>\n",
              "    </tr>\n",
              "    <tr>\n",
              "      <th>1511</th>\n",
              "      <td>[MLL, LLR, LRL, RLL, LLL, LLA, LAW, AWA, WAA, ...</td>\n",
              "      <td>[ãèì, èìÛ, ìÛß, ÛßÝ, ßÝä, Ýäã, äãé, ãéÝ, éÝÚ, ...</td>\n",
              "      <td>[MLL, LLR, LRL, RLL, LLL, LLA, LAW, AWA, WAA, ...</td>\n",
              "      <td>0</td>\n",
              "    </tr>\n",
              "    <tr>\n",
              "      <th>1512</th>\n",
              "      <td>[MTL, TLE, LEE, EEL, ELV, LVA, VAC, ACD, CDN, ...</td>\n",
              "      <td>[ãèâ, èâÜ, âÜ×, Ü×ç, ×çâ, çâÝ, âÝí, Ýíï, íïÜ, ...</td>\n",
              "      <td>[MTL, TLE, LEE, EEL, ELV, LVA, VAC, ACD, CDN, ...</td>\n",
              "      <td>0</td>\n",
              "    </tr>\n",
              "    <tr>\n",
              "      <th>1513</th>\n",
              "      <td>[MAA, AAS, ASC, SCL, CLV, LVL, VLL, LLA, LAL, ...</td>\n",
              "      <td>[ãéä, éäê, äêâ, êâ×, â×ß, ×ß×, ß×é, ×éâ, éâÜ, ...</td>\n",
              "      <td>[MAA, AAS, ASC, SCL, CLV, LVL, VLL, LLA, LAL, ...</td>\n",
              "      <td>0</td>\n",
              "    </tr>\n",
              "  </tbody>\n",
              "</table>\n",
              "<p>1514 rows × 4 columns</p>\n",
              "</div>"
            ],
            "text/plain": [
              "                                                  Human  ... label\n",
              "0     [MYV, YVT, VTM, TMM, MMM, MMT, MTD, TDQ, DQI, ...  ...     1\n",
              "1     [MED, EDH, DHQ, HQH, QHV, HVP, VPI, PID, IDI, ...  ...     1\n",
              "2     [MVL, VLG, LGK, GKV, KVK, VKS, KSL, SLT, LTI, ...  ...     1\n",
              "3     [MEH, EHK, HKE, KEV, EVV, VVL, VLL, LLL, LLL, ...  ...     1\n",
              "4     [MAP, APR, PRT, RTL, TLW, LWS, WSC, SCY, CYL, ...  ...     0\n",
              "...                                                 ...  ...   ...\n",
              "1509  [MGT, GTP, TPA, PAS, ASG, SGR, GRK, RKR, KRT, ...  ...     1\n",
              "1510  [MRS, RSA, SAA, AAA, AAA, AAP, APR, PRS, RSP, ...  ...     1\n",
              "1511  [MLL, LLR, LRL, RLL, LLL, LLA, LAW, AWA, WAA, ...  ...     0\n",
              "1512  [MTL, TLE, LEE, EEL, ELV, LVA, VAC, ACD, CDN, ...  ...     0\n",
              "1513  [MAA, AAS, ASC, SCL, CLV, LVL, VLL, LLA, LAL, ...  ...     0\n",
              "\n",
              "[1514 rows x 4 columns]"
            ]
          },
          "metadata": {
            "tags": []
          },
          "execution_count": 78
        }
      ]
    },
    {
      "cell_type": "code",
      "metadata": {
        "colab": {
          "base_uri": "https://localhost:8080/"
        },
        "id": "e3P1HsFhmrV0",
        "outputId": "ecb0fb66-2486-4bf1-daba-35caa3df0232"
      },
      "source": [
        "data_join,data_test_join,num_words_join,MAX_SEQUENCE_LENGTH_,MAX_VOCAB_SIZE_ = f.get_seq_data_join(10000,2000,df_train,df_test,pad='pre')"
      ],
      "execution_count": null,
      "outputs": [
        {
          "output_type": "stream",
          "text": [
            "MAX_VOCAB_SIZE is 10000\n",
            "MAX_SEQUENCE_LENGTH is 2000\n",
            "max sequence_data length: 8373\n",
            "min sequence_data length: 91\n",
            "median sequence_data length: 782\n",
            "max word index: 9999\n",
            "Found 15998 unique tokens.\n",
            "pre padding.\n",
            "Shape of data tensor: (6270, 2000)\n",
            "max sequences_test length: 5717\n",
            "min sequences_test length: 113\n",
            "median sequences_test length: 800\n",
            "pre padding for test seq.\n",
            "Shape of data_test tensor: (1514, 2000)\n",
            "num_words is 10000\n"
          ],
          "name": "stdout"
        }
      ]
    },
    {
      "cell_type": "code",
      "metadata": {
        "colab": {
          "base_uri": "https://localhost:8080/"
        },
        "id": "tuAA6yjmmrY9",
        "outputId": "077093ae-19d4-4b8a-8a25-0a51e6cf481f"
      },
      "source": [
        "DROP = 0.3\n",
        "BATCH_SIZE = 64\n",
        "EPOCHS = 10\n",
        "ip = f.transf_model(MAX_SEQUENCE_LENGTH_,num_words_join,EMBEDDING_DIM=5)\n",
        "x = Dropout(DROP)(ip.output)\n",
        "x = Dense(128, activation=\"relu\")(x)\n",
        "x = Dropout(DROP)(x)\n",
        "outputs = Dense(1, activation=\"sigmoid\")(x)\n",
        "model1D_CNN_join=Model(ip.input,outputs)\n",
        "\n",
        "model1D_CNN_join.compile(loss='binary_crossentropy', optimizer='adam', metrics=['accuracy'])\n",
        "model1D_CNN_join.fit(data_join, df_train['label'].values,batch_size= BATCH_SIZE,epochs=EPOCHS, validation_data=(data_test_join,df_test['label'].values))\n",
        "print(roc_auc_score(df_test['label'].values, model1D_CNN_join.predict(data_test_join)))"
      ],
      "execution_count": null,
      "outputs": [
        {
          "output_type": "stream",
          "text": [
            "Epoch 1/10\n",
            "98/98 [==============================] - 22s 207ms/step - loss: 0.6753 - accuracy: 0.5541 - val_loss: 0.5941 - val_accuracy: 0.6849\n",
            "Epoch 2/10\n",
            "98/98 [==============================] - 20s 204ms/step - loss: 0.5964 - accuracy: 0.6845 - val_loss: 0.5585 - val_accuracy: 0.7160\n",
            "Epoch 3/10\n",
            "98/98 [==============================] - 20s 204ms/step - loss: 0.5736 - accuracy: 0.7062 - val_loss: 0.5207 - val_accuracy: 0.7510\n",
            "Epoch 4/10\n",
            "98/98 [==============================] - 20s 205ms/step - loss: 0.4831 - accuracy: 0.7739 - val_loss: 0.4976 - val_accuracy: 0.7675\n",
            "Epoch 5/10\n",
            "98/98 [==============================] - 20s 204ms/step - loss: 0.3678 - accuracy: 0.8470 - val_loss: 0.4505 - val_accuracy: 0.7933\n",
            "Epoch 6/10\n",
            "98/98 [==============================] - 20s 204ms/step - loss: 0.2811 - accuracy: 0.8890 - val_loss: 0.5249 - val_accuracy: 0.7662\n",
            "Epoch 7/10\n",
            "98/98 [==============================] - 20s 205ms/step - loss: 0.2363 - accuracy: 0.9064 - val_loss: 0.5303 - val_accuracy: 0.7906\n",
            "Epoch 8/10\n",
            "98/98 [==============================] - 20s 204ms/step - loss: 0.1589 - accuracy: 0.9435 - val_loss: 0.5843 - val_accuracy: 0.7840\n",
            "Epoch 9/10\n",
            "98/98 [==============================] - 20s 204ms/step - loss: 0.1415 - accuracy: 0.9518 - val_loss: 0.6990 - val_accuracy: 0.7847\n",
            "Epoch 10/10\n",
            "98/98 [==============================] - 20s 204ms/step - loss: 0.0922 - accuracy: 0.9642 - val_loss: 0.9285 - val_accuracy: 0.7662\n",
            "0.8692240977647637\n"
          ],
          "name": "stdout"
        }
      ]
    },
    {
      "cell_type": "code",
      "metadata": {
        "colab": {
          "base_uri": "https://localhost:8080/",
          "height": 411
        },
        "id": "KPywUcbdsL4W",
        "outputId": "ec549b51-185b-405b-b8e8-1096f7459b3d"
      },
      "source": [
        "df_train,df_test = load_data(1)\n",
        "df_test = diff_prot(df_test,dikt)\n",
        "df_train = diff_prot(df_train,dikt)\n",
        "df_train = f.combine_AC(df_train,chunksize=4)\n",
        "df_test = f.combine_AC(df_test,chunksize=4)\n",
        "df_test"
      ],
      "execution_count": null,
      "outputs": [
        {
          "output_type": "execute_result",
          "data": {
            "text/html": [
              "<div>\n",
              "<style scoped>\n",
              "    .dataframe tbody tr th:only-of-type {\n",
              "        vertical-align: middle;\n",
              "    }\n",
              "\n",
              "    .dataframe tbody tr th {\n",
              "        vertical-align: top;\n",
              "    }\n",
              "\n",
              "    .dataframe thead th {\n",
              "        text-align: right;\n",
              "    }\n",
              "</style>\n",
              "<table border=\"1\" class=\"dataframe\">\n",
              "  <thead>\n",
              "    <tr style=\"text-align: right;\">\n",
              "      <th></th>\n",
              "      <th>Human</th>\n",
              "      <th>Yersinia</th>\n",
              "      <th>Joined</th>\n",
              "      <th>label</th>\n",
              "    </tr>\n",
              "  </thead>\n",
              "  <tbody>\n",
              "    <tr>\n",
              "      <th>0</th>\n",
              "      <td>[MYVT, YVTM, VTMM, TMMM, MMMT, MMTD, MTDQ, TDQ...</td>\n",
              "      <td>[ãêÝæ, êÝæç, Ýæçç, æççÝ, ççÝá, çÝáß, Ýáßâ, áßâ...</td>\n",
              "      <td>[MYVT, YVTM, VTMM, TMMM, MMMT, MMTD, MTDQ, TDQ...</td>\n",
              "      <td>1</td>\n",
              "    </tr>\n",
              "    <tr>\n",
              "      <th>1</th>\n",
              "      <td>[MEDH, EDHQ, DHQH, HQHV, QHVP, HVPI, VPID, PID...</td>\n",
              "      <td>[ãáäè, áäèê, äèêâ, èêâÝ, êâÝé, âÝéß, ÝéßÜ, éßÜ...</td>\n",
              "      <td>[MEDH, EDHQ, DHQH, HQHV, QHVP, HVPI, VPID, PID...</td>\n",
              "      <td>1</td>\n",
              "    </tr>\n",
              "    <tr>\n",
              "      <th>2</th>\n",
              "      <td>[MVLG, VLGK, LGKV, GKVK, KVKS, VKSL, KSLT, SLT...</td>\n",
              "      <td>[ãßßì, ßßìê, ßìêÝ, ìêÝÝ, êÝÝ×, ÝÝ×Ý, Ý×ÝÜ, ×ÝÜ...</td>\n",
              "      <td>[MVLG, VLGK, LGKV, GKVK, KVKS, VKSL, KSLT, SLT...</td>\n",
              "      <td>1</td>\n",
              "    </tr>\n",
              "    <tr>\n",
              "      <th>3</th>\n",
              "      <td>[MEHK, EHKE, HKEV, KEVV, EVVL, VVLL, VLLL, LLL...</td>\n",
              "      <td>[ãâßá, âßáâ, ßáââ, áââê, ââêá, âêáì, êáìÜ, áìÜ...</td>\n",
              "      <td>[MEHK, EHKE, HKEV, KEVV, EVVL, VVLL, VLLL, LLL...</td>\n",
              "      <td>1</td>\n",
              "    </tr>\n",
              "    <tr>\n",
              "      <th>4</th>\n",
              "      <td>[MAPR, APRT, PRTL, RTLW, TLWS, LWSC, WSCY, SCY...</td>\n",
              "      <td>[ãêäê, êäêé, äêéï, êéïß, éïßá, ïßáä, ßáä×, áä×...</td>\n",
              "      <td>[MAPR, APRT, PRTL, RTLW, TLWS, LWSC, WSCY, SCY...</td>\n",
              "      <td>0</td>\n",
              "    </tr>\n",
              "    <tr>\n",
              "      <th>...</th>\n",
              "      <td>...</td>\n",
              "      <td>...</td>\n",
              "      <td>...</td>\n",
              "      <td>...</td>\n",
              "    </tr>\n",
              "    <tr>\n",
              "      <th>1509</th>\n",
              "      <td>[MGTP, GTPA, TPAS, PASG, ASGR, SGRK, GRKR, RKR...</td>\n",
              "      <td>[ãßáâ, ßáâÝ, áâÝß, âÝßì, Ýßìã, ßìãÚ, ìãÚæ, ãÚæ...</td>\n",
              "      <td>[MGTP, GTPA, TPAS, PASG, ASGR, SGRK, GRKR, RKR...</td>\n",
              "      <td>1</td>\n",
              "    </tr>\n",
              "    <tr>\n",
              "      <th>1510</th>\n",
              "      <td>[MRSA, RSAA, SAAA, AAAA, AAAP, AAPR, APRS, PRS...</td>\n",
              "      <td>[ãèéÙ, èéÙâ, éÙâé, ÙâéÝ, âéÝê, éÝêè, ÝêèÙ, êèÙ...</td>\n",
              "      <td>[MRSA, RSAA, SAAA, AAAA, AAAP, AAPR, APRS, PRS...</td>\n",
              "      <td>1</td>\n",
              "    </tr>\n",
              "    <tr>\n",
              "      <th>1511</th>\n",
              "      <td>[MLLR, LLRL, LRLL, RLLL, LLLA, LLAW, LAWA, AWA...</td>\n",
              "      <td>[ãèìÛ, èìÛß, ìÛßÝ, ÛßÝä, ßÝäã, Ýäãé, äãéÝ, ãéÝ...</td>\n",
              "      <td>[MLLR, LLRL, LRLL, RLLL, LLLA, LLAW, LAWA, AWA...</td>\n",
              "      <td>0</td>\n",
              "    </tr>\n",
              "    <tr>\n",
              "      <th>1512</th>\n",
              "      <td>[MTLE, TLEE, LEEL, EELV, ELVA, LVAC, VACD, ACD...</td>\n",
              "      <td>[ãèâÜ, èâÜ×, âÜ×ç, Ü×çâ, ×çâÝ, çâÝí, âÝíï, Ýíï...</td>\n",
              "      <td>[MTLE, TLEE, LEEL, EELV, ELVA, LVAC, VACD, ACD...</td>\n",
              "      <td>0</td>\n",
              "    </tr>\n",
              "    <tr>\n",
              "      <th>1513</th>\n",
              "      <td>[MAAS, AASC, ASCL, SCLV, CLVL, LVLL, VLLA, LLA...</td>\n",
              "      <td>[ãéäê, éäêâ, äêâ×, êâ×ß, â×ß×, ×ß×é, ß×éâ, ×éâ...</td>\n",
              "      <td>[MAAS, AASC, ASCL, SCLV, CLVL, LVLL, VLLA, LLA...</td>\n",
              "      <td>0</td>\n",
              "    </tr>\n",
              "  </tbody>\n",
              "</table>\n",
              "<p>1514 rows × 4 columns</p>\n",
              "</div>"
            ],
            "text/plain": [
              "                                                  Human  ... label\n",
              "0     [MYVT, YVTM, VTMM, TMMM, MMMT, MMTD, MTDQ, TDQ...  ...     1\n",
              "1     [MEDH, EDHQ, DHQH, HQHV, QHVP, HVPI, VPID, PID...  ...     1\n",
              "2     [MVLG, VLGK, LGKV, GKVK, KVKS, VKSL, KSLT, SLT...  ...     1\n",
              "3     [MEHK, EHKE, HKEV, KEVV, EVVL, VVLL, VLLL, LLL...  ...     1\n",
              "4     [MAPR, APRT, PRTL, RTLW, TLWS, LWSC, WSCY, SCY...  ...     0\n",
              "...                                                 ...  ...   ...\n",
              "1509  [MGTP, GTPA, TPAS, PASG, ASGR, SGRK, GRKR, RKR...  ...     1\n",
              "1510  [MRSA, RSAA, SAAA, AAAA, AAAP, AAPR, APRS, PRS...  ...     1\n",
              "1511  [MLLR, LLRL, LRLL, RLLL, LLLA, LLAW, LAWA, AWA...  ...     0\n",
              "1512  [MTLE, TLEE, LEEL, EELV, ELVA, LVAC, VACD, ACD...  ...     0\n",
              "1513  [MAAS, AASC, ASCL, SCLV, CLVL, LVLL, VLLA, LLA...  ...     0\n",
              "\n",
              "[1514 rows x 4 columns]"
            ]
          },
          "metadata": {
            "tags": []
          },
          "execution_count": 88
        }
      ]
    },
    {
      "cell_type": "code",
      "metadata": {
        "colab": {
          "base_uri": "https://localhost:8080/"
        },
        "id": "q7dDB_dDsL77",
        "outputId": "7b588ccb-e5c4-4da1-9c3b-f39655913fc2"
      },
      "source": [
        "data_join,data_test_join,num_words_join,MAX_SEQUENCE_LENGTH_,MAX_VOCAB_SIZE_ = f.get_seq_data_join(200000,2000,df_train,df_test,pad='pre')"
      ],
      "execution_count": null,
      "outputs": [
        {
          "output_type": "stream",
          "text": [
            "MAX_VOCAB_SIZE is 200000\n",
            "MAX_SEQUENCE_LENGTH is 2000\n",
            "max sequence_data length: 8527\n",
            "min sequence_data length: 94\n",
            "median sequence_data length: 821\n",
            "max word index: 199999\n",
            "Found 290131 unique tokens.\n",
            "pre padding.\n",
            "Shape of data tensor: (6270, 2000)\n",
            "max sequences_test length: 5854\n",
            "min sequences_test length: 110\n",
            "median sequences_test length: 836\n",
            "pre padding for test seq.\n",
            "Shape of data_test tensor: (1514, 2000)\n",
            "num_words is 200000\n"
          ],
          "name": "stdout"
        }
      ]
    },
    {
      "cell_type": "code",
      "metadata": {
        "colab": {
          "base_uri": "https://localhost:8080/"
        },
        "id": "lGpYepsWziQX",
        "outputId": "86d72880-bef9-405c-c989-dcf69453c99d"
      },
      "source": [
        "DROP = 0.7\n",
        "BATCH_SIZE = 64\n",
        "EPOCHS = 10\n",
        "ip = f.transf_model(MAX_SEQUENCE_LENGTH_,num_words_join,5,DROP)\n",
        "x = Dropout(DROP)(ip.output)\n",
        "x = Dense(128, activation=\"relu\")(x)\n",
        "x = Dropout(DROP)(x)\n",
        "outputs = Dense(1, activation=\"sigmoid\")(x)\n",
        "model1D_CNN_join=Model(ip.input,outputs)\n",
        "\n",
        "model1D_CNN_join.compile(loss='binary_crossentropy', optimizer='adam', metrics=['accuracy'])\n",
        "model1D_CNN_join.fit(data_join, df_train['label'].values,batch_size= BATCH_SIZE,epochs=EPOCHS, validation_data=(data_test_join,df_test['label'].values))\n",
        "print(roc_auc_score(df_test['label'].values, model1D_CNN_join.predict(data_test_join)))"
      ],
      "execution_count": null,
      "outputs": [
        {
          "output_type": "stream",
          "text": [
            "Epoch 1/10\n",
            "98/98 [==============================] - 23s 220ms/step - loss: 0.6864 - accuracy: 0.5489 - val_loss: 0.6107 - val_accuracy: 0.6651\n",
            "Epoch 2/10\n",
            "98/98 [==============================] - 21s 217ms/step - loss: 0.6317 - accuracy: 0.6409 - val_loss: 0.5704 - val_accuracy: 0.7120\n",
            "Epoch 3/10\n",
            "98/98 [==============================] - 21s 217ms/step - loss: 0.5119 - accuracy: 0.7550 - val_loss: 0.4522 - val_accuracy: 0.7959\n",
            "Epoch 4/10\n",
            "98/98 [==============================] - 21s 217ms/step - loss: 0.2677 - accuracy: 0.9000 - val_loss: 0.4775 - val_accuracy: 0.8012\n",
            "Epoch 5/10\n",
            "98/98 [==============================] - 21s 217ms/step - loss: 0.1202 - accuracy: 0.9663 - val_loss: 0.6004 - val_accuracy: 0.7814\n",
            "Epoch 6/10\n",
            "98/98 [==============================] - 21s 217ms/step - loss: 0.0802 - accuracy: 0.9760 - val_loss: 0.6200 - val_accuracy: 0.8091\n",
            "Epoch 7/10\n",
            "98/98 [==============================] - 21s 217ms/step - loss: 0.0513 - accuracy: 0.9880 - val_loss: 0.7484 - val_accuracy: 0.8118\n",
            "Epoch 8/10\n",
            "98/98 [==============================] - 21s 217ms/step - loss: 0.0585 - accuracy: 0.9869 - val_loss: 0.7256 - val_accuracy: 0.7946\n",
            "Epoch 9/10\n",
            "98/98 [==============================] - 21s 216ms/step - loss: 0.0364 - accuracy: 0.9895 - val_loss: 0.7217 - val_accuracy: 0.8071\n",
            "Epoch 10/10\n",
            "98/98 [==============================] - 21s 217ms/step - loss: 0.0300 - accuracy: 0.9924 - val_loss: 0.8722 - val_accuracy: 0.8085\n",
            "0.8929951888930965\n"
          ],
          "name": "stdout"
        }
      ]
    },
    {
      "cell_type": "code",
      "metadata": {
        "colab": {
          "base_uri": "https://localhost:8080/",
          "height": 406
        },
        "id": "YhusBAeZwQrC",
        "outputId": "29eafb99-f853-43fc-e1e5-873541110ab3"
      },
      "source": [
        "df_train,df_test = load_data(1)\n",
        "df_test = diff_prot(df_test,dikt)\n",
        "df_train = diff_prot(df_train,dikt)\n",
        "df_train = f.combine_AC(df_train,chunksize=5)\n",
        "df_test = f.combine_AC(df_test,chunksize=5)\n",
        "df_test"
      ],
      "execution_count": null,
      "outputs": [
        {
          "output_type": "execute_result",
          "data": {
            "text/html": [
              "<div>\n",
              "<style scoped>\n",
              "    .dataframe tbody tr th:only-of-type {\n",
              "        vertical-align: middle;\n",
              "    }\n",
              "\n",
              "    .dataframe tbody tr th {\n",
              "        vertical-align: top;\n",
              "    }\n",
              "\n",
              "    .dataframe thead th {\n",
              "        text-align: right;\n",
              "    }\n",
              "</style>\n",
              "<table border=\"1\" class=\"dataframe\">\n",
              "  <thead>\n",
              "    <tr style=\"text-align: right;\">\n",
              "      <th></th>\n",
              "      <th>Human</th>\n",
              "      <th>Yersinia</th>\n",
              "      <th>Joined</th>\n",
              "      <th>label</th>\n",
              "    </tr>\n",
              "  </thead>\n",
              "  <tbody>\n",
              "    <tr>\n",
              "      <th>0</th>\n",
              "      <td>[MYVTM, YVTMM, VTMMM, TMMMT, MMMTD, MMTDQ, MTD...</td>\n",
              "      <td>[ãêÝæç, êÝæçç, ÝæççÝ, æççÝá, ççÝáß, çÝáßâ, Ýáß...</td>\n",
              "      <td>[MYVTM, YVTMM, VTMMM, TMMMT, MMMTD, MMTDQ, MTD...</td>\n",
              "      <td>1</td>\n",
              "    </tr>\n",
              "    <tr>\n",
              "      <th>1</th>\n",
              "      <td>[MEDHQ, EDHQH, DHQHV, HQHVP, QHVPI, HVPID, VPI...</td>\n",
              "      <td>[ãáäèê, áäèêâ, äèêâÝ, èêâÝé, êâÝéß, âÝéßÜ, Ýéß...</td>\n",
              "      <td>[MEDHQ, EDHQH, DHQHV, HQHVP, QHVPI, HVPID, VPI...</td>\n",
              "      <td>1</td>\n",
              "    </tr>\n",
              "    <tr>\n",
              "      <th>2</th>\n",
              "      <td>[MVLGK, VLGKV, LGKVK, GKVKS, KVKSL, VKSLT, KSL...</td>\n",
              "      <td>[ãßßìê, ßßìêÝ, ßìêÝÝ, ìêÝÝ×, êÝÝ×Ý, ÝÝ×ÝÜ, Ý×Ý...</td>\n",
              "      <td>[MVLGK, VLGKV, LGKVK, GKVKS, KVKSL, VKSLT, KSL...</td>\n",
              "      <td>1</td>\n",
              "    </tr>\n",
              "    <tr>\n",
              "      <th>3</th>\n",
              "      <td>[MEHKE, EHKEV, HKEVV, KEVVL, EVVLL, VVLLL, VLL...</td>\n",
              "      <td>[ãâßáâ, âßáââ, ßáââê, áââêá, ââêáì, âêáìÜ, êáì...</td>\n",
              "      <td>[MEHKE, EHKEV, HKEVV, KEVVL, EVVLL, VVLLL, VLL...</td>\n",
              "      <td>1</td>\n",
              "    </tr>\n",
              "    <tr>\n",
              "      <th>4</th>\n",
              "      <td>[MAPRT, APRTL, PRTLW, RTLWS, TLWSC, LWSCY, WSC...</td>\n",
              "      <td>[ãêäêé, êäêéï, äêéïß, êéïßá, éïßáä, ïßáä×, ßáä...</td>\n",
              "      <td>[MAPRT, APRTL, PRTLW, RTLWS, TLWSC, LWSCY, WSC...</td>\n",
              "      <td>0</td>\n",
              "    </tr>\n",
              "    <tr>\n",
              "      <th>...</th>\n",
              "      <td>...</td>\n",
              "      <td>...</td>\n",
              "      <td>...</td>\n",
              "      <td>...</td>\n",
              "    </tr>\n",
              "    <tr>\n",
              "      <th>1509</th>\n",
              "      <td>[MGTPA, GTPAS, TPASG, PASGR, ASGRK, SGRKR, GRK...</td>\n",
              "      <td>[ãßáâÝ, ßáâÝß, áâÝßì, âÝßìã, ÝßìãÚ, ßìãÚæ, ìãÚ...</td>\n",
              "      <td>[MGTPA, GTPAS, TPASG, PASGR, ASGRK, SGRKR, GRK...</td>\n",
              "      <td>1</td>\n",
              "    </tr>\n",
              "    <tr>\n",
              "      <th>1510</th>\n",
              "      <td>[MRSAA, RSAAA, SAAAA, AAAAP, AAAPR, AAPRS, APR...</td>\n",
              "      <td>[ãèéÙâ, èéÙâé, éÙâéÝ, ÙâéÝê, âéÝêè, éÝêèÙ, Ýêè...</td>\n",
              "      <td>[MRSAA, RSAAA, SAAAA, AAAAP, AAAPR, AAPRS, APR...</td>\n",
              "      <td>1</td>\n",
              "    </tr>\n",
              "    <tr>\n",
              "      <th>1511</th>\n",
              "      <td>[MLLRL, LLRLL, LRLLL, RLLLA, LLLAW, LLAWA, LAW...</td>\n",
              "      <td>[ãèìÛß, èìÛßÝ, ìÛßÝä, ÛßÝäã, ßÝäãé, ÝäãéÝ, äãé...</td>\n",
              "      <td>[MLLRL, LLRLL, LRLLL, RLLLA, LLLAW, LLAWA, LAW...</td>\n",
              "      <td>0</td>\n",
              "    </tr>\n",
              "    <tr>\n",
              "      <th>1512</th>\n",
              "      <td>[MTLEE, TLEEL, LEELV, EELVA, ELVAC, LVACD, VAC...</td>\n",
              "      <td>[ãèâÜ×, èâÜ×ç, âÜ×çâ, Ü×çâÝ, ×çâÝí, çâÝíï, âÝí...</td>\n",
              "      <td>[MTLEE, TLEEL, LEELV, EELVA, ELVAC, LVACD, VAC...</td>\n",
              "      <td>0</td>\n",
              "    </tr>\n",
              "    <tr>\n",
              "      <th>1513</th>\n",
              "      <td>[MAASC, AASCL, ASCLV, SCLVL, CLVLL, LVLLA, VLL...</td>\n",
              "      <td>[ãéäêâ, éäêâ×, äêâ×ß, êâ×ß×, â×ß×é, ×ß×éâ, ß×é...</td>\n",
              "      <td>[MAASC, AASCL, ASCLV, SCLVL, CLVLL, LVLLA, VLL...</td>\n",
              "      <td>0</td>\n",
              "    </tr>\n",
              "  </tbody>\n",
              "</table>\n",
              "<p>1514 rows × 4 columns</p>\n",
              "</div>"
            ],
            "text/plain": [
              "                                                  Human  ... label\n",
              "0     [MYVTM, YVTMM, VTMMM, TMMMT, MMMTD, MMTDQ, MTD...  ...     1\n",
              "1     [MEDHQ, EDHQH, DHQHV, HQHVP, QHVPI, HVPID, VPI...  ...     1\n",
              "2     [MVLGK, VLGKV, LGKVK, GKVKS, KVKSL, VKSLT, KSL...  ...     1\n",
              "3     [MEHKE, EHKEV, HKEVV, KEVVL, EVVLL, VVLLL, VLL...  ...     1\n",
              "4     [MAPRT, APRTL, PRTLW, RTLWS, TLWSC, LWSCY, WSC...  ...     0\n",
              "...                                                 ...  ...   ...\n",
              "1509  [MGTPA, GTPAS, TPASG, PASGR, ASGRK, SGRKR, GRK...  ...     1\n",
              "1510  [MRSAA, RSAAA, SAAAA, AAAAP, AAAPR, AAPRS, APR...  ...     1\n",
              "1511  [MLLRL, LLRLL, LRLLL, RLLLA, LLLAW, LLAWA, LAW...  ...     0\n",
              "1512  [MTLEE, TLEEL, LEELV, EELVA, ELVAC, LVACD, VAC...  ...     0\n",
              "1513  [MAASC, AASCL, ASCLV, SCLVL, CLVLL, LVLLA, VLL...  ...     0\n",
              "\n",
              "[1514 rows x 4 columns]"
            ]
          },
          "metadata": {
            "tags": []
          },
          "execution_count": 3
        }
      ]
    },
    {
      "cell_type": "code",
      "metadata": {
        "colab": {
          "base_uri": "https://localhost:8080/"
        },
        "id": "U7xkmlMPDBI0",
        "outputId": "bd48c598-ee98-4a41-a22b-c9d39cfc27e7"
      },
      "source": [
        "data_join,data_test_join,num_words_join,MAX_SEQUENCE_LENGTH_,MAX_VOCAB_SIZE_ = f.get_seq_data_join(500000,2000,df_train,df_test,pad='pre')"
      ],
      "execution_count": null,
      "outputs": [
        {
          "output_type": "stream",
          "text": [
            "MAX_VOCAB_SIZE is 500000\n",
            "MAX_SEQUENCE_LENGTH is 2000\n",
            "max sequence_data length: 5818\n",
            "min sequence_data length: 16\n",
            "median sequence_data length: 481\n",
            "max word index: 499999\n",
            "Found 1969676 unique tokens.\n",
            "pre padding.\n",
            "Shape of data tensor: (6270, 2000)\n",
            "max sequences_test length: 4978\n",
            "min sequences_test length: 29\n",
            "median sequences_test length: 374\n",
            "pre padding for test seq.\n",
            "Shape of data_test tensor: (1514, 2000)\n",
            "num_words is 500000\n"
          ],
          "name": "stdout"
        }
      ]
    },
    {
      "cell_type": "code",
      "metadata": {
        "colab": {
          "base_uri": "https://localhost:8080/"
        },
        "id": "GsI6MDZcDBOo",
        "outputId": "bd997260-bc21-4fb5-ed56-dd4eaa5764a5"
      },
      "source": [
        "DROP = 0.8\n",
        "BATCH_SIZE = 64\n",
        "EPOCHS = 10\n",
        "ip = f.transf_model(MAX_SEQUENCE_LENGTH_,num_words_join,5,DROP)\n",
        "x = Dropout(DROP)(ip.output)\n",
        "x = Dense(128, activation=\"relu\")(x)\n",
        "x = Dropout(DROP)(x)\n",
        "outputs = Dense(1, activation=\"sigmoid\")(x)\n",
        "model1D_CNN_join=Model(ip.input,outputs)\n",
        "\n",
        "model1D_CNN_join.compile(loss='binary_crossentropy', optimizer='adam', metrics=['accuracy'])\n",
        "model1D_CNN_join.fit(data_join, df_train['label'].values,batch_size= BATCH_SIZE,epochs=EPOCHS, validation_data=(data_test_join,df_test['label'].values))\n",
        "print(roc_auc_score(df_test['label'].values, model1D_CNN_join.predict(data_test_join)))"
      ],
      "execution_count": null,
      "outputs": [
        {
          "output_type": "stream",
          "text": [
            "Epoch 1/10\n",
            "98/98 [==============================] - 24s 232ms/step - loss: 0.7452 - accuracy: 0.5082 - val_loss: 0.6779 - val_accuracy: 0.7305\n",
            "Epoch 2/10\n",
            "98/98 [==============================] - 22s 229ms/step - loss: 0.6527 - accuracy: 0.6016 - val_loss: 0.5289 - val_accuracy: 0.7371\n",
            "Epoch 3/10\n",
            "98/98 [==============================] - 22s 229ms/step - loss: 0.5218 - accuracy: 0.7723 - val_loss: 0.4577 - val_accuracy: 0.7834\n",
            "Epoch 4/10\n",
            "98/98 [==============================] - 22s 229ms/step - loss: 0.3664 - accuracy: 0.8683 - val_loss: 0.4671 - val_accuracy: 0.8038\n",
            "Epoch 5/10\n",
            "98/98 [==============================] - 22s 228ms/step - loss: 0.2304 - accuracy: 0.9249 - val_loss: 0.5829 - val_accuracy: 0.7847\n",
            "Epoch 6/10\n",
            "98/98 [==============================] - 22s 229ms/step - loss: 0.1740 - accuracy: 0.9466 - val_loss: 0.4749 - val_accuracy: 0.8230\n",
            "Epoch 7/10\n",
            "98/98 [==============================] - 22s 228ms/step - loss: 0.1381 - accuracy: 0.9664 - val_loss: 0.7306 - val_accuracy: 0.7926\n",
            "Epoch 8/10\n",
            "98/98 [==============================] - 22s 228ms/step - loss: 0.1019 - accuracy: 0.9707 - val_loss: 0.8572 - val_accuracy: 0.7860\n",
            "Epoch 9/10\n",
            "98/98 [==============================] - 22s 229ms/step - loss: 0.0759 - accuracy: 0.9789 - val_loss: 0.6637 - val_accuracy: 0.8151\n",
            "Epoch 10/10\n",
            "98/98 [==============================] - 22s 228ms/step - loss: 0.0622 - accuracy: 0.9846 - val_loss: 0.8032 - val_accuracy: 0.8184\n",
            "0.895350135852257\n"
          ],
          "name": "stdout"
        }
      ]
    }
  ]
}