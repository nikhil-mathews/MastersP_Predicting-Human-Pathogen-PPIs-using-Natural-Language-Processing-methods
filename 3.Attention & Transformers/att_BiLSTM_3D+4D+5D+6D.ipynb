{
  "nbformat": 4,
  "nbformat_minor": 0,
  "metadata": {
    "colab": {
      "name": "att_BiLSTM_3D+4D+5D+6D.ipynb",
      "provenance": [],
      "collapsed_sections": [],
      "mount_file_id": "1Pa6WaNrLgk-sOSo4Erkpvi2AfqRPphDh",
      "authorship_tag": "ABX9TyPm1Gk3yhpdysmPncT1ZW4C",
      "include_colab_link": true
    },
    "kernelspec": {
      "name": "python3",
      "display_name": "Python 3"
    },
    "language_info": {
      "name": "python"
    },
    "accelerator": "GPU"
  },
  "cells": [
    {
      "cell_type": "markdown",
      "metadata": {
        "id": "view-in-github",
        "colab_type": "text"
      },
      "source": [
        "<a href=\"https://colab.research.google.com/github/nikhil-mathews/MastersPr_Predicting-Human-Pathogen-PPIs-using-Natural-Language-Processing-methods/blob/main/3.Attention%20%26%20Transformers/att_BiLSTM_3D%2B4D%2B5D%2B6D.ipynb\" target=\"_parent\"><img src=\"https://colab.research.google.com/assets/colab-badge.svg\" alt=\"Open In Colab\"/></a>"
      ]
    },
    {
      "cell_type": "code",
      "metadata": {
        "id": "Isnmcaw5UqFv",
        "colab": {
          "base_uri": "https://localhost:8080/"
        },
        "outputId": "92e97027-3461-416b-bf49-77bc5d7420d7"
      },
      "source": [
        "import pandas as pd\n",
        "#Google colab does not have pickle\n",
        "try:\n",
        "  import pickle5 as pickle\n",
        "except:\n",
        "  !pip install pickle5\n",
        "  import pickle5 as pickle\n",
        "import os\n",
        "import seaborn as sns\n",
        "import sys\n",
        "import numpy as np\n",
        "import pandas as pd\n",
        "import matplotlib.pyplot as plt\n",
        "from keras.preprocessing.text import Tokenizer\n",
        "from keras.preprocessing.sequence import pad_sequences\n",
        "from keras.layers import Dense, Input, GlobalMaxPooling1D,Flatten, Attention\n",
        "from keras.layers import Conv1D, MaxPooling1D, Embedding,  Concatenate, Lambda,RepeatVector,Dot\n",
        "from keras.models import Model\n",
        "from sklearn.metrics import roc_auc_score,confusion_matrix,roc_curve, auc\n",
        "from numpy import random\n",
        "from keras.layers import LSTM, Bidirectional, GlobalMaxPool1D, Dropout, GlobalAveragePooling1D\n",
        "from keras.optimizers import Adam\n",
        "from keras.utils.vis_utils import plot_model\n",
        "\n",
        "import sys\n",
        "sys.path.insert(0,'/content/drive/MyDrive/ML_Data/')\n",
        "import functions as f\n",
        "\n",
        "\n",
        "def load_data(D=1,randomize=False):\n",
        "    try:\n",
        "        with open('/content/drive/MyDrive/ML_Data/df_train_'+str(D)+'D.pickle', 'rb') as handle:\n",
        "            df_train = pickle.load(handle)\n",
        "    except:\n",
        "        df_train = pd.read_pickle(\"C:/Users/nik00/py/proj/hyppi-train.pkl\")\n",
        "    try:\n",
        "        with open('/content/drive/MyDrive/ML_Data/df_test_'+str(D)+'D.pickle', 'rb') as handle:\n",
        "            df_test = pickle.load(handle)\n",
        "    except:\n",
        "        df_test = pd.read_pickle(\"C:/Users/nik00/py/proj/hyppi-independent.pkl\")\n",
        "    if randomize:\n",
        "        return shuff_together(df_train,df_test)\n",
        "    else:\n",
        "        return df_train,df_test"
      ],
      "execution_count": null,
      "outputs": [
        {
          "output_type": "stream",
          "text": [
            "Collecting pickle5\n",
            "\u001b[?25l  Downloading https://files.pythonhosted.org/packages/f7/4c/5c4dd0462c8d3a6bc4af500a6af240763c2ebd1efdc736fc2c946d44b70a/pickle5-0.0.11.tar.gz (132kB)\n",
            "\r\u001b[K     |██▌                             | 10kB 22.3MB/s eta 0:00:01\r\u001b[K     |█████                           | 20kB 17.3MB/s eta 0:00:01\r\u001b[K     |███████▍                        | 30kB 14.1MB/s eta 0:00:01\r\u001b[K     |██████████                      | 40kB 13.2MB/s eta 0:00:01\r\u001b[K     |████████████▍                   | 51kB 9.3MB/s eta 0:00:01\r\u001b[K     |██████████████▉                 | 61kB 9.9MB/s eta 0:00:01\r\u001b[K     |█████████████████▍              | 71kB 9.9MB/s eta 0:00:01\r\u001b[K     |███████████████████▉            | 81kB 10.1MB/s eta 0:00:01\r\u001b[K     |██████████████████████▎         | 92kB 10.2MB/s eta 0:00:01\r\u001b[K     |████████████████████████▉       | 102kB 9.0MB/s eta 0:00:01\r\u001b[K     |███████████████████████████▎    | 112kB 9.0MB/s eta 0:00:01\r\u001b[K     |█████████████████████████████▊  | 122kB 9.0MB/s eta 0:00:01\r\u001b[K     |████████████████████████████████| 133kB 9.0MB/s \n",
            "\u001b[?25hBuilding wheels for collected packages: pickle5\n",
            "  Building wheel for pickle5 (setup.py) ... \u001b[?25l\u001b[?25hdone\n",
            "  Created wheel for pickle5: filename=pickle5-0.0.11-cp37-cp37m-linux_x86_64.whl size=219249 sha256=6dedbc5abd76d00a2dd06d4fca8c899839be53ddeea6cc087c914b4aa3a1f681\n",
            "  Stored in directory: /root/.cache/pip/wheels/a6/90/95/f889ca4aa8b0e0c7f21c8470b6f5d6032f0390a3a141a9a3bd\n",
            "Successfully built pickle5\n",
            "Installing collected packages: pickle5\n",
            "Successfully installed pickle5-0.0.11\n"
          ],
          "name": "stdout"
        }
      ]
    },
    {
      "cell_type": "code",
      "metadata": {
        "colab": {
          "base_uri": "https://localhost:8080/",
          "height": 428
        },
        "id": "3ZnyI1lJUz0h",
        "outputId": "e9e0ee2b-c95b-4da5-d782-da9df2c91179"
      },
      "source": [
        "df_train,df_test = load_data(3)\n",
        "print('The data used will be:')\n",
        "df_train[['Human','Yersinia']]"
      ],
      "execution_count": null,
      "outputs": [
        {
          "output_type": "stream",
          "text": [
            "The data used will be:\n"
          ],
          "name": "stdout"
        },
        {
          "output_type": "execute_result",
          "data": {
            "text/html": [
              "<div>\n",
              "<style scoped>\n",
              "    .dataframe tbody tr th:only-of-type {\n",
              "        vertical-align: middle;\n",
              "    }\n",
              "\n",
              "    .dataframe tbody tr th {\n",
              "        vertical-align: top;\n",
              "    }\n",
              "\n",
              "    .dataframe thead th {\n",
              "        text-align: right;\n",
              "    }\n",
              "</style>\n",
              "<table border=\"1\" class=\"dataframe\">\n",
              "  <thead>\n",
              "    <tr style=\"text-align: right;\">\n",
              "      <th></th>\n",
              "      <th>Human</th>\n",
              "      <th>Yersinia</th>\n",
              "    </tr>\n",
              "  </thead>\n",
              "  <tbody>\n",
              "    <tr>\n",
              "      <th>0</th>\n",
              "      <td>[MKD, KDK, DKQ, KQK, QKK, KKK, KKK, KKE, KER, ...</td>\n",
              "      <td>[MAK, AKA, KAS, ASR, SRH, RHN, HNL, NLS, LSI, ...</td>\n",
              "    </tr>\n",
              "    <tr>\n",
              "      <th>1</th>\n",
              "      <td>[MSW, SWS, WSG, SGL, GLL, LLH, LHG, HGL, GLN, ...</td>\n",
              "      <td>[MQH, QHV, HVT, VTG, TGS, GSK, SKR, KRR, RRL, ...</td>\n",
              "    </tr>\n",
              "    <tr>\n",
              "      <th>2</th>\n",
              "      <td>[MSL, SLF, LFD, FDL, DLF, LFR, FRG, RGF, GFF, ...</td>\n",
              "      <td>[MAE, AEL, ELP, LPA, PAK, AKR, KRR, RRF, RFT, ...</td>\n",
              "    </tr>\n",
              "    <tr>\n",
              "      <th>3</th>\n",
              "      <td>[MAV, AVA, VAP, APR, PRL, RLF, LFG, FGG, GGL, ...</td>\n",
              "      <td>[MRI, RIF, IFA, FAI, AIS, ISC, SCS, CSS, SSY, ...</td>\n",
              "    </tr>\n",
              "    <tr>\n",
              "      <th>4</th>\n",
              "      <td>[MST, STI, TIQ, IQS, QSE, SET, ETD, TDC, DCY, ...</td>\n",
              "      <td>[MSY, SYA, YAF, AFP, FPG, PGT, GTF, TFP, FPG, ...</td>\n",
              "    </tr>\n",
              "    <tr>\n",
              "      <th>...</th>\n",
              "      <td>...</td>\n",
              "      <td>...</td>\n",
              "    </tr>\n",
              "    <tr>\n",
              "      <th>6265</th>\n",
              "      <td>[MSY, SYF, YFG, FGE, GEH, EHF, HFW, FWG, WGE, ...</td>\n",
              "      <td>[MIT, ITT, TTD, TDG, DGN, GNS, NSA, SAV, AVA, ...</td>\n",
              "    </tr>\n",
              "    <tr>\n",
              "      <th>6266</th>\n",
              "      <td>[MTV, TVG, VGK, GKS, KSS, SSK, SKM, KML, MLQ, ...</td>\n",
              "      <td>[MSQ, SQP, QPP, PPF, PFW, FWQ, WQQ, QQK, QKT, ...</td>\n",
              "    </tr>\n",
              "    <tr>\n",
              "      <th>6267</th>\n",
              "      <td>[MNN, NNL, NLS, LSF, SFS, FSE, SEL, ELC, LCC, ...</td>\n",
              "      <td>[MSE, SED, EDR, DRH, RHQ, HQQ, QQR, QRQ, RQQ, ...</td>\n",
              "    </tr>\n",
              "    <tr>\n",
              "      <th>6268</th>\n",
              "      <td>[MAP, APE, PEI, EIN, INL, NLP, LPG, PGP, GPM, ...</td>\n",
              "      <td>[MKN, KNL, NLS, LSF, SFV, FVA, VAG, AGL, GLV, ...</td>\n",
              "    </tr>\n",
              "    <tr>\n",
              "      <th>6269</th>\n",
              "      <td>[MML, MLG, LGT, GTE, TEG, EGG, GGE, GEG, EGF, ...</td>\n",
              "      <td>[MVM, VMK, MKK, KKI, KIA, IAC, ACL, CLS, LSA, ...</td>\n",
              "    </tr>\n",
              "  </tbody>\n",
              "</table>\n",
              "<p>6270 rows × 2 columns</p>\n",
              "</div>"
            ],
            "text/plain": [
              "                                                  Human                                           Yersinia\n",
              "0     [MKD, KDK, DKQ, KQK, QKK, KKK, KKK, KKE, KER, ...  [MAK, AKA, KAS, ASR, SRH, RHN, HNL, NLS, LSI, ...\n",
              "1     [MSW, SWS, WSG, SGL, GLL, LLH, LHG, HGL, GLN, ...  [MQH, QHV, HVT, VTG, TGS, GSK, SKR, KRR, RRL, ...\n",
              "2     [MSL, SLF, LFD, FDL, DLF, LFR, FRG, RGF, GFF, ...  [MAE, AEL, ELP, LPA, PAK, AKR, KRR, RRF, RFT, ...\n",
              "3     [MAV, AVA, VAP, APR, PRL, RLF, LFG, FGG, GGL, ...  [MRI, RIF, IFA, FAI, AIS, ISC, SCS, CSS, SSY, ...\n",
              "4     [MST, STI, TIQ, IQS, QSE, SET, ETD, TDC, DCY, ...  [MSY, SYA, YAF, AFP, FPG, PGT, GTF, TFP, FPG, ...\n",
              "...                                                 ...                                                ...\n",
              "6265  [MSY, SYF, YFG, FGE, GEH, EHF, HFW, FWG, WGE, ...  [MIT, ITT, TTD, TDG, DGN, GNS, NSA, SAV, AVA, ...\n",
              "6266  [MTV, TVG, VGK, GKS, KSS, SSK, SKM, KML, MLQ, ...  [MSQ, SQP, QPP, PPF, PFW, FWQ, WQQ, QQK, QKT, ...\n",
              "6267  [MNN, NNL, NLS, LSF, SFS, FSE, SEL, ELC, LCC, ...  [MSE, SED, EDR, DRH, RHQ, HQQ, QQR, QRQ, RQQ, ...\n",
              "6268  [MAP, APE, PEI, EIN, INL, NLP, LPG, PGP, GPM, ...  [MKN, KNL, NLS, LSF, SFV, FVA, VAG, AGL, GLV, ...\n",
              "6269  [MML, MLG, LGT, GTE, TEG, EGG, GGE, GEG, EGF, ...  [MVM, VMK, MKK, KKI, KIA, IAC, ACL, CLS, LSA, ...\n",
              "\n",
              "[6270 rows x 2 columns]"
            ]
          },
          "metadata": {
            "tags": []
          },
          "execution_count": 2
        }
      ]
    },
    {
      "cell_type": "code",
      "metadata": {
        "colab": {
          "base_uri": "https://localhost:8080/"
        },
        "id": "F6Tq2AjiU-gC",
        "outputId": "4718f6aa-85e0-490b-9745-d5aa94cead8c"
      },
      "source": [
        "data1,data2,data1_test,data2_test,num_words,MAX_SEQUENCE_LENGTH,MAX_VOCAB_SIZE = f.get_seq_data_doubleip(7000,1000,df_train,df_test, pad='pre')"
      ],
      "execution_count": null,
      "outputs": [
        {
          "output_type": "stream",
          "text": [
            "MAX_VOCAB_SIZE is 7000\n",
            "MAX_SEQUENCE_LENGTH is 1000\n",
            "max sequences1_train length: 8624\n",
            "min sequences1_train length: 37\n",
            "median sequences1_train length: 467\n",
            "max word index sequences1_train: 6999\n",
            "max sequences2_train length: 3704\n",
            "min sequences2_train length: 29\n",
            "median sequences2_train length: 329\n",
            "max word index sequences2_train: 6999\n",
            "Found 8000 unique tokens in tokenizer1.\n",
            "Found 7998 unique tokens in tokenizer2.\n",
            "pre padding\n",
            "Shape of data1 tensor: (6270, 1000)\n",
            "Shape of data2 tensor: (6270, 1000)\n",
            "max test_sequences1 length: 5530\n",
            "min test_sequences1 length: 37\n",
            "median test_sequences1 length: 484\n",
            "max test_sequences2 length: 3704\n",
            "min test_sequences2 length: 29\n",
            "median test_sequences2 length: 324\n",
            "pre padding for test seq.\n",
            "Shape of test_data1 tensor: (1514, 1000)\n",
            "Shape of test_data2 tensor: (1514, 1000)\n",
            "num_words is 7000\n"
          ],
          "name": "stdout"
        }
      ]
    },
    {
      "cell_type": "code",
      "metadata": {
        "colab": {
          "base_uri": "https://localhost:8080/"
        },
        "id": "Kx2qiUfZWbrB",
        "outputId": "721922ef-4a52-4bb5-c1f8-b8f10ca3b7a9"
      },
      "source": [
        "EMBEDDING_DIM = 5\n",
        "VALIDATION_SPLIT = 0.2\n",
        "BATCH_SIZE = 128\n",
        "EPOCHS = 20\n",
        "M_1D=10\n",
        "DROP = 0.6\n",
        "\n",
        "ip1 = f.att_model(MAX_SEQUENCE_LENGTH,EMBEDDING_DIM,num_words,DROP,True)\n",
        "ip2 = f.att_model(MAX_SEQUENCE_LENGTH,EMBEDDING_DIM,num_words,DROP,True)\n",
        "\n",
        "concatenator = Concatenate(axis=1)\n",
        "x = concatenator([ip1.output, ip2.output])\n",
        "x = Dense(128)(x)\n",
        "#x = concatenator([x1.output, x2.output]) # output is N x 4M\n",
        "#x = Dense(128, activation='relu')(x)\n",
        "x = Dropout(DROP)(x)\n",
        "output = Dense(1, activation=\"sigmoid\",name=\"Final\")(x)\n",
        "model_doubleip = Model(inputs=[ip1.input,ip2.input], outputs=output)\n",
        "#plot_model(model1D_CNN_doubleip, to_file='model_plot.png', show_shapes=True, show_layer_names=False)\n",
        "model_doubleip.compile(loss='binary_crossentropy', optimizer='adam', metrics=['accuracy'])\n",
        "trains = [data1,data2,data2,data1]\n",
        "tests = [data1_test,data2_test,data2_test,data1_test]\n",
        "\n",
        "model_doubleip.fit(trains, df_train['label'].values,batch_size=BATCH_SIZE, epochs=EPOCHS,validation_data=(tests,df_test['label'].values))\n",
        "print(roc_auc_score(df_test['label'].values, model_doubleip.predict(tests)))"
      ],
      "execution_count": null,
      "outputs": [
        {
          "output_type": "stream",
          "text": [
            "Epoch 1/20\n",
            "49/49 [==============================] - 52s 539ms/step - loss: 0.6760 - accuracy: 0.5726 - val_loss: 0.6007 - val_accuracy: 0.6830\n",
            "Epoch 2/20\n",
            "49/49 [==============================] - 24s 487ms/step - loss: 0.6261 - accuracy: 0.6660 - val_loss: 0.5972 - val_accuracy: 0.6935\n",
            "Epoch 3/20\n",
            "49/49 [==============================] - 24s 488ms/step - loss: 0.6090 - accuracy: 0.6708 - val_loss: 0.6152 - val_accuracy: 0.6605\n",
            "Epoch 4/20\n",
            "49/49 [==============================] - 24s 491ms/step - loss: 0.6036 - accuracy: 0.6832 - val_loss: 0.5766 - val_accuracy: 0.6889\n",
            "Epoch 5/20\n",
            "49/49 [==============================] - 24s 490ms/step - loss: 0.5868 - accuracy: 0.6840 - val_loss: 0.5421 - val_accuracy: 0.7213\n",
            "Epoch 6/20\n",
            "49/49 [==============================] - 24s 491ms/step - loss: 0.5187 - accuracy: 0.7419 - val_loss: 0.5432 - val_accuracy: 0.7206\n",
            "Epoch 7/20\n",
            "49/49 [==============================] - 24s 490ms/step - loss: 0.4673 - accuracy: 0.7753 - val_loss: 0.5120 - val_accuracy: 0.7530\n",
            "Epoch 8/20\n",
            "49/49 [==============================] - 24s 492ms/step - loss: 0.4115 - accuracy: 0.8164 - val_loss: 0.5142 - val_accuracy: 0.7583\n",
            "Epoch 9/20\n",
            "49/49 [==============================] - 24s 494ms/step - loss: 0.3582 - accuracy: 0.8433 - val_loss: 0.5275 - val_accuracy: 0.7635\n",
            "Epoch 10/20\n",
            "49/49 [==============================] - 24s 495ms/step - loss: 0.3254 - accuracy: 0.8635 - val_loss: 0.5250 - val_accuracy: 0.7655\n",
            "Epoch 11/20\n",
            "49/49 [==============================] - 24s 495ms/step - loss: 0.3030 - accuracy: 0.8719 - val_loss: 0.5523 - val_accuracy: 0.7649\n",
            "Epoch 12/20\n",
            "49/49 [==============================] - 24s 496ms/step - loss: 0.2665 - accuracy: 0.8810 - val_loss: 0.6190 - val_accuracy: 0.7616\n",
            "Epoch 13/20\n",
            "49/49 [==============================] - 24s 496ms/step - loss: 0.2297 - accuracy: 0.9115 - val_loss: 0.5988 - val_accuracy: 0.7701\n",
            "Epoch 14/20\n",
            "49/49 [==============================] - 24s 495ms/step - loss: 0.2017 - accuracy: 0.9194 - val_loss: 0.6090 - val_accuracy: 0.7701\n",
            "Epoch 15/20\n",
            "49/49 [==============================] - 24s 496ms/step - loss: 0.2061 - accuracy: 0.9151 - val_loss: 0.6489 - val_accuracy: 0.7768\n",
            "Epoch 16/20\n",
            "49/49 [==============================] - 24s 497ms/step - loss: 0.1813 - accuracy: 0.9333 - val_loss: 0.6446 - val_accuracy: 0.7662\n",
            "Epoch 17/20\n",
            "49/49 [==============================] - 24s 496ms/step - loss: 0.1758 - accuracy: 0.9329 - val_loss: 0.6940 - val_accuracy: 0.7748\n",
            "Epoch 18/20\n",
            "49/49 [==============================] - 24s 498ms/step - loss: 0.1494 - accuracy: 0.9450 - val_loss: 0.8009 - val_accuracy: 0.7569\n",
            "Epoch 19/20\n",
            "49/49 [==============================] - 24s 496ms/step - loss: 0.1358 - accuracy: 0.9493 - val_loss: 0.7831 - val_accuracy: 0.7629\n",
            "Epoch 20/20\n",
            "49/49 [==============================] - 24s 498ms/step - loss: 0.1355 - accuracy: 0.9500 - val_loss: 1.0383 - val_accuracy: 0.7569\n",
            "0.8365497540349953\n"
          ],
          "name": "stdout"
        }
      ]
    },
    {
      "cell_type": "code",
      "metadata": {
        "colab": {
          "base_uri": "https://localhost:8080/",
          "height": 428
        },
        "id": "lgpBUn3_iPJl",
        "outputId": "25884842-892b-454f-e8a4-6524be314c35"
      },
      "source": [
        "df_train,df_test = load_data(4)\n",
        "print('The data used will be:')\n",
        "df_train[['Human','Yersinia']]"
      ],
      "execution_count": null,
      "outputs": [
        {
          "output_type": "stream",
          "text": [
            "The data used will be:\n"
          ],
          "name": "stdout"
        },
        {
          "output_type": "execute_result",
          "data": {
            "text/html": [
              "<div>\n",
              "<style scoped>\n",
              "    .dataframe tbody tr th:only-of-type {\n",
              "        vertical-align: middle;\n",
              "    }\n",
              "\n",
              "    .dataframe tbody tr th {\n",
              "        vertical-align: top;\n",
              "    }\n",
              "\n",
              "    .dataframe thead th {\n",
              "        text-align: right;\n",
              "    }\n",
              "</style>\n",
              "<table border=\"1\" class=\"dataframe\">\n",
              "  <thead>\n",
              "    <tr style=\"text-align: right;\">\n",
              "      <th></th>\n",
              "      <th>Human</th>\n",
              "      <th>Yersinia</th>\n",
              "    </tr>\n",
              "  </thead>\n",
              "  <tbody>\n",
              "    <tr>\n",
              "      <th>0</th>\n",
              "      <td>[MKDK, KDKQ, DKQK, KQKK, QKKK, KKKK, KKKE, KKE...</td>\n",
              "      <td>[MAKA, AKAS, KASR, ASRH, SRHN, RHNL, HNLS, NLS...</td>\n",
              "    </tr>\n",
              "    <tr>\n",
              "      <th>1</th>\n",
              "      <td>[MSWS, SWSG, WSGL, SGLL, GLLH, LLHG, LHGL, HGL...</td>\n",
              "      <td>[MQHV, QHVT, HVTG, VTGS, TGSK, GSKR, SKRR, KRR...</td>\n",
              "    </tr>\n",
              "    <tr>\n",
              "      <th>2</th>\n",
              "      <td>[MSLF, SLFD, LFDL, FDLF, DLFR, LFRG, FRGF, RGF...</td>\n",
              "      <td>[MAEL, AELP, ELPA, LPAK, PAKR, AKRR, KRRF, RRF...</td>\n",
              "    </tr>\n",
              "    <tr>\n",
              "      <th>3</th>\n",
              "      <td>[MAVA, AVAP, VAPR, APRL, PRLF, RLFG, LFGG, FGG...</td>\n",
              "      <td>[MRIF, RIFA, IFAI, FAIS, AISC, ISCS, SCSS, CSS...</td>\n",
              "    </tr>\n",
              "    <tr>\n",
              "      <th>4</th>\n",
              "      <td>[MSTI, STIQ, TIQS, IQSE, QSET, SETD, ETDC, TDC...</td>\n",
              "      <td>[MSYA, SYAF, YAFP, AFPG, FPGT, PGTF, GTFP, TFP...</td>\n",
              "    </tr>\n",
              "    <tr>\n",
              "      <th>...</th>\n",
              "      <td>...</td>\n",
              "      <td>...</td>\n",
              "    </tr>\n",
              "    <tr>\n",
              "      <th>6265</th>\n",
              "      <td>[MSYF, SYFG, YFGE, FGEH, GEHF, EHFW, HFWG, FWG...</td>\n",
              "      <td>[MITT, ITTD, TTDG, TDGN, DGNS, GNSA, NSAV, SAV...</td>\n",
              "    </tr>\n",
              "    <tr>\n",
              "      <th>6266</th>\n",
              "      <td>[MTVG, TVGK, VGKS, GKSS, KSSK, SSKM, SKML, KML...</td>\n",
              "      <td>[MSQP, SQPP, QPPF, PPFW, PFWQ, FWQQ, WQQK, QQK...</td>\n",
              "    </tr>\n",
              "    <tr>\n",
              "      <th>6267</th>\n",
              "      <td>[MNNL, NNLS, NLSF, LSFS, SFSE, FSEL, SELC, ELC...</td>\n",
              "      <td>[MSED, SEDR, EDRH, DRHQ, RHQQ, HQQR, QQRQ, QRQ...</td>\n",
              "    </tr>\n",
              "    <tr>\n",
              "      <th>6268</th>\n",
              "      <td>[MAPE, APEI, PEIN, EINL, INLP, NLPG, LPGP, PGP...</td>\n",
              "      <td>[MKNL, KNLS, NLSF, LSFV, SFVA, FVAG, VAGL, AGL...</td>\n",
              "    </tr>\n",
              "    <tr>\n",
              "      <th>6269</th>\n",
              "      <td>[MMLG, MLGT, LGTE, GTEG, TEGG, EGGE, GGEG, GEG...</td>\n",
              "      <td>[MVMK, VMKK, MKKI, KKIA, KIAC, IACL, ACLS, CLS...</td>\n",
              "    </tr>\n",
              "  </tbody>\n",
              "</table>\n",
              "<p>6270 rows × 2 columns</p>\n",
              "</div>"
            ],
            "text/plain": [
              "                                                  Human                                           Yersinia\n",
              "0     [MKDK, KDKQ, DKQK, KQKK, QKKK, KKKK, KKKE, KKE...  [MAKA, AKAS, KASR, ASRH, SRHN, RHNL, HNLS, NLS...\n",
              "1     [MSWS, SWSG, WSGL, SGLL, GLLH, LLHG, LHGL, HGL...  [MQHV, QHVT, HVTG, VTGS, TGSK, GSKR, SKRR, KRR...\n",
              "2     [MSLF, SLFD, LFDL, FDLF, DLFR, LFRG, FRGF, RGF...  [MAEL, AELP, ELPA, LPAK, PAKR, AKRR, KRRF, RRF...\n",
              "3     [MAVA, AVAP, VAPR, APRL, PRLF, RLFG, LFGG, FGG...  [MRIF, RIFA, IFAI, FAIS, AISC, ISCS, SCSS, CSS...\n",
              "4     [MSTI, STIQ, TIQS, IQSE, QSET, SETD, ETDC, TDC...  [MSYA, SYAF, YAFP, AFPG, FPGT, PGTF, GTFP, TFP...\n",
              "...                                                 ...                                                ...\n",
              "6265  [MSYF, SYFG, YFGE, FGEH, GEHF, EHFW, HFWG, FWG...  [MITT, ITTD, TTDG, TDGN, DGNS, GNSA, NSAV, SAV...\n",
              "6266  [MTVG, TVGK, VGKS, GKSS, KSSK, SSKM, SKML, KML...  [MSQP, SQPP, QPPF, PPFW, PFWQ, FWQQ, WQQK, QQK...\n",
              "6267  [MNNL, NNLS, NLSF, LSFS, SFSE, FSEL, SELC, ELC...  [MSED, SEDR, EDRH, DRHQ, RHQQ, HQQR, QQRQ, QRQ...\n",
              "6268  [MAPE, APEI, PEIN, EINL, INLP, NLPG, LPGP, PGP...  [MKNL, KNLS, NLSF, LSFV, SFVA, FVAG, VAGL, AGL...\n",
              "6269  [MMLG, MLGT, LGTE, GTEG, TEGG, EGGE, GGEG, GEG...  [MVMK, VMKK, MKKI, KKIA, KIAC, IACL, ACLS, CLS...\n",
              "\n",
              "[6270 rows x 2 columns]"
            ]
          },
          "metadata": {
            "tags": []
          },
          "execution_count": 7
        }
      ]
    },
    {
      "cell_type": "code",
      "metadata": {
        "colab": {
          "base_uri": "https://localhost:8080/"
        },
        "id": "42qVtSSEiPal",
        "outputId": "3dc05535-106a-4ac9-a494-f8469c9a47b7"
      },
      "source": [
        " data1,data2,data1_test,data2_test,num_words,MAX_SEQUENCE_LENGTH,MAX_VOCAB_SIZE = f.get_seq_data_doubleip(100000,1000,df_train,df_test,pad = 'pre')"
      ],
      "execution_count": null,
      "outputs": [
        {
          "output_type": "stream",
          "text": [
            "MAX_VOCAB_SIZE is 100000\n",
            "MAX_SEQUENCE_LENGTH is 1000\n",
            "max sequences1_train length: 8063\n",
            "min sequences1_train length: 34\n",
            "median sequences1_train length: 440\n",
            "max word index sequences1_train: 99999\n",
            "max sequences2_train length: 3707\n",
            "min sequences2_train length: 26\n",
            "median sequences2_train length: 320\n",
            "max word index sequences2_train: 99999\n",
            "Found 155225 unique tokens in tokenizer1.\n",
            "Found 134906 unique tokens in tokenizer2.\n",
            "pre padding\n",
            "Shape of data1 tensor: (6270, 1000)\n",
            "Shape of data2 tensor: (6270, 1000)\n",
            "max test_sequences1 length: 5224\n",
            "min test_sequences1 length: 34\n",
            "median test_sequences1 length: 449\n",
            "max test_sequences2 length: 3707\n",
            "min test_sequences2 length: 24\n",
            "median test_sequences2 length: 308\n",
            "pre padding for test seq.\n",
            "Shape of test_data1 tensor: (1514, 1000)\n",
            "Shape of test_data2 tensor: (1514, 1000)\n",
            "num_words is 100000\n"
          ],
          "name": "stdout"
        }
      ]
    },
    {
      "cell_type": "code",
      "metadata": {
        "colab": {
          "base_uri": "https://localhost:8080/"
        },
        "id": "ZBGtu8ev7V_W",
        "outputId": "c75686bc-3a15-4074-b771-7957e214f5df"
      },
      "source": [
        "EMBEDDING_DIM = 10\n",
        "VALIDATION_SPLIT = 0.2\n",
        "BATCH_SIZE = 128\n",
        "EPOCHS = 10\n",
        "M_1D=10\n",
        "DROP = 0.7\n",
        "\n",
        "ip1 = f.att_model(MAX_SEQUENCE_LENGTH,EMBEDDING_DIM,num_words,DROP,True)\n",
        "ip2 = f.att_model(MAX_SEQUENCE_LENGTH,EMBEDDING_DIM,num_words,DROP,True)\n",
        "\n",
        "concatenator = Concatenate(axis=1)\n",
        "x = concatenator([ip1.output, ip2.output])\n",
        "x = Dense(128)(x)\n",
        "#x = concatenator([x1.output, x2.output]) # output is N x 4M\n",
        "#x = Dense(128, activation='relu')(x)\n",
        "x = Dropout(DROP)(x)\n",
        "output = Dense(1, activation=\"sigmoid\",name=\"Final\")(x)\n",
        "model_doubleip = Model(inputs=[ip1.input,ip2.input], outputs=output)\n",
        "#plot_model(model1D_CNN_doubleip, to_file='model_plot.png', show_shapes=True, show_layer_names=False)\n",
        "model_doubleip.compile(loss='binary_crossentropy', optimizer='adam', metrics=['accuracy'])\n",
        "trains = [data1,data2,data2,data1]\n",
        "tests = [data1_test,data2_test,data2_test,data1_test]\n",
        "\n",
        "model_doubleip.fit(trains, df_train['label'].values,batch_size=BATCH_SIZE, epochs=EPOCHS,validation_data=(tests,df_test['label'].values))\n",
        "print(roc_auc_score(df_test['label'].values, model_doubleip.predict(tests)))"
      ],
      "execution_count": null,
      "outputs": [
        {
          "output_type": "stream",
          "text": [
            "Epoch 1/10\n",
            "49/49 [==============================] - 38s 568ms/step - loss: 0.6904 - accuracy: 0.5515 - val_loss: 0.6238 - val_accuracy: 0.6995\n",
            "Epoch 2/10\n",
            "49/49 [==============================] - 25s 519ms/step - loss: 0.6134 - accuracy: 0.6739 - val_loss: 0.6249 - val_accuracy: 0.6275\n",
            "Epoch 3/10\n",
            "49/49 [==============================] - 26s 523ms/step - loss: 0.5763 - accuracy: 0.7114 - val_loss: 0.5480 - val_accuracy: 0.7226\n",
            "Epoch 4/10\n",
            "49/49 [==============================] - 26s 523ms/step - loss: 0.4693 - accuracy: 0.7842 - val_loss: 0.4579 - val_accuracy: 0.7787\n",
            "Epoch 5/10\n",
            "49/49 [==============================] - 26s 523ms/step - loss: 0.3120 - accuracy: 0.8789 - val_loss: 0.4403 - val_accuracy: 0.8038\n",
            "Epoch 6/10\n",
            "49/49 [==============================] - 26s 524ms/step - loss: 0.2139 - accuracy: 0.9162 - val_loss: 0.5882 - val_accuracy: 0.7715\n",
            "Epoch 7/10\n",
            "49/49 [==============================] - 26s 529ms/step - loss: 0.1334 - accuracy: 0.9508 - val_loss: 0.5489 - val_accuracy: 0.8131\n",
            "Epoch 8/10\n",
            "49/49 [==============================] - 26s 528ms/step - loss: 0.0758 - accuracy: 0.9747 - val_loss: 0.6914 - val_accuracy: 0.8025\n",
            "Epoch 9/10\n",
            "49/49 [==============================] - 26s 526ms/step - loss: 0.0486 - accuracy: 0.9860 - val_loss: 0.9817 - val_accuracy: 0.7867\n",
            "Epoch 10/10\n",
            "49/49 [==============================] - 26s 528ms/step - loss: 0.0248 - accuracy: 0.9931 - val_loss: 0.9031 - val_accuracy: 0.8078\n",
            "0.8855525443722962\n"
          ],
          "name": "stdout"
        }
      ]
    },
    {
      "cell_type": "code",
      "metadata": {
        "colab": {
          "base_uri": "https://localhost:8080/",
          "height": 428
        },
        "id": "xms8Vz_1lIv8",
        "outputId": "57de94d6-b903-475a-c916-4a7c1775b4af"
      },
      "source": [
        "df_train,df_test = load_data(5)\n",
        "print('The data used will be:')\n",
        "df_train[['Human','Yersinia']]"
      ],
      "execution_count": null,
      "outputs": [
        {
          "output_type": "stream",
          "text": [
            "The data used will be:\n"
          ],
          "name": "stdout"
        },
        {
          "output_type": "execute_result",
          "data": {
            "text/html": [
              "<div>\n",
              "<style scoped>\n",
              "    .dataframe tbody tr th:only-of-type {\n",
              "        vertical-align: middle;\n",
              "    }\n",
              "\n",
              "    .dataframe tbody tr th {\n",
              "        vertical-align: top;\n",
              "    }\n",
              "\n",
              "    .dataframe thead th {\n",
              "        text-align: right;\n",
              "    }\n",
              "</style>\n",
              "<table border=\"1\" class=\"dataframe\">\n",
              "  <thead>\n",
              "    <tr style=\"text-align: right;\">\n",
              "      <th></th>\n",
              "      <th>Human</th>\n",
              "      <th>Yersinia</th>\n",
              "    </tr>\n",
              "  </thead>\n",
              "  <tbody>\n",
              "    <tr>\n",
              "      <th>0</th>\n",
              "      <td>[MKDKQ, KDKQK, DKQKK, KQKKK, QKKKK, KKKKE, KKK...</td>\n",
              "      <td>[MAKAS, AKASR, KASRH, ASRHN, SRHNL, RHNLS, HNL...</td>\n",
              "    </tr>\n",
              "    <tr>\n",
              "      <th>1</th>\n",
              "      <td>[MSWSG, SWSGL, WSGLL, SGLLH, GLLHG, LLHGL, LHG...</td>\n",
              "      <td>[MQHVT, QHVTG, HVTGS, VTGSK, TGSKR, GSKRR, SKR...</td>\n",
              "    </tr>\n",
              "    <tr>\n",
              "      <th>2</th>\n",
              "      <td>[MSLFD, SLFDL, LFDLF, FDLFR, DLFRG, LFRGF, FRG...</td>\n",
              "      <td>[MAELP, AELPA, ELPAK, LPAKR, PAKRR, AKRRF, KRR...</td>\n",
              "    </tr>\n",
              "    <tr>\n",
              "      <th>3</th>\n",
              "      <td>[MAVAP, AVAPR, VAPRL, APRLF, PRLFG, RLFGG, LFG...</td>\n",
              "      <td>[MRIFA, RIFAI, IFAIS, FAISC, AISCS, ISCSS, SCS...</td>\n",
              "    </tr>\n",
              "    <tr>\n",
              "      <th>4</th>\n",
              "      <td>[MSTIQ, STIQS, TIQSE, IQSET, QSETD, SETDC, ETD...</td>\n",
              "      <td>[MSYAF, SYAFP, YAFPG, AFPGT, FPGTF, PGTFP, GTF...</td>\n",
              "    </tr>\n",
              "    <tr>\n",
              "      <th>...</th>\n",
              "      <td>...</td>\n",
              "      <td>...</td>\n",
              "    </tr>\n",
              "    <tr>\n",
              "      <th>6265</th>\n",
              "      <td>[MSYFG, SYFGE, YFGEH, FGEHF, GEHFW, EHFWG, HFW...</td>\n",
              "      <td>[MITTD, ITTDG, TTDGN, TDGNS, DGNSA, GNSAV, NSA...</td>\n",
              "    </tr>\n",
              "    <tr>\n",
              "      <th>6266</th>\n",
              "      <td>[MTVGK, TVGKS, VGKSS, GKSSK, KSSKM, SSKML, SKM...</td>\n",
              "      <td>[MSQPP, SQPPF, QPPFW, PPFWQ, PFWQQ, FWQQK, WQQ...</td>\n",
              "    </tr>\n",
              "    <tr>\n",
              "      <th>6267</th>\n",
              "      <td>[MNNLS, NNLSF, NLSFS, LSFSE, SFSEL, FSELC, SEL...</td>\n",
              "      <td>[MSEDR, SEDRH, EDRHQ, DRHQQ, RHQQR, HQQRQ, QQR...</td>\n",
              "    </tr>\n",
              "    <tr>\n",
              "      <th>6268</th>\n",
              "      <td>[MAPEI, APEIN, PEINL, EINLP, INLPG, NLPGP, LPG...</td>\n",
              "      <td>[MKNLS, KNLSF, NLSFV, LSFVA, SFVAG, FVAGL, VAG...</td>\n",
              "    </tr>\n",
              "    <tr>\n",
              "      <th>6269</th>\n",
              "      <td>[MMLGT, MLGTE, LGTEG, GTEGG, TEGGE, EGGEG, GGE...</td>\n",
              "      <td>[MVMKK, VMKKI, MKKIA, KKIAC, KIACL, IACLS, ACL...</td>\n",
              "    </tr>\n",
              "  </tbody>\n",
              "</table>\n",
              "<p>6270 rows × 2 columns</p>\n",
              "</div>"
            ],
            "text/plain": [
              "                                                  Human                                           Yersinia\n",
              "0     [MKDKQ, KDKQK, DKQKK, KQKKK, QKKKK, KKKKE, KKK...  [MAKAS, AKASR, KASRH, ASRHN, SRHNL, RHNLS, HNL...\n",
              "1     [MSWSG, SWSGL, WSGLL, SGLLH, GLLHG, LLHGL, LHG...  [MQHVT, QHVTG, HVTGS, VTGSK, TGSKR, GSKRR, SKR...\n",
              "2     [MSLFD, SLFDL, LFDLF, FDLFR, DLFRG, LFRGF, FRG...  [MAELP, AELPA, ELPAK, LPAKR, PAKRR, AKRRF, KRR...\n",
              "3     [MAVAP, AVAPR, VAPRL, APRLF, PRLFG, RLFGG, LFG...  [MRIFA, RIFAI, IFAIS, FAISC, AISCS, ISCSS, SCS...\n",
              "4     [MSTIQ, STIQS, TIQSE, IQSET, QSETD, SETDC, ETD...  [MSYAF, SYAFP, YAFPG, AFPGT, FPGTF, PGTFP, GTF...\n",
              "...                                                 ...                                                ...\n",
              "6265  [MSYFG, SYFGE, YFGEH, FGEHF, GEHFW, EHFWG, HFW...  [MITTD, ITTDG, TTDGN, TDGNS, DGNSA, GNSAV, NSA...\n",
              "6266  [MTVGK, TVGKS, VGKSS, GKSSK, KSSKM, SSKML, SKM...  [MSQPP, SQPPF, QPPFW, PPFWQ, PFWQQ, FWQQK, WQQ...\n",
              "6267  [MNNLS, NNLSF, NLSFS, LSFSE, SFSEL, FSELC, SEL...  [MSEDR, SEDRH, EDRHQ, DRHQQ, RHQQR, HQQRQ, QQR...\n",
              "6268  [MAPEI, APEIN, PEINL, EINLP, INLPG, NLPGP, LPG...  [MKNLS, KNLSF, NLSFV, LSFVA, SFVAG, FVAGL, VAG...\n",
              "6269  [MMLGT, MLGTE, LGTEG, GTEGG, TEGGE, EGGEG, GGE...  [MVMKK, VMKKI, MKKIA, KKIAC, KIACL, IACLS, ACL...\n",
              "\n",
              "[6270 rows x 2 columns]"
            ]
          },
          "metadata": {
            "tags": []
          },
          "execution_count": 10
        }
      ]
    },
    {
      "cell_type": "code",
      "metadata": {
        "colab": {
          "base_uri": "https://localhost:8080/"
        },
        "id": "WfyrmurylNBc",
        "outputId": "96c819c3-11a3-4c23-8f5f-f79fc94cdd5f"
      },
      "source": [
        " data1,data2,data1_test,data2_test,num_words,MAX_SEQUENCE_LENGTH,MAX_VOCAB_SIZE = f.get_seq_data_doubleip(500000,1000,df_train,df_test,pad = 'pre')"
      ],
      "execution_count": null,
      "outputs": [
        {
          "output_type": "stream",
          "text": [
            "MAX_VOCAB_SIZE is 500000\n",
            "MAX_SEQUENCE_LENGTH is 1000\n",
            "max sequences1_train length: 5301\n",
            "min sequences1_train length: 12\n",
            "median sequences1_train length: 327\n",
            "max word index sequences1_train: 499999\n",
            "max sequences2_train length: 3706\n",
            "min sequences2_train length: 9\n",
            "median sequences2_train length: 307\n",
            "max word index sequences2_train: 499999\n",
            "Found 1330540 unique tokens in tokenizer1.\n",
            "Found 639136 unique tokens in tokenizer2.\n",
            "pre padding\n",
            "Shape of data1 tensor: (6270, 1000)\n",
            "Shape of data2 tensor: (6270, 1000)\n",
            "max test_sequences1 length: 4674\n",
            "min test_sequences1 length: 10\n",
            "median test_sequences1 length: 271\n",
            "max test_sequences2 length: 3706\n",
            "min test_sequences2 length: 5\n",
            "median test_sequences2 length: 244\n",
            "pre padding for test seq.\n",
            "Shape of test_data1 tensor: (1514, 1000)\n",
            "Shape of test_data2 tensor: (1514, 1000)\n",
            "num_words is 500000\n"
          ],
          "name": "stdout"
        }
      ]
    },
    {
      "cell_type": "code",
      "metadata": {
        "colab": {
          "base_uri": "https://localhost:8080/"
        },
        "id": "sIJHdjzNlgD0",
        "outputId": "33184245-ec42-4f15-d9d2-c93caede25eb"
      },
      "source": [
        "EMBEDDING_DIM = 15\n",
        "VALIDATION_SPLIT = 0.2\n",
        "BATCH_SIZE = 128\n",
        "EPOCHS = 10\n",
        "M_1D=10\n",
        "DROP = 0.8\n",
        "\n",
        "ip1 = f.att_model(MAX_SEQUENCE_LENGTH,EMBEDDING_DIM,num_words,DROP,True)\n",
        "ip2 = f.att_model(MAX_SEQUENCE_LENGTH,EMBEDDING_DIM,num_words,DROP,True)\n",
        "\n",
        "concatenator = Concatenate(axis=1)\n",
        "x = concatenator([ip1.output, ip2.output])\n",
        "x = Dense(128)(x)\n",
        "#x = concatenator([x1.output, x2.output]) # output is N x 4M\n",
        "#x = Dense(128, activation='relu')(x)\n",
        "x = Dropout(DROP)(x)\n",
        "output = Dense(1, activation=\"sigmoid\",name=\"Final\")(x)\n",
        "model_doubleip = Model(inputs=[ip1.input,ip2.input], outputs=output)\n",
        "#plot_model(model1D_CNN_doubleip, to_file='model_plot.png', show_shapes=True, show_layer_names=False)\n",
        "model_doubleip.compile(loss='binary_crossentropy', optimizer='adam', metrics=['accuracy'])\n",
        "trains = [data1,data2,data2,data1]\n",
        "tests = [data1_test,data2_test,data2_test,data1_test]\n",
        "\n",
        "model_doubleip.fit(trains, df_train['label'].values,batch_size=BATCH_SIZE, epochs=EPOCHS,validation_data=(tests,df_test['label'].values))\n",
        "print(roc_auc_score(df_test['label'].values, model_doubleip.predict(tests)))"
      ],
      "execution_count": null,
      "outputs": [
        {
          "output_type": "stream",
          "text": [
            "Epoch 1/10\n",
            "49/49 [==============================] - 48s 759ms/step - loss: 0.7035 - accuracy: 0.5466 - val_loss: 0.6385 - val_accuracy: 0.7160\n",
            "Epoch 2/10\n",
            "49/49 [==============================] - 35s 712ms/step - loss: 0.6004 - accuracy: 0.6763 - val_loss: 0.5676 - val_accuracy: 0.7550\n",
            "Epoch 3/10\n",
            "49/49 [==============================] - 35s 712ms/step - loss: 0.5660 - accuracy: 0.7178 - val_loss: 0.5589 - val_accuracy: 0.7279\n",
            "Epoch 4/10\n",
            "49/49 [==============================] - 35s 715ms/step - loss: 0.4461 - accuracy: 0.7941 - val_loss: 0.4314 - val_accuracy: 0.8078\n",
            "Epoch 5/10\n",
            "49/49 [==============================] - 35s 713ms/step - loss: 0.2607 - accuracy: 0.9013 - val_loss: 0.3951 - val_accuracy: 0.8263\n",
            "Epoch 6/10\n",
            "49/49 [==============================] - 35s 713ms/step - loss: 0.1317 - accuracy: 0.9520 - val_loss: 0.4573 - val_accuracy: 0.8032\n",
            "Epoch 7/10\n",
            "49/49 [==============================] - 35s 714ms/step - loss: 0.0809 - accuracy: 0.9768 - val_loss: 0.5061 - val_accuracy: 0.8078\n",
            "Epoch 8/10\n",
            "49/49 [==============================] - 35s 711ms/step - loss: 0.0550 - accuracy: 0.9853 - val_loss: 0.5232 - val_accuracy: 0.8058\n",
            "Epoch 9/10\n",
            "49/49 [==============================] - 35s 719ms/step - loss: 0.0387 - accuracy: 0.9883 - val_loss: 0.5523 - val_accuracy: 0.8111\n",
            "Epoch 10/10\n",
            "49/49 [==============================] - 35s 714ms/step - loss: 0.0348 - accuracy: 0.9898 - val_loss: 0.7197 - val_accuracy: 0.7946\n",
            "0.8981745016569262\n"
          ],
          "name": "stdout"
        }
      ]
    },
    {
      "cell_type": "code",
      "metadata": {
        "colab": {
          "base_uri": "https://localhost:8080/",
          "height": 428
        },
        "id": "BZZEL8Ci8VCV",
        "outputId": "94287a04-d7f4-46b9-e78c-a779f4a6a71c"
      },
      "source": [
        "df_train,df_test = load_data(6)\n",
        "print('The data used will be:')\n",
        "df_train[['Human','Yersinia']]"
      ],
      "execution_count": null,
      "outputs": [
        {
          "output_type": "stream",
          "text": [
            "The data used will be:\n"
          ],
          "name": "stdout"
        },
        {
          "output_type": "execute_result",
          "data": {
            "text/html": [
              "<div>\n",
              "<style scoped>\n",
              "    .dataframe tbody tr th:only-of-type {\n",
              "        vertical-align: middle;\n",
              "    }\n",
              "\n",
              "    .dataframe tbody tr th {\n",
              "        vertical-align: top;\n",
              "    }\n",
              "\n",
              "    .dataframe thead th {\n",
              "        text-align: right;\n",
              "    }\n",
              "</style>\n",
              "<table border=\"1\" class=\"dataframe\">\n",
              "  <thead>\n",
              "    <tr style=\"text-align: right;\">\n",
              "      <th></th>\n",
              "      <th>Human</th>\n",
              "      <th>Yersinia</th>\n",
              "    </tr>\n",
              "  </thead>\n",
              "  <tbody>\n",
              "    <tr>\n",
              "      <th>0</th>\n",
              "      <td>[MKDKQK, KDKQKK, DKQKKK, KQKKKK, QKKKKE, KKKKE...</td>\n",
              "      <td>[MAKASR, AKASRH, KASRHN, ASRHNL, SRHNLS, RHNLS...</td>\n",
              "    </tr>\n",
              "    <tr>\n",
              "      <th>1</th>\n",
              "      <td>[MSWSGL, SWSGLL, WSGLLH, SGLLHG, GLLHGL, LLHGL...</td>\n",
              "      <td>[MQHVTG, QHVTGS, HVTGSK, VTGSKR, TGSKRR, GSKRR...</td>\n",
              "    </tr>\n",
              "    <tr>\n",
              "      <th>2</th>\n",
              "      <td>[MSLFDL, SLFDLF, LFDLFR, FDLFRG, DLFRGF, LFRGF...</td>\n",
              "      <td>[MAELPA, AELPAK, ELPAKR, LPAKRR, PAKRRF, AKRRF...</td>\n",
              "    </tr>\n",
              "    <tr>\n",
              "      <th>3</th>\n",
              "      <td>[MAVAPR, AVAPRL, VAPRLF, APRLFG, PRLFGG, RLFGG...</td>\n",
              "      <td>[MRIFAI, RIFAIS, IFAISC, FAISCS, AISCSS, ISCSS...</td>\n",
              "    </tr>\n",
              "    <tr>\n",
              "      <th>4</th>\n",
              "      <td>[MSTIQS, STIQSE, TIQSET, IQSETD, QSETDC, SETDC...</td>\n",
              "      <td>[MSYAFP, SYAFPG, YAFPGT, AFPGTF, FPGTFP, PGTFP...</td>\n",
              "    </tr>\n",
              "    <tr>\n",
              "      <th>...</th>\n",
              "      <td>...</td>\n",
              "      <td>...</td>\n",
              "    </tr>\n",
              "    <tr>\n",
              "      <th>6265</th>\n",
              "      <td>[MSYFGE, SYFGEH, YFGEHF, FGEHFW, GEHFWG, EHFWG...</td>\n",
              "      <td>[MITTDG, ITTDGN, TTDGNS, TDGNSA, DGNSAV, GNSAV...</td>\n",
              "    </tr>\n",
              "    <tr>\n",
              "      <th>6266</th>\n",
              "      <td>[MTVGKS, TVGKSS, VGKSSK, GKSSKM, KSSKML, SSKML...</td>\n",
              "      <td>[MSQPPF, SQPPFW, QPPFWQ, PPFWQQ, PFWQQK, FWQQK...</td>\n",
              "    </tr>\n",
              "    <tr>\n",
              "      <th>6267</th>\n",
              "      <td>[MNNLSF, NNLSFS, NLSFSE, LSFSEL, SFSELC, FSELC...</td>\n",
              "      <td>[MSEDRH, SEDRHQ, EDRHQQ, DRHQQR, RHQQRQ, HQQRQ...</td>\n",
              "    </tr>\n",
              "    <tr>\n",
              "      <th>6268</th>\n",
              "      <td>[MAPEIN, APEINL, PEINLP, EINLPG, INLPGP, NLPGP...</td>\n",
              "      <td>[MKNLSF, KNLSFV, NLSFVA, LSFVAG, SFVAGL, FVAGL...</td>\n",
              "    </tr>\n",
              "    <tr>\n",
              "      <th>6269</th>\n",
              "      <td>[MMLGTE, MLGTEG, LGTEGG, GTEGGE, TEGGEG, EGGEG...</td>\n",
              "      <td>[MVMKKI, VMKKIA, MKKIAC, KKIACL, KIACLS, IACLS...</td>\n",
              "    </tr>\n",
              "  </tbody>\n",
              "</table>\n",
              "<p>6270 rows × 2 columns</p>\n",
              "</div>"
            ],
            "text/plain": [
              "                                                  Human                                           Yersinia\n",
              "0     [MKDKQK, KDKQKK, DKQKKK, KQKKKK, QKKKKE, KKKKE...  [MAKASR, AKASRH, KASRHN, ASRHNL, SRHNLS, RHNLS...\n",
              "1     [MSWSGL, SWSGLL, WSGLLH, SGLLHG, GLLHGL, LLHGL...  [MQHVTG, QHVTGS, HVTGSK, VTGSKR, TGSKRR, GSKRR...\n",
              "2     [MSLFDL, SLFDLF, LFDLFR, FDLFRG, DLFRGF, LFRGF...  [MAELPA, AELPAK, ELPAKR, LPAKRR, PAKRRF, AKRRF...\n",
              "3     [MAVAPR, AVAPRL, VAPRLF, APRLFG, PRLFGG, RLFGG...  [MRIFAI, RIFAIS, IFAISC, FAISCS, AISCSS, ISCSS...\n",
              "4     [MSTIQS, STIQSE, TIQSET, IQSETD, QSETDC, SETDC...  [MSYAFP, SYAFPG, YAFPGT, AFPGTF, FPGTFP, PGTFP...\n",
              "...                                                 ...                                                ...\n",
              "6265  [MSYFGE, SYFGEH, YFGEHF, FGEHFW, GEHFWG, EHFWG...  [MITTDG, ITTDGN, TTDGNS, TDGNSA, DGNSAV, GNSAV...\n",
              "6266  [MTVGKS, TVGKSS, VGKSSK, GKSSKM, KSSKML, SSKML...  [MSQPPF, SQPPFW, QPPFWQ, PPFWQQ, PFWQQK, FWQQK...\n",
              "6267  [MNNLSF, NNLSFS, NLSFSE, LSFSEL, SFSELC, FSELC...  [MSEDRH, SEDRHQ, EDRHQQ, DRHQQR, RHQQRQ, HQQRQ...\n",
              "6268  [MAPEIN, APEINL, PEINLP, EINLPG, INLPGP, NLPGP...  [MKNLSF, KNLSFV, NLSFVA, LSFVAG, SFVAGL, FVAGL...\n",
              "6269  [MMLGTE, MLGTEG, LGTEGG, GTEGGE, TEGGEG, EGGEG...  [MVMKKI, VMKKIA, MKKIAC, KKIACL, KIACLS, IACLS...\n",
              "\n",
              "[6270 rows x 2 columns]"
            ]
          },
          "metadata": {
            "tags": []
          },
          "execution_count": 13
        }
      ]
    },
    {
      "cell_type": "code",
      "metadata": {
        "colab": {
          "base_uri": "https://localhost:8080/"
        },
        "id": "1JKPZlpt8XV8",
        "outputId": "26ab51fb-7eeb-4472-8efc-1f56d5c320f5"
      },
      "source": [
        " data1,data2,data1_test,data2_test,num_words,MAX_SEQUENCE_LENGTH,MAX_VOCAB_SIZE = f.get_seq_data_doubleip(850000,1000,df_train,df_test,pad = 'pre')"
      ],
      "execution_count": null,
      "outputs": [
        {
          "output_type": "stream",
          "text": [
            "MAX_VOCAB_SIZE is 850000\n",
            "MAX_SEQUENCE_LENGTH is 1000\n",
            "max sequences1_train length: 5630\n",
            "min sequences1_train length: 0\n",
            "median sequences1_train length: 199\n",
            "max word index sequences1_train: 849999\n",
            "max sequences2_train length: 3705\n",
            "min sequences2_train length: 0\n",
            "median sequences2_train length: 329\n",
            "max word index sequences2_train: 849999\n",
            "Found 2438322 unique tokens in tokenizer1.\n",
            "Found 864366 unique tokens in tokenizer2.\n",
            "pre padding\n",
            "Shape of data1 tensor: (6270, 1000)\n",
            "Shape of data2 tensor: (6270, 1000)\n",
            "max test_sequences1 length: 5630\n",
            "min test_sequences1 length: 0\n",
            "median test_sequences1 length: 70\n",
            "max test_sequences2 length: 3705\n",
            "min test_sequences2 length: 0\n",
            "median test_sequences2 length: 284\n",
            "pre padding for test seq.\n",
            "Shape of test_data1 tensor: (1514, 1000)\n",
            "Shape of test_data2 tensor: (1514, 1000)\n",
            "num_words is 850000\n"
          ],
          "name": "stdout"
        }
      ]
    },
    {
      "cell_type": "code",
      "metadata": {
        "colab": {
          "base_uri": "https://localhost:8080/"
        },
        "id": "Dh8Jyn-o8fzF",
        "outputId": "e852e9a5-0ddb-406b-df01-10fa343fac7b"
      },
      "source": [
        "EMBEDDING_DIM = 15\n",
        "VALIDATION_SPLIT = 0.2\n",
        "BATCH_SIZE = 128\n",
        "EPOCHS = 10\n",
        "M_1D=10\n",
        "DROP = 0.8\n",
        "\n",
        "ip1 = f.att_model(MAX_SEQUENCE_LENGTH,EMBEDDING_DIM,num_words,DROP,True)\n",
        "ip2 = f.att_model(MAX_SEQUENCE_LENGTH,EMBEDDING_DIM,num_words,DROP,True)\n",
        "\n",
        "concatenator = Concatenate(axis=1)\n",
        "x = concatenator([ip1.output, ip2.output])\n",
        "x = Dense(128)(x)\n",
        "#x = concatenator([x1.output, x2.output]) # output is N x 4M\n",
        "#x = Dense(128, activation='relu')(x)\n",
        "x = Dropout(DROP)(x)\n",
        "output = Dense(1, activation=\"sigmoid\",name=\"Final\")(x)\n",
        "model_doubleip = Model(inputs=[ip1.input,ip2.input], outputs=output)\n",
        "#plot_model(model1D_CNN_doubleip, to_file='model_plot.png', show_shapes=True, show_layer_names=False)\n",
        "model_doubleip.compile(loss='binary_crossentropy', optimizer='adam', metrics=['accuracy'])\n",
        "trains = [data1,data2,data2,data1]\n",
        "tests = [data1_test,data2_test,data2_test,data1_test]\n",
        "\n",
        "model_doubleip.fit(trains, df_train['label'].values,batch_size=BATCH_SIZE, epochs=EPOCHS,validation_data=(tests,df_test['label'].values))\n",
        "print(roc_auc_score(df_test['label'].values, model_doubleip.predict(tests)))"
      ],
      "execution_count": null,
      "outputs": [
        {
          "output_type": "stream",
          "text": [
            "Epoch 1/10\n",
            "49/49 [==============================] - 59s 1s/step - loss: 0.6983 - accuracy: 0.5572 - val_loss: 0.6193 - val_accuracy: 0.7596\n",
            "Epoch 2/10\n",
            "49/49 [==============================] - 44s 909ms/step - loss: 0.6136 - accuracy: 0.6663 - val_loss: 0.5697 - val_accuracy: 0.7543\n",
            "Epoch 3/10\n",
            "49/49 [==============================] - 45s 913ms/step - loss: 0.5628 - accuracy: 0.7158 - val_loss: 0.5280 - val_accuracy: 0.7536\n",
            "Epoch 4/10\n",
            "49/49 [==============================] - 45s 912ms/step - loss: 0.4631 - accuracy: 0.7767 - val_loss: 0.4507 - val_accuracy: 0.8018\n",
            "Epoch 5/10\n",
            "49/49 [==============================] - 45s 910ms/step - loss: 0.2844 - accuracy: 0.8896 - val_loss: 0.4526 - val_accuracy: 0.8085\n",
            "Epoch 6/10\n",
            "49/49 [==============================] - 44s 905ms/step - loss: 0.2202 - accuracy: 0.9119 - val_loss: 0.5424 - val_accuracy: 0.8157\n",
            "Epoch 7/10\n",
            "49/49 [==============================] - 44s 906ms/step - loss: 0.1583 - accuracy: 0.9375 - val_loss: 0.6821 - val_accuracy: 0.7913\n",
            "Epoch 8/10\n",
            "49/49 [==============================] - 44s 906ms/step - loss: 0.1308 - accuracy: 0.9496 - val_loss: 0.7982 - val_accuracy: 0.7450\n",
            "Epoch 9/10\n",
            "49/49 [==============================] - 45s 911ms/step - loss: 0.0896 - accuracy: 0.9647 - val_loss: 0.9044 - val_accuracy: 0.7675\n",
            "Epoch 10/10\n",
            "49/49 [==============================] - 45s 909ms/step - loss: 0.0649 - accuracy: 0.9783 - val_loss: 1.1567 - val_accuracy: 0.7550\n",
            "0.8988829925538653\n"
          ],
          "name": "stdout"
        }
      ]
    }
  ]
}