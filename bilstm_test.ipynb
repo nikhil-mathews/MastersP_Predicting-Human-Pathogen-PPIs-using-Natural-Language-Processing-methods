{
  "nbformat": 4,
  "nbformat_minor": 0,
  "metadata": {
    "colab": {
      "name": "bilstm_test.ipynb",
      "provenance": [],
      "collapsed_sections": [],
      "authorship_tag": "ABX9TyMCFisRr6qtyk6HUUe1kGFy",
      "include_colab_link": true
    },
    "kernelspec": {
      "name": "python3",
      "display_name": "Python 3"
    }
  },
  "cells": [
    {
      "cell_type": "markdown",
      "metadata": {
        "id": "view-in-github",
        "colab_type": "text"
      },
      "source": [
        "<a href=\"https://colab.research.google.com/github/nikhil-mathews/MastersP_Predicting-Human-Pathogen-PPIs-using-Natural-Language-Processing-methods/blob/main/bilstm_test.ipynb\" target=\"_parent\"><img src=\"https://colab.research.google.com/assets/colab-badge.svg\" alt=\"Open In Colab\"/></a>"
      ]
    },
    {
      "cell_type": "code",
      "metadata": {
        "id": "dYx5gPd1aiWm"
      },
      "source": [
        "\n",
        "from keras.models import Model\n",
        "from keras.layers import Input, LSTM, GRU, Bidirectional\n",
        "import numpy as np\n",
        "import matplotlib.pyplot as plt\n",
        "\n",
        "T = 8\n",
        "D = 2\n",
        "M = 3\n",
        "\n",
        "\n",
        "X = np.random.randn(1, T, D)"
      ],
      "execution_count": null,
      "outputs": []
    },
    {
      "cell_type": "code",
      "metadata": {
        "colab": {
          "base_uri": "https://localhost:8080/"
        },
        "id": "UkRzBMGGauo3",
        "outputId": "3903ee71-19f1-4962-fc7a-c437d5ba5941"
      },
      "source": [
        "input_ = Input(shape=(T, D))\n",
        "\n",
        "\n",
        "rnn = Bidirectional(LSTM(M, return_state=True, return_sequences=True))\n",
        "#rnn = Bidirectional(LSTM(M, return_state=True, return_sequences=False))\n",
        "\n",
        "\n",
        "x = rnn(input_)\n",
        "\n",
        "model = Model(inputs=input_, outputs=x)\n",
        "o, h1, c1, h2, c2 = model.predict(X)\n",
        "\n",
        "print(\"o:\", o)\n",
        "print(\"o.shape:\", o.shape)\n",
        "print(\"h1:\", h1)\n",
        "print(\"c1:\", c1)\n",
        "print(\"h2:\", h2)\n",
        "print(\"c2:\", c2)"
      ],
      "execution_count": null,
      "outputs": [
        {
          "output_type": "stream",
          "text": [
            "o: [[[ 0.13150463  0.12543026 -0.10929652  0.08326397 -0.13959023\n",
            "   -0.09094   ]\n",
            "  [ 0.229692    0.15941209 -0.171511   -0.15525593  0.07278353\n",
            "   -0.11208367]\n",
            "  [ 0.13425897 -0.18252365 -0.01000884 -0.19156489  0.31411988\n",
            "   -0.08417156]\n",
            "  [ 0.07315126 -0.16950451  0.05665825 -0.25129977  0.2336399\n",
            "    0.27352932]\n",
            "  [-0.04362034 -0.21183385  0.1827531  -0.22410592  0.2689178\n",
            "    0.3952789 ]\n",
            "  [-0.13951899 -0.24720617  0.25464016 -0.19051895  0.21727479\n",
            "    0.39695957]\n",
            "  [-0.24302554 -0.23301075  0.2993406  -0.13818984  0.15664585\n",
            "    0.41419134]\n",
            "  [-0.19926105 -0.23780592  0.19524696 -0.03418198  0.02206497\n",
            "    0.0650829 ]]]\n",
            "o.shape: (1, 8, 6)\n",
            "h1: [[-0.19926105 -0.23780592  0.19524696]]\n",
            "c1: [[-0.39300433 -0.46861905  0.3823255 ]]\n",
            "h2: [[ 0.08326397 -0.13959023 -0.09094   ]]\n",
            "c2: [[ 0.11671478 -0.5629983  -0.2907066 ]]\n"
          ],
          "name": "stdout"
        }
      ]
    },
    {
      "cell_type": "code",
      "metadata": {
        "colab": {
          "base_uri": "https://localhost:8080/"
        },
        "id": "xGFnO6GQay0e",
        "outputId": "ce811f13-7ba2-4212-bb2f-99a7d8e99cea"
      },
      "source": [
        "len(model.predict(X))"
      ],
      "execution_count": null,
      "outputs": [
        {
          "output_type": "execute_result",
          "data": {
            "text/plain": [
              "5"
            ]
          },
          "metadata": {
            "tags": []
          },
          "execution_count": 12
        }
      ]
    }
  ]
}