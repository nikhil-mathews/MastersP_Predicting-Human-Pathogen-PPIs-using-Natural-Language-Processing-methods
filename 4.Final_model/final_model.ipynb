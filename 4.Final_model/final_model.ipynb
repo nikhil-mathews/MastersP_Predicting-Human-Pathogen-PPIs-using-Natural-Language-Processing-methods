{
  "nbformat": 4,
  "nbformat_minor": 0,
  "metadata": {
    "colab": {
      "name": "final_model.ipynb",
      "provenance": [],
      "collapsed_sections": [],
      "mount_file_id": "1_8HAEtmkDcKof9NcvVE12X-XUqgBhrUn",
      "authorship_tag": "ABX9TyPIJ6jaQ6ltlVffxLfEk87M",
      "include_colab_link": true
    },
    "kernelspec": {
      "name": "python3",
      "display_name": "Python 3"
    },
    "language_info": {
      "name": "python"
    },
    "accelerator": "GPU"
  },
  "cells": [
    {
      "cell_type": "markdown",
      "metadata": {
        "id": "view-in-github",
        "colab_type": "text"
      },
      "source": [
        "<a href=\"https://colab.research.google.com/github/nikhil-mathews/MastersPr_Predicting-Human-Pathogen-PPIs-using-Natural-Language-Processing-methods/blob/main/4.Final_model/final_model.ipynb\" target=\"_parent\"><img src=\"https://colab.research.google.com/assets/colab-badge.svg\" alt=\"Open In Colab\"/></a>"
      ]
    },
    {
      "cell_type": "code",
      "metadata": {
        "id": "wDfJD8MItdQh"
      },
      "source": [
        "import pandas as pd\n",
        "#Google colab does not have pickle\n",
        "try:\n",
        "  import pickle5 as pickle\n",
        "except:\n",
        "  !pip install pickle5\n",
        "  import pickle5 as pickle\n",
        "import os\n",
        "import seaborn as sns\n",
        "\n",
        "import sys\n",
        "import numpy as np\n",
        "import pandas as pd\n",
        "import matplotlib.pyplot as plt\n",
        "from keras.preprocessing.text import Tokenizer\n",
        "from keras.preprocessing.sequence import pad_sequences\n",
        "from keras.layers import Dense, Input, GlobalMaxPooling1D,Flatten\n",
        "from keras.layers import Conv1D, MaxPooling1D, Embedding,Concatenate\n",
        "from keras.models import Model,load_model\n",
        "from sklearn.metrics import roc_auc_score,confusion_matrix,roc_curve, auc\n",
        "from numpy import random\n",
        "from keras.layers import LSTM, Bidirectional, GlobalMaxPool1D, Dropout\n",
        "from keras.optimizers import Adam\n",
        "from keras.utils.vis_utils import plot_model\n",
        "from keras.metrics import AUC\n",
        "\n",
        "import sys\n",
        "sys.path.insert(0,'/content/drive/MyDrive/ML_Data/')\n",
        "import functions as f"
      ],
      "execution_count": null,
      "outputs": []
    },
    {
      "cell_type": "code",
      "metadata": {
        "id": "b85EqgVHtiCT",
        "colab": {
          "base_uri": "https://localhost:8080/",
          "height": 415
        },
        "outputId": "b234fcd5-2507-4dc3-de64-e8075da58765"
      },
      "source": [
        "def load_data(D=1,randomize=False):\n",
        "    try:\n",
        "        with open('/content/drive/MyDrive/ML_Data/df_train_'+str(D)+'D.pickle', 'rb') as handle:\n",
        "            df_train = pickle.load(handle)\n",
        "    except:\n",
        "        df_train = pd.read_pickle(\"C:/Users/nik00/py/proj/hyppi-train.pkl\")\n",
        "    try:\n",
        "        with open('/content/drive/MyDrive/ML_Data/df_test_'+str(D)+'D.pickle', 'rb') as handle:\n",
        "            df_test = pickle.load(handle)\n",
        "    except:\n",
        "        df_test = pd.read_pickle(\"C:/Users/nik00/py/proj/hyppi-independent.pkl\")\n",
        "    if randomize:\n",
        "        return shuff_together(df_train,df_test)\n",
        "    else:\n",
        "        return df_train,df_test\n",
        "\n",
        "# df_train,df_test = load_data(5)\n",
        "# print('The data used will be:')\n",
        "# df_train\n",
        "\n",
        "df_train,df_test = load_data()\n",
        "df_train"
      ],
      "execution_count": null,
      "outputs": [
        {
          "output_type": "execute_result",
          "data": {
            "text/html": [
              "<div>\n",
              "<style scoped>\n",
              "    .dataframe tbody tr th:only-of-type {\n",
              "        vertical-align: middle;\n",
              "    }\n",
              "\n",
              "    .dataframe tbody tr th {\n",
              "        vertical-align: top;\n",
              "    }\n",
              "\n",
              "    .dataframe thead th {\n",
              "        text-align: right;\n",
              "    }\n",
              "</style>\n",
              "<table border=\"1\" class=\"dataframe\">\n",
              "  <thead>\n",
              "    <tr style=\"text-align: right;\">\n",
              "      <th></th>\n",
              "      <th>Human</th>\n",
              "      <th>Yersinia</th>\n",
              "      <th>Joined</th>\n",
              "      <th>label</th>\n",
              "    </tr>\n",
              "  </thead>\n",
              "  <tbody>\n",
              "    <tr>\n",
              "      <th>0</th>\n",
              "      <td>[M, K, D, K, Q, K, K, K, K, E, R, T, W, A, E, ...</td>\n",
              "      <td>[M, A, K, A, S, R, H, N, L, S, I, G, I, S, M, ...</td>\n",
              "      <td>[M, K, D, K, Q, K, K, K, K, E, R, T, W, A, E, ...</td>\n",
              "      <td>1</td>\n",
              "    </tr>\n",
              "    <tr>\n",
              "      <th>1</th>\n",
              "      <td>[M, S, W, S, G, L, L, H, G, L, N, T, S, L, T, ...</td>\n",
              "      <td>[M, Q, H, V, T, G, S, K, R, R, L, I, G, W, V, ...</td>\n",
              "      <td>[M, S, W, S, G, L, L, H, G, L, N, T, S, L, T, ...</td>\n",
              "      <td>0</td>\n",
              "    </tr>\n",
              "    <tr>\n",
              "      <th>2</th>\n",
              "      <td>[M, S, L, F, D, L, F, R, G, F, F, G, F, P, G, ...</td>\n",
              "      <td>[M, A, E, L, P, A, K, R, R, F, T, R, I, D, R, ...</td>\n",
              "      <td>[M, S, L, F, D, L, F, R, G, F, F, G, F, P, G, ...</td>\n",
              "      <td>1</td>\n",
              "    </tr>\n",
              "    <tr>\n",
              "      <th>3</th>\n",
              "      <td>[M, A, V, A, P, R, L, F, G, G, L, C, F, R, F, ...</td>\n",
              "      <td>[M, R, I, F, A, I, S, C, S, S, Y, T, Y, C, Y, ...</td>\n",
              "      <td>[M, A, V, A, P, R, L, F, G, G, L, C, F, R, F, ...</td>\n",
              "      <td>0</td>\n",
              "    </tr>\n",
              "    <tr>\n",
              "      <th>4</th>\n",
              "      <td>[M, S, T, I, Q, S, E, T, D, C, Y, D, I, I, E, ...</td>\n",
              "      <td>[M, S, Y, A, F, P, G, T, F, P, G, R, R, M, R, ...</td>\n",
              "      <td>[M, S, T, I, Q, S, E, T, D, C, Y, D, I, I, E, ...</td>\n",
              "      <td>0</td>\n",
              "    </tr>\n",
              "    <tr>\n",
              "      <th>...</th>\n",
              "      <td>...</td>\n",
              "      <td>...</td>\n",
              "      <td>...</td>\n",
              "      <td>...</td>\n",
              "    </tr>\n",
              "    <tr>\n",
              "      <th>6265</th>\n",
              "      <td>[M, S, Y, F, G, E, H, F, W, G, E, K, N, H, G, ...</td>\n",
              "      <td>[M, I, T, T, D, G, N, S, A, V, A, S, V, A, Y, ...</td>\n",
              "      <td>[M, S, Y, F, G, E, H, F, W, G, E, K, N, H, G, ...</td>\n",
              "      <td>1</td>\n",
              "    </tr>\n",
              "    <tr>\n",
              "      <th>6266</th>\n",
              "      <td>[M, T, V, G, K, S, S, K, M, L, Q, H, I, D, Y, ...</td>\n",
              "      <td>[M, S, Q, P, P, F, W, Q, Q, K, T, L, A, E, M, ...</td>\n",
              "      <td>[M, T, V, G, K, S, S, K, M, L, Q, H, I, D, Y, ...</td>\n",
              "      <td>1</td>\n",
              "    </tr>\n",
              "    <tr>\n",
              "      <th>6267</th>\n",
              "      <td>[M, N, N, L, S, F, S, E, L, C, C, L, F, C, C, ...</td>\n",
              "      <td>[M, S, E, D, R, H, Q, Q, R, Q, Q, R, L, K, E, ...</td>\n",
              "      <td>[M, N, N, L, S, F, S, E, L, C, C, L, F, C, C, ...</td>\n",
              "      <td>0</td>\n",
              "    </tr>\n",
              "    <tr>\n",
              "      <th>6268</th>\n",
              "      <td>[M, A, P, E, I, N, L, P, G, P, M, S, L, I, D, ...</td>\n",
              "      <td>[M, K, N, L, S, F, V, A, G, L, V, I, L, L, G, ...</td>\n",
              "      <td>[M, A, P, E, I, N, L, P, G, P, M, S, L, I, D, ...</td>\n",
              "      <td>1</td>\n",
              "    </tr>\n",
              "    <tr>\n",
              "      <th>6269</th>\n",
              "      <td>[M, M, L, G, T, E, G, G, E, G, F, V, V, K, V, ...</td>\n",
              "      <td>[M, V, M, K, K, I, A, C, L, S, A, V, A, A, C, ...</td>\n",
              "      <td>[M, M, L, G, T, E, G, G, E, G, F, V, V, K, V, ...</td>\n",
              "      <td>1</td>\n",
              "    </tr>\n",
              "  </tbody>\n",
              "</table>\n",
              "<p>6270 rows × 4 columns</p>\n",
              "</div>"
            ],
            "text/plain": [
              "                                                  Human  ... label\n",
              "0     [M, K, D, K, Q, K, K, K, K, E, R, T, W, A, E, ...  ...     1\n",
              "1     [M, S, W, S, G, L, L, H, G, L, N, T, S, L, T, ...  ...     0\n",
              "2     [M, S, L, F, D, L, F, R, G, F, F, G, F, P, G, ...  ...     1\n",
              "3     [M, A, V, A, P, R, L, F, G, G, L, C, F, R, F, ...  ...     0\n",
              "4     [M, S, T, I, Q, S, E, T, D, C, Y, D, I, I, E, ...  ...     0\n",
              "...                                                 ...  ...   ...\n",
              "6265  [M, S, Y, F, G, E, H, F, W, G, E, K, N, H, G, ...  ...     1\n",
              "6266  [M, T, V, G, K, S, S, K, M, L, Q, H, I, D, Y, ...  ...     1\n",
              "6267  [M, N, N, L, S, F, S, E, L, C, C, L, F, C, C, ...  ...     0\n",
              "6268  [M, A, P, E, I, N, L, P, G, P, M, S, L, I, D, ...  ...     1\n",
              "6269  [M, M, L, G, T, E, G, G, E, G, F, V, V, K, V, ...  ...     1\n",
              "\n",
              "[6270 rows x 4 columns]"
            ]
          },
          "metadata": {
            "tags": []
          },
          "execution_count": 23
        }
      ]
    },
    {
      "cell_type": "code",
      "metadata": {
        "colab": {
          "base_uri": "https://localhost:8080/"
        },
        "id": "YHeUaz7bkumH",
        "outputId": "79f728bb-0d21-428f-da96-f81164aa425f"
      },
      "source": [
        "trains = f.preprocess(df_train)\n",
        "tests = f.preprocess(df_test)"
      ],
      "execution_count": null,
      "outputs": [
        {
          "output_type": "stream",
          "text": [
            "Converting to 5D. This will take a few minutes\n",
            "Create tokenizers? Enter y if this is new training data. y/n: y\n",
            "Saved tokenizers as doubleip_tkrs\n",
            "Saved tokenizer as join_tkr\n",
            "Preprocessing...\n",
            "Converting to 5D. This will take a few minutes\n",
            "Create tokenizers? Enter y if this is new training data. y/n: n\n",
            "Preprocessing...\n"
          ],
          "name": "stdout"
        }
      ]
    },
    {
      "cell_type": "code",
      "metadata": {
        "colab": {
          "base_uri": "https://localhost:8080/"
        },
        "id": "O22eu33_4wzn",
        "outputId": "df13b038-5539-4b6e-b226-33f84ba4c190"
      },
      "source": [
        "EMBEDDING_DIM_5D = 25\n",
        "VALIDATION_SPLIT = 0.2\n",
        "BATCH_SIZE = 32\n",
        "EPOCHS = 1\n",
        "DROP = 0.5\n",
        "threshold = 0.918\n",
        "MAX_SEQUENCE_LENGTH_5D_J = 2000\n",
        "MAX_SEQUENCE_LENGTH_5D_dIP = 1000\n",
        "num_words_5D_J = 1000000\n",
        "num_words_5D = 500000\n",
        "\n",
        "for i in range(10):\n",
        "\n",
        "\n",
        "  x1_join = f.transf_model(MAX_SEQUENCE_LENGTH_5D_J,num_words_5D_J,5,0.9)\n",
        "  x2_join = f.transf_model(MAX_SEQUENCE_LENGTH_5D_J,num_words_5D_J,5,0.9)\n",
        "  x3_join = f.transf_model(MAX_SEQUENCE_LENGTH_5D_J,num_words_5D_J,5,0.9)\n",
        "\n",
        "  x1_doubleip = f.conv_model(MAX_SEQUENCE_LENGTH_5D_dIP,EMBEDDING_DIM_5D,num_words_5D,DROP)\n",
        "  x2_doubleip = f.conv_model(MAX_SEQUENCE_LENGTH_5D_dIP,EMBEDDING_DIM_5D,num_words_5D,DROP)\n",
        "  x3_doubleip = f.conv_model(MAX_SEQUENCE_LENGTH_5D_dIP,EMBEDDING_DIM_5D,num_words_5D,DROP)\n",
        "  x4_doubleip = f.conv_model(MAX_SEQUENCE_LENGTH_5D_dIP,EMBEDDING_DIM_5D,num_words_5D,DROP)\n",
        "  x5_doubleip = f.conv_model(MAX_SEQUENCE_LENGTH_5D_dIP,EMBEDDING_DIM_5D,num_words_5D,DROP)\n",
        "  x6_doubleip = f.conv_model(MAX_SEQUENCE_LENGTH_5D_dIP,EMBEDDING_DIM_5D,num_words_5D,DROP)\n",
        "\n",
        "  concatenator = Concatenate(axis=1)\n",
        "  x = concatenator([x1_join.output, x2_join.output, x3_join.output, x1_doubleip.output, x2_doubleip.output, x3_doubleip.output, x4_doubleip.output, x5_doubleip.output, x6_doubleip.output])\n",
        "  x = Dense(256)(x)\n",
        "  x = Dropout(0.5)(x)\n",
        "  output = Dense(1, activation=\"sigmoid\",name=\"Final\")(x)\n",
        "  model_final = Model(inputs=[x1_join.input, x2_join.input, x3_join.input, x1_doubleip.input, x2_doubleip.input, x3_doubleip.input, x4_doubleip.input, x5_doubleip.input, x6_doubleip.input], outputs=output)\n",
        "\n",
        "  model_final.compile(loss='binary_crossentropy', optimizer='adam', metrics=AUC())\n",
        "\n",
        "  model_final.fit(trains, df_train['label'].values, epochs=EPOCHS, batch_size=BATCH_SIZE, validation_data=(tests,df_test['label'].values))\n",
        "  score = roc_auc_score(df_test['label'].values, model_final.predict(tests))\n",
        "  score = round(score,3)\n",
        "  print(\"Score is\",score)\n",
        "  if score>threshold:\n",
        "    threshold = score\n",
        "    print('Saving model_final_'+str(score)+'')\n",
        "    model_final.save('/content/drive/MyDrive/ML_Data/model_final_'+str(i)+'_'+str(score)+'')\n",
        "  #print(roc_auc_score(df_test['label'].values, model_final.predict(tests)))"
      ],
      "execution_count": null,
      "outputs": [
        {
          "output_type": "stream",
          "text": [
            "196/196 [==============================] - 198s 897ms/step - loss: 0.6066 - auc: 0.7454 - val_loss: 0.4305 - val_auc: 0.9107\n",
            "Score is 0.911\n",
            "196/196 [==============================] - 187s 922ms/step - loss: 0.6017 - auc_1: 0.7639 - val_loss: 0.3808 - val_auc_1: 0.9123\n",
            "Score is 0.912\n",
            "196/196 [==============================] - 186s 917ms/step - loss: 0.6176 - auc_2: 0.7404 - val_loss: 0.3918 - val_auc_2: 0.9134\n",
            "Score is 0.913\n",
            "196/196 [==============================] - 182s 895ms/step - loss: 0.5987 - auc_3: 0.7546 - val_loss: 0.3868 - val_auc_3: 0.9161\n",
            "Score is 0.916\n",
            "196/196 [==============================] - 187s 920ms/step - loss: 0.6389 - auc_4: 0.7258 - val_loss: 0.3854 - val_auc_4: 0.9190\n",
            "Score is 0.919\n",
            "Saving model_final_0.919\n"
          ],
          "name": "stdout"
        },
        {
          "output_type": "stream",
          "text": [
            "WARNING:absl:Found untraced functions such as embedding_48_layer_call_fn, embedding_48_layer_call_and_return_conditional_losses, embedding_49_layer_call_fn, embedding_49_layer_call_and_return_conditional_losses, embedding_50_layer_call_fn while saving (showing 5 of 195). These functions will not be directly callable after loading.\n",
            "WARNING:absl:Found untraced functions such as embedding_48_layer_call_fn, embedding_48_layer_call_and_return_conditional_losses, embedding_49_layer_call_fn, embedding_49_layer_call_and_return_conditional_losses, embedding_50_layer_call_fn while saving (showing 5 of 195). These functions will not be directly callable after loading.\n"
          ],
          "name": "stderr"
        },
        {
          "output_type": "stream",
          "text": [
            "INFO:tensorflow:Assets written to: /content/drive/MyDrive/ML_Data/model_final_4_0.919/assets\n"
          ],
          "name": "stdout"
        },
        {
          "output_type": "stream",
          "text": [
            "INFO:tensorflow:Assets written to: /content/drive/MyDrive/ML_Data/model_final_4_0.919/assets\n"
          ],
          "name": "stderr"
        },
        {
          "output_type": "stream",
          "text": [
            "196/196 [==============================] - 187s 921ms/step - loss: 0.5789 - auc_5: 0.7687 - val_loss: 0.4024 - val_auc_5: 0.9156\n",
            "Score is 0.916\n",
            "196/196 [==============================] - 183s 900ms/step - loss: 0.6012 - auc_6: 0.7512 - val_loss: 0.4221 - val_auc_6: 0.9092\n",
            "Score is 0.909\n",
            "196/196 [==============================] - 181s 894ms/step - loss: 0.6487 - auc_7: 0.7222 - val_loss: 0.3773 - val_auc_7: 0.9133\n",
            "Score is 0.913\n",
            "196/196 [==============================] - 181s 897ms/step - loss: 0.5959 - auc_8: 0.7564 - val_loss: 0.4004 - val_auc_8: 0.9078\n",
            "Score is 0.908\n",
            "196/196 [==============================] - 190s 936ms/step - loss: 0.5977 - auc_9: 0.7549 - val_loss: 0.3855 - val_auc_9: 0.9098\n",
            "Score is 0.91\n"
          ],
          "name": "stdout"
        }
      ]
    },
    {
      "cell_type": "code",
      "metadata": {
        "colab": {
          "base_uri": "https://localhost:8080/"
        },
        "id": "fNgmFnxW40fP",
        "outputId": "c25bf53d-d7cc-49aa-cbab-88023557cceb"
      },
      "source": [
        "name = 'model_final_4_0.919'\n",
        "model = load_model('/content/drive/MyDrive/ML_Data/final_models/'+name)\n",
        "roc_auc_score(df_test['label'].values, model.predict(tests))"
      ],
      "execution_count": null,
      "outputs": [
        {
          "output_type": "execute_result",
          "data": {
            "text/plain": [
              "0.9189877305431124"
            ]
          },
          "metadata": {
            "tags": []
          },
          "execution_count": 5
        }
      ]
    },
    {
      "cell_type": "code",
      "metadata": {
        "colab": {
          "base_uri": "https://localhost:8080/"
        },
        "id": "mP2EMXIjsQ2U",
        "outputId": "7cb9d967-9c78-4a4b-9871-e01bdafb30e8"
      },
      "source": [
        "lengths = []\n",
        "for i in range(df_test.shape[0]):\n",
        "  lengths.append(len(df_test[['Joined']].iloc[i][0]))\n",
        "\n",
        "s = sorted(lengths)\n",
        "print(\"median test Joined sequences length:\", s[len(s) // 2])\n",
        "\n",
        "small_seq = df_test.loc[[i for i, x in enumerate(lengths) if x < 500]].reset_index(drop=True)\n",
        "y_small_seq = df_test['label'].loc[[i for i, x in enumerate(lengths) if x < 500]].reset_index(drop=True)\n",
        "big_seq = df_test.loc[[i for i, x in enumerate(lengths) if x > 1500]].reset_index(drop=True)\n",
        "y_big_seq = df_test['label'].loc[[i for i, x in enumerate(lengths) if x > 1500]].reset_index(drop=True)\n",
        "small_seq.shape,big_seq.shape"
      ],
      "execution_count": null,
      "outputs": [
        {
          "output_type": "stream",
          "text": [
            "median test Joined sequences length: 893\n"
          ],
          "name": "stdout"
        },
        {
          "output_type": "execute_result",
          "data": {
            "text/plain": [
              "((233, 4), (280, 4))"
            ]
          },
          "metadata": {
            "tags": []
          },
          "execution_count": 17
        }
      ]
    },
    {
      "cell_type": "code",
      "metadata": {
        "colab": {
          "base_uri": "https://localhost:8080/"
        },
        "id": "Sc4ryWlwumg6",
        "outputId": "839abbb0-b4a7-469a-f0e8-d5cde02f4482"
      },
      "source": [
        "roc_auc_score(y_small_seq.values, model.predict(f.preprocess(small_seq,saveTokrs=False)))"
      ],
      "execution_count": null,
      "outputs": [
        {
          "output_type": "stream",
          "text": [
            "Preprocessing...\n"
          ],
          "name": "stdout"
        },
        {
          "output_type": "execute_result",
          "data": {
            "text/plain": [
              "0.9144423753362301"
            ]
          },
          "metadata": {
            "tags": []
          },
          "execution_count": 140
        }
      ]
    },
    {
      "cell_type": "code",
      "metadata": {
        "colab": {
          "base_uri": "https://localhost:8080/"
        },
        "id": "sa_Lmeiou_8S",
        "outputId": "712bf92f-c94c-4fcc-f971-3de4b3ba29ed"
      },
      "source": [
        "roc_auc_score(y_big_seq.values, model.predict(f.preprocess(big_seq,saveTokrs=False)))"
      ],
      "execution_count": null,
      "outputs": [
        {
          "output_type": "stream",
          "text": [
            "Preprocessing...\n"
          ],
          "name": "stdout"
        },
        {
          "output_type": "execute_result",
          "data": {
            "text/plain": [
              "0.898819320214669"
            ]
          },
          "metadata": {
            "tags": []
          },
          "execution_count": 135
        }
      ]
    },
    {
      "cell_type": "code",
      "metadata": {
        "colab": {
          "base_uri": "https://localhost:8080/",
          "height": 314
        },
        "id": "x7kSJFQ8irbO",
        "outputId": "395c20ab-8723-4c91-9aab-3a4823d71eff"
      },
      "source": [
        "fpr, tpr, thresholds = roc_curve(y_test, y_hat)\n",
        "plt.plot(fpr, tpr, label='Complete test 0.919')\n",
        "fpr, tpr, thresholds = roc_curve(y_small_seq, model.predict(f.preprocess(small_seq,saveTokrs=False)))\n",
        "plt.plot(fpr, tpr, label='small seq 0.914')\n",
        "fpr, tpr, thresholds = roc_curve(y_big_seq, model.predict(f.preprocess(big_seq,saveTokrs=False)))\n",
        "plt.plot(fpr, tpr, label='big seq 0.899')\n",
        "plt.plot([0, 1], [0, 1], color='navy',  linestyle='--')\n",
        "plt.xlabel('False Positive Rate')\n",
        "plt.ylabel('True Positive Rate')\n",
        "plt.legend(loc=\"lower right\")\n",
        "plt.show()"
      ],
      "execution_count": null,
      "outputs": [
        {
          "output_type": "stream",
          "text": [
            "Preprocessing...\n",
            "Preprocessing...\n"
          ],
          "name": "stdout"
        },
        {
          "output_type": "display_data",
          "data": {
            "image/png": "[encoded data removed]",
            "text/plain": [
              "<Figure size 432x288 with 1 Axes>"
            ]
          },
          "metadata": {
            "tags": [],
            "needs_background": "light"
          }
        }
      ]
    }
  ]
}