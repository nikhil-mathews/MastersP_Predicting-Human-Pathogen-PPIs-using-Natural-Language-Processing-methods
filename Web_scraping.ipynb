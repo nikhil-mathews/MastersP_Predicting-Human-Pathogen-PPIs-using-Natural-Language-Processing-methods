{
 "cells": [
  {
   "cell_type": "markdown",
   "metadata": {},
   "source": [
    "### This has been implemented in mixed order and should only be used as a guide. Preliminary preprocessing has also been done at the end"
   ]
  },
  {
   "cell_type": "code",
   "execution_count": 1,
   "metadata": {
    "colab": {
     "base_uri": "https://localhost:8080/",
     "height": 397
    },
    "executionInfo": {
     "elapsed": 758,
     "status": "error",
     "timestamp": 1614239885401,
     "user": {
      "displayName": "Nikhil Mathews",
      "photoUrl": "https://lh3.googleusercontent.com/a-/AOh14GgMwPlnKw7I-jN5XkbRlGeMro_PH58tNaE2oWC0dw=s64",
      "userId": "16675707467486783174"
     },
     "user_tz": 300
    },
    "id": "VaIcA4QwMbsK",
    "outputId": "a310992c-09af-4a70-f445-1d8ab638dfd8"
   },
   "outputs": [],
   "source": [
    "import pandas as pd\n",
    "\n",
    "df = pd.read_csv(\"C:/Users/nik00/py/proj/humanPPI-ids-uniprot.txt\", sep=\"\\t\", header=None)"
   ]
  },
  {
   "cell_type": "code",
   "execution_count": 3,
   "metadata": {
    "id": "fkg4O8ndMbsP",
    "outputId": "3ec5e31d-802d-470d-be01-b3d14fc80914",
    "scrolled": false
   },
   "outputs": [
    {
     "data": {
      "text/plain": [
       "P05067    1356\n",
       "P34932     582\n",
       "P0CG48     546\n",
       "Q9Y4K3     504\n",
       "P08238     489\n",
       "          ... \n",
       "O95645       1\n",
       "Q8IXT1       1\n",
       "Q13519       1\n",
       "A2A368       1\n",
       "Q5QPE5       1\n",
       "Name: 1, Length: 17312, dtype: int64"
      ]
     },
     "execution_count": 3,
     "metadata": {},
     "output_type": "execute_result"
    }
   ],
   "source": [
    "df[1].value_counts()"
   ]
  },
  {
   "cell_type": "code",
   "execution_count": null,
   "metadata": {
    "id": "WKprrU9DMbsQ",
    "outputId": "e6df1ec9-d431-434a-9e86-da75a5634ff5"
   },
   "outputs": [
    {
     "data": {
      "text/plain": [
       "18502"
      ]
     },
     "execution_count": 150,
     "metadata": {
      "tags": []
     },
     "output_type": "execute_result"
    }
   ],
   "source": [
    "x = set(pd.unique(df[0]))\n",
    "x = x| set(pd.unique(df[1]))\n",
    "len(x)"
   ]
  },
  {
   "cell_type": "code",
   "execution_count": null,
   "metadata": {
    "id": "a8QuBqpoMbsR",
    "outputId": "b4c02867-80b9-405b-d1b4-56a0a9ea7cff"
   },
   "outputs": [
    {
     "data": {
      "text/plain": [
       "19731"
      ]
     },
     "execution_count": 161,
     "metadata": {
      "tags": []
     },
     "output_type": "execute_result"
    }
   ],
   "source": [
    "df = pd.read_csv(\"C:/Users/nik00/py/proj/hyppi-independent.txt\", sep=\"\\t\")\n",
    "df.head()\n",
    "x = x| set(pd.unique(df.ID1))\n",
    "len(x)\n",
    "x = x| set(pd.unique(df.ID2))\n",
    "len(x)"
   ]
  },
  {
   "cell_type": "code",
   "execution_count": null,
   "metadata": {
    "id": "hV8d1kEQMbsR",
    "outputId": "647af6d8-1a07-4a37-c2e4-da3b83500ea0"
   },
   "outputs": [
    {
     "data": {
      "text/plain": [
       "22648"
      ]
     },
     "execution_count": 167,
     "metadata": {
      "tags": []
     },
     "output_type": "execute_result"
    }
   ],
   "source": [
    "\n",
    "df = pd.read_csv(\"C:/Users/nik00/py/proj/hyppi-train.txt\", sep=\"\\t\")\n",
    "x = x| set(pd.unique(df.ID1))\n",
    "len(x)\n",
    "x = x| set(pd.unique(df.ID2))\n",
    "len(x)"
   ]
  },
  {
   "cell_type": "code",
   "execution_count": null,
   "metadata": {
    "id": "vSdiGNDPMbsS",
    "outputId": "942084fa-4654-43eb-9e02-0d67051d7d03"
   },
   "outputs": [
    {
     "data": {
      "text/plain": [
       "22648"
      ]
     },
     "execution_count": 306,
     "metadata": {
      "tags": []
     },
     "output_type": "execute_result"
    }
   ],
   "source": [
    "x = list(x)\n",
    "x[1905]\n",
    "len(set(x))"
   ]
  },
  {
   "cell_type": "code",
   "execution_count": null,
   "metadata": {
    "id": "RHoIrhqxMbsS",
    "outputId": "912fd3c0-57c1-4e59-896d-57e007b8c517"
   },
   "outputs": [
    {
     "name": "stdout",
     "output_type": "stream",
     "text": [
      "A0A0H2W4J5\n",
      "A0A151PNK0\n",
      "A0A154T0N1\n",
      "A0A151PQD1\n",
      "A0A0H2W777\n",
      "A0A151PNW1\n",
      "A0A151PMG2\n",
      "A0A0H2W4C7\n",
      "A0A0H2W0E3\n",
      "A0A154SWT5\n",
      "A0A154T4S0\n",
      "A0A151PLX2\n",
      "A0A151PMN3\n",
      "A0A154LY31\n",
      "A0A154S8H9\n",
      "A0A0H2W0N2\n",
      "A0A0H2W8E0\n",
      "A0A151PS41\n",
      "A0A151PP88\n",
      "A0A151PQ89\n",
      "A0A1U8QWI5\n"
     ]
    },
    {
     "data": {
      "text/plain": [
       "21"
      ]
     },
     "execution_count": 258,
     "metadata": {
      "tags": []
     },
     "output_type": "execute_result"
    }
   ],
   "source": [
    "count = 0\n",
    "for i in x:\n",
    "    if len(i) >6:\n",
    "        count+=1\n",
    "        print(i)\n",
    "        if count>20:\n",
    "            break\n",
    "count"
   ]
  },
  {
   "cell_type": "code",
   "execution_count": null,
   "metadata": {
    "id": "X3sqlFXoMbsS"
   },
   "outputs": [],
   "source": [
    "from Bio import SeqIO\n",
    "l=[]\n",
    "for seq_record in SeqIO.parse(\"C:/Users/nik00/py/proj/uniprot_sprot.fasta\", \"fasta\"):\n",
    "    l.append(seq_record.id.split('|')[1])"
   ]
  },
  {
   "cell_type": "code",
   "execution_count": null,
   "metadata": {
    "id": "DO0V0FSjMbsT",
    "outputId": "3fb64d6b-db1f-48e6-b67b-a65589d9b25b"
   },
   "outputs": [
    {
     "data": {
      "text/plain": [
       "1344"
      ]
     },
     "execution_count": 142,
     "metadata": {
      "tags": []
     },
     "output_type": "execute_result"
    }
   ],
   "source": [
    "count = 0\n",
    "for i in ll:\n",
    "    if i not in l:\n",
    "        count+=1\n",
    "count"
   ]
  },
  {
   "cell_type": "code",
   "execution_count": 5,
   "metadata": {
    "id": "V7qNDadGMbsT"
   },
   "outputs": [],
   "source": [
    "from Bio import SeqIO\n",
    "l=[]\n",
    "for seq_record in SeqIO.parse(\"C:/Users/nik00/py/proj/uniprot_sprot.fasta\", \"fasta\"):\n",
    "#     print(seq_record.id)\n",
    "#     print(repr(seq_record.seq))\n",
    "#     print(len(seq_record))\n",
    "    l.append(seq_record.id.split('|')[1])"
   ]
  },
  {
   "cell_type": "code",
   "execution_count": 7,
   "metadata": {},
   "outputs": [
    {
     "data": {
      "text/plain": [
       "563972"
      ]
     },
     "execution_count": 7,
     "metadata": {},
     "output_type": "execute_result"
    }
   ],
   "source": [
    "len(l)"
   ]
  },
  {
   "cell_type": "code",
   "execution_count": null,
   "metadata": {
    "id": "yTZl8u6lMbsT",
    "outputId": "3fc67844-cd8c-42df-bb94-4f5a633cfce0"
   },
   "outputs": [
    {
     "data": {
      "text/plain": [
       "True"
      ]
     },
     "execution_count": 42,
     "metadata": {
      "tags": []
     },
     "output_type": "execute_result"
    }
   ],
   "source": [
    "'O00487' in l"
   ]
  },
  {
   "cell_type": "code",
   "execution_count": null,
   "metadata": {
    "id": "bslvIrGRMbsU",
    "outputId": "bc244336-4012-4208-9846-bdf6165fec1f"
   },
   "outputs": [
    {
     "ename": "IndexError",
     "evalue": "list index out of range",
     "output_type": "error",
     "traceback": [
      "\u001b[1;31m---------------------------------------------------------------------------\u001b[0m",
      "\u001b[1;31mIndexError\u001b[0m                                Traceback (most recent call last)",
      "\u001b[1;32m<ipython-input-270-e9ecf9c72595>\u001b[0m in \u001b[0;36m<module>\u001b[1;34m\u001b[0m\n\u001b[0;32m     13\u001b[0m \u001b[0mpSeq\u001b[0m\u001b[1;33m=\u001b[0m\u001b[0mlist\u001b[0m\u001b[1;33m(\u001b[0m\u001b[0mSeqIO\u001b[0m\u001b[1;33m.\u001b[0m\u001b[0mparse\u001b[0m\u001b[1;33m(\u001b[0m\u001b[0mSeq\u001b[0m\u001b[1;33m,\u001b[0m\u001b[1;34m'fasta'\u001b[0m\u001b[1;33m)\u001b[0m\u001b[1;33m)\u001b[0m\u001b[1;33m\u001b[0m\u001b[1;33m\u001b[0m\u001b[0m\n\u001b[0;32m     14\u001b[0m \u001b[1;33m\u001b[0m\u001b[0m\n\u001b[1;32m---> 15\u001b[1;33m \u001b[0ms\u001b[0m \u001b[1;33m=\u001b[0m \u001b[0mpSeq\u001b[0m\u001b[1;33m[\u001b[0m\u001b[1;36m0\u001b[0m\u001b[1;33m]\u001b[0m\u001b[1;33m.\u001b[0m\u001b[0mseq\u001b[0m\u001b[1;33m\u001b[0m\u001b[1;33m\u001b[0m\u001b[0m\n\u001b[0m\u001b[0;32m     16\u001b[0m \u001b[0mpSeq\u001b[0m\u001b[1;33m[\u001b[0m\u001b[1;36m0\u001b[0m\u001b[1;33m]\u001b[0m\u001b[1;33m.\u001b[0m\u001b[0mdescription\u001b[0m\u001b[1;33m\u001b[0m\u001b[1;33m\u001b[0m\u001b[0m\n\u001b[0;32m     17\u001b[0m \u001b[0ms\u001b[0m\u001b[1;33m\u001b[0m\u001b[1;33m\u001b[0m\u001b[0m\n",
      "\u001b[1;31mIndexError\u001b[0m: list index out of range"
     ]
    }
   ],
   "source": [
    "import requests as r\n",
    "from Bio import SeqIO\n",
    "from io import StringIO\n",
    "\n",
    "cID='A0A151PMG2'\n",
    "\n",
    "baseUrl=\"http://www.uniprot.org/uniprot/\"\n",
    "currentUrl=baseUrl+cID+\".fasta\"\n",
    "response = r.post(currentUrl)\n",
    "cData=''.join(response.text)\n",
    "\n",
    "Seq=StringIO(cData)\n",
    "pSeq=list(SeqIO.parse(Seq,'fasta'))\n",
    "\n",
    "s = pSeq[0].seq\n",
    "pSeq[0].description\n",
    "s\n",
    "#if no response,  len(pSeq) == 0"
   ]
  },
  {
   "cell_type": "code",
   "execution_count": null,
   "metadata": {
    "id": "N6B1byh9MbsU",
    "outputId": "d9b64b15-a14b-4c3e-a96f-b5e533e62e0d"
   },
   "outputs": [
    {
     "name": "stdout",
     "output_type": "stream",
     "text": [
      "SequenceVersion 1\n",
      "ProteinExistence 4\n",
      "GeneName yiaD\n",
      "OrganismName Yersinia pestis\n",
      "OrganismIdentifier 632\n",
      "Protein OmpA family lipoprotein\n"
     ]
    }
   ],
   "source": [
    "pSeq[0]\n",
    "#gene pSeq[0].id.split('|')[2]\n",
    "gene = pSeq[0].id.split('|')[2] #dont use gene\n",
    "line = pSeq[0].description\n",
    "line = line[line.find(gene)+len(gene)+1:]\n",
    "Protein = line[:line.find('OS=')-1]\n",
    "line = line[len(Protein)+1:]\n",
    "OrganismName = line[3:line.find('OX=')-1]\n",
    "OrganismIdentifier = line[3:line.find('OX=')-1]\n",
    "line = line[line.find('OX='):]\n",
    "OrganismIdentifier = line[3:line.find('GN=')-1]\n",
    "line = line[line.find('GN='):]\n",
    "GeneName = line[3:line.find('PE=')-1]\n",
    "line = line[line.find('PE='):]\n",
    "ProteinExistence = line[3:line.find('SV=')-1]\n",
    "line = line[line.find('SV='):]\n",
    "SequenceVersion = line[3:]\n",
    "print('SequenceVersion',SequenceVersion)\n",
    "print('ProteinExistence',ProteinExistence)\n",
    "print('GeneName',GeneName)\n",
    "print('OrganismName',OrganismName)\n",
    "print('OrganismIdentifier',OrganismIdentifier)\n",
    "print('Protein',Protein)"
   ]
  },
  {
   "cell_type": "code",
   "execution_count": null,
   "metadata": {
    "id": "oPDToVq6MbsV",
    "outputId": "94670f04-4f6d-4113-a75c-9529654dfdee"
   },
   "outputs": [
    {
     "data": {
      "text/html": [
       "<div>\n",
       "<style scoped>\n",
       "    .dataframe tbody tr th:only-of-type {\n",
       "        vertical-align: middle;\n",
       "    }\n",
       "\n",
       "    .dataframe tbody tr th {\n",
       "        vertical-align: top;\n",
       "    }\n",
       "\n",
       "    .dataframe thead th {\n",
       "        text-align: right;\n",
       "    }\n",
       "</style>\n",
       "<table border=\"1\" class=\"dataframe\">\n",
       "  <thead>\n",
       "    <tr style=\"text-align: right;\">\n",
       "      <th></th>\n",
       "      <th>id</th>\n",
       "      <th>Sequence</th>\n",
       "      <th>SequenceVersion</th>\n",
       "      <th>Protein</th>\n",
       "      <th>ProteinExistence</th>\n",
       "      <th>GeneName</th>\n",
       "      <th>OrganismName</th>\n",
       "      <th>OrganismIdentifier</th>\n",
       "    </tr>\n",
       "  </thead>\n",
       "  <tbody>\n",
       "  </tbody>\n",
       "</table>\n",
       "</div>"
      ],
      "text/plain": [
       "Empty DataFrame\n",
       "Columns: [id, Sequence, SequenceVersion, Protein, ProteinExistence, GeneName, OrganismName, OrganismIdentifier]\n",
       "Index: []"
      ]
     },
     "execution_count": 339,
     "metadata": {
      "tags": []
     },
     "output_type": "execute_result"
    }
   ],
   "source": [
    "COLUMN_NAMES = ['id','Sequence','SequenceVersion','Protein','ProteinExistence','GeneName','OrganismName','OrganismIdentifier']\n",
    "df = pd.DataFrame(columns=COLUMN_NAMES)\n",
    "nf = []\n",
    "df.to_pickle(\"C:/Users/nik00/py/proj/DATA.pkl\")\n",
    "df = pd.read_pickle(\"C:/Users/nik00/py/proj/DATA.pkl\")\n",
    "df.head()\n"
   ]
  },
  {
   "cell_type": "code",
   "execution_count": null,
   "metadata": {
    "id": "AnHp-nkzMbsV",
    "outputId": "182ab9ef-d39e-4433-b373-70a536f6c329"
   },
   "outputs": [
    {
     "name": "stdout",
     "output_type": "stream",
     "text": [
      "Q8NGG4\n"
     ]
    },
    {
     "data": {
      "text/plain": [
       "744"
      ]
     },
     "execution_count": 408,
     "metadata": {
      "tags": []
     },
     "output_type": "execute_result"
    }
   ],
   "source": [
    "\n",
    "import requests as r\n",
    "from Bio import SeqIO\n",
    "from io import StringIO\n",
    "\n",
    "#extract data for each protein identifier\n",
    "baseUrl=\"http://www.uniprot.org/uniprot/\"\n",
    "df = pd.read_pickle(\"C:/Users/nik00/py/proj/DATA.pkl\")\n",
    "count = -1\n",
    "\n",
    "for i in x[df.shape[0]:]:\n",
    "    count+=1\n",
    "    currentUrl=baseUrl+i+\".fasta\"\n",
    "    response = r.post(currentUrl)\n",
    "    cData=''.join(response.text)\n",
    "    Seq=StringIO(cData)\n",
    "    pSeq=list(SeqIO.parse(Seq,'fasta'))\n",
    "    if len(pSeq) == 0:\n",
    "        nf.append(i)\n",
    "        df = df.append({'id': i}, ignore_index=True)\n",
    "        continue\n",
    "    \n",
    "    gene = pSeq[0].id.split('|')[2] #dont use gene\n",
    "    line = pSeq[0].description\n",
    "    line = line[line.find(gene)+len(gene)+1:]\n",
    "    Protein = line[:line.find('OS=')-1]\n",
    "    line = line[len(Protein)+1:]\n",
    "    OrganismName = line[3:line.find('OX=')-1]\n",
    "    OrganismIdentifier = line[3:line.find('OX=')-1]\n",
    "    line = line[line.find('OX='):]\n",
    "    OrganismIdentifier = line[3:line.find('GN=')-1]\n",
    "    line = line[line.find('GN='):]\n",
    "    GeneName = line[3:line.find('PE=')-1]\n",
    "    line = line[line.find('PE='):]\n",
    "    ProteinExistence = line[3:line.find('SV=')-1]\n",
    "    line = line[line.find('SV='):]\n",
    "    SequenceVersion = line[3:]    \n",
    "    df = df.append({'id': i,'Sequence': pSeq[0].seq,'SequenceVersion':SequenceVersion, 'Protein':Protein, 'ProteinExistence':ProteinExistence, 'GeneName':GeneName, 'OrganismName':OrganismName, 'OrganismIdentifier':OrganismIdentifier}, ignore_index=True)\n",
    "    \n",
    "    if count%10 == 0:\n",
    "        df.to_pickle(\"C:/Users/nik00/py/proj/DATA.pkl\")\n",
    "    \n",
    "    \n",
    "    \n",
    "len(nf)"
   ]
  },
  {
   "cell_type": "code",
   "execution_count": null,
   "metadata": {
    "id": "GJ4LZNUSMbsW",
    "outputId": "9f786269-4d2a-4d12-ba7c-49717c9fe393",
    "scrolled": false
   },
   "outputs": [
    {
     "data": {
      "text/plain": [
       "22648"
      ]
     },
     "execution_count": 423,
     "metadata": {
      "tags": []
     },
     "output_type": "execute_result"
    }
   ],
   "source": [
    "#df.head(150)\n",
    "'Q8NGG4'\n",
    "df = pd.read_pickle(\"C:/Users/nik00/py/proj/DATA.pkl\")\n",
    "df.shape[0]\n",
    "df.iloc[50:60,:]\n",
    "df.head(150)\n",
    "\n",
    "#df = df.set_index('id')\n",
    "'A0A151PMG2' in list(df['id'])\n",
    "df.shape[0]"
   ]
  },
  {
   "cell_type": "code",
   "execution_count": null,
   "metadata": {
    "id": "BJxLqBsVMbsW",
    "outputId": "18cacd40-0356-46d4-80d8-0d7e80c40376"
   },
   "outputs": [
    {
     "data": {
      "text/plain": [
       "Index(['A0A151PNK0', 'A0A154T0N1', 'A0A151PQD1', 'A0A0H2W777', 'A0A151PNW1',\n",
       "       'A0A151PMG2', 'A0A154SWT5', 'A0A154T4S0', 'A0A151PLX2', 'A0A151PMN3',\n",
       "       ...\n",
       "       'A0A151PRL8', 'A0A154M4U8', 'A0A154SM52', 'A0A154MGY1', 'A0A154SSZ8',\n",
       "       'A0A154T663', 'A0A151PKU6', 'A0A154T0S4', 'A0A154LY99', 'A0A151PP82'],\n",
       "      dtype='object', name='id', length=739)"
      ]
     },
     "execution_count": 450,
     "metadata": {
      "tags": []
     },
     "output_type": "execute_result"
    }
   ],
   "source": [
    "outdated = []\n",
    "#df = df.set_index('id')\n",
    "outdated = df[df.isna().any(axis=1)].index\n",
    "outdated"
   ]
  },
  {
   "cell_type": "code",
   "execution_count": null,
   "metadata": {
    "id": "cgNdwn1xMbsW",
    "outputId": "3e667317-6259-4fae-ddfd-e16ba371ceb5"
   },
   "outputs": [
    {
     "name": "stdout",
     "output_type": "stream",
     "text": [
      "Yersinia pestis\n"
     ]
    },
    {
     "data": {
      "text/plain": [
       "'https://www.uniprot.org/uniparc/UPI0007A8A9E1.fasta'"
      ]
     },
     "execution_count": 480,
     "metadata": {
      "tags": []
     },
     "output_type": "execute_result"
    }
   ],
   "source": [
    "URL = 'https://www.uniprot.org/uniparc/?query='\n",
    "i = 'A0A151PQD1'\n",
    "page = r.get(URL+i)\n",
    "content = str(page.content)\n",
    "content = content[content.find('entryID')+7:]\n",
    "link = content[content.find('<a href=\"')+9:content.find('\">UPI')]\n",
    "new_URL = 'https://www.uniprot.org'+link+'.fasta'\n",
    "OS = content[content.find('<td>')+4:content.find('<br/>')]\n",
    "print(OS)\n",
    "new_URL"
   ]
  },
  {
   "cell_type": "code",
   "execution_count": null,
   "metadata": {
    "id": "icwn6ko0MbsW",
    "outputId": "3bd8c8ab-8934-40d0-cd45-9ba4fb2f1845"
   },
   "outputs": [
    {
     "data": {
      "text/plain": [
       "nan"
      ]
     },
     "execution_count": 503,
     "metadata": {
      "tags": []
     },
     "output_type": "execute_result"
    }
   ],
   "source": [
    "df.loc['A0A151PQD1']['OrganismName']"
   ]
  },
  {
   "cell_type": "code",
   "execution_count": null,
   "metadata": {
    "id": "Xd3ah8t5MbsX"
   },
   "outputs": [],
   "source": [
    "URL = 'https://www.uniprot.org/uniparc/?query='\n",
    "#Get sequences of the outdated protein identifiers\n",
    "for i in outdated:\n",
    "    page = r.get(URL+i)\n",
    "    content = str(page.content)\n",
    "    content = content[content.find('entryID')+7:]\n",
    "    link = content[content.find('<a href=\"')+9:content.find('\">UPI')]\n",
    "    new_URL = 'https://www.uniprot.org'+link+'.fasta'\n",
    "    OS = content[content.find('<td>')+4:content.find('<br/>')]\n",
    "    response = r.post(new_URL)\n",
    "    cData=''.join(response.text)\n",
    "    Seq=StringIO(cData)\n",
    "    pSeq=list(SeqIO.parse(Seq,'fasta'))\n",
    "    #print(pSeq[0].seq)\n",
    "    if len(pSeq) == 0:\n",
    "        nf.append(i)\n",
    "        continue\n",
    "    df.loc[i]['Sequence'] = pSeq[0].seq\n",
    "    df.loc[i]['OrganismName'] = OS"
   ]
  },
  {
   "cell_type": "code",
   "execution_count": null,
   "metadata": {
    "id": "-5Gma3fzMbsX",
    "outputId": "cfa955ee-e0b3-4a1b-8da1-bc287dad4f2c"
   },
   "outputs": [
    {
     "data": {
      "text/plain": [
       "True"
      ]
     },
     "execution_count": 552,
     "metadata": {
      "tags": []
     },
     "output_type": "execute_result"
    }
   ],
   "source": [
    "df = pd.read_pickle(\"C:/Users/nik00/py/proj/DATA.pkl\")\n",
    "'fsaffag' not in df.index"
   ]
  },
  {
   "cell_type": "code",
   "execution_count": null,
   "metadata": {
    "id": "scndRaTLMbsY",
    "outputId": "6f679a88-f54d-4f1e-c8f1-a81e7fd39f16"
   },
   "outputs": [
    {
     "data": {
      "text/plain": [
       "array(['Homo sapiens', 'Yersinia pestis', 'Pan troglodytes (Chimpanzee)',\n",
       "       'Salmonella enterica (Salmonella choleraesuis)',\n",
       "       'Mus musculus (Mouse)', 'Salmonella houtenae',\n",
       "       'Salmonella enterica I'], dtype=object)"
      ]
     },
     "execution_count": 584,
     "metadata": {
      "tags": []
     },
     "output_type": "execute_result"
    }
   ],
   "source": [
    "pd.unique(df[\"OrganismName\"])\n",
    "#df.head()\n",
    "count = 0\n",
    "for i in df.index:\n",
    "    count+=1\n",
    "    if df.loc[i][\"OrganismName\"].find(\"Yersinia\") != -1:\n",
    "        df.loc[i][\"OrganismName\"] = 'Yersinia pestis'\n",
    "    if df.loc[i][\"OrganismName\"].find(\"Homo sapiens\") != -1:\n",
    "        df.loc[i][\"OrganismName\"] = 'Homo sapiens'\n",
    "    \n",
    "count\n",
    "pd.unique(df[\"OrganismName\"])"
   ]
  },
  {
   "cell_type": "code",
   "execution_count": null,
   "metadata": {
    "id": "8ZZwcECSMbsY"
   },
   "outputs": [],
   "source": [
    "df.to_pickle(\"C:/Users/nik00/py/proj/DATA.pkl\")"
   ]
  },
  {
   "cell_type": "code",
   "execution_count": 8,
   "metadata": {},
   "outputs": [
    {
     "ename": "NameError",
     "evalue": "name 'asd' is not defined",
     "output_type": "error",
     "traceback": [
      "\u001b[1;31m---------------------------------------------------------------------------\u001b[0m",
      "\u001b[1;31mNameError\u001b[0m                                 Traceback (most recent call last)",
      "\u001b[1;32m<ipython-input-8-c85320d9ddb9>\u001b[0m in \u001b[0;36m<module>\u001b[1;34m\u001b[0m\n\u001b[1;32m----> 1\u001b[1;33m \u001b[0masd\u001b[0m\u001b[1;33m\u001b[0m\u001b[1;33m\u001b[0m\u001b[0m\n\u001b[0m",
      "\u001b[1;31mNameError\u001b[0m: name 'asd' is not defined"
     ]
    }
   ],
   "source": [
    "asd"
   ]
  },
  {
   "cell_type": "code",
   "execution_count": 5,
   "metadata": {},
   "outputs": [
    {
     "data": {
      "text/html": [
       "<div>\n",
       "<style scoped>\n",
       "    .dataframe tbody tr th:only-of-type {\n",
       "        vertical-align: middle;\n",
       "    }\n",
       "\n",
       "    .dataframe tbody tr th {\n",
       "        vertical-align: top;\n",
       "    }\n",
       "\n",
       "    .dataframe thead th {\n",
       "        text-align: right;\n",
       "    }\n",
       "</style>\n",
       "<table border=\"1\" class=\"dataframe\">\n",
       "  <thead>\n",
       "    <tr style=\"text-align: right;\">\n",
       "      <th></th>\n",
       "      <th>Sequence</th>\n",
       "      <th>SequenceVersion</th>\n",
       "      <th>Protein</th>\n",
       "      <th>ProteinExistence</th>\n",
       "      <th>GeneName</th>\n",
       "      <th>OrganismName</th>\n",
       "      <th>OrganismIdentifier</th>\n",
       "    </tr>\n",
       "  </thead>\n",
       "  <tbody>\n",
       "    <tr>\n",
       "      <th>count</th>\n",
       "      <td>22648</td>\n",
       "      <td>21909</td>\n",
       "      <td>21909</td>\n",
       "      <td>21909</td>\n",
       "      <td>21909</td>\n",
       "      <td>22648</td>\n",
       "      <td>21909</td>\n",
       "    </tr>\n",
       "    <tr>\n",
       "      <th>unique</th>\n",
       "      <td>21981</td>\n",
       "      <td>9</td>\n",
       "      <td>20094</td>\n",
       "      <td>6</td>\n",
       "      <td>19867</td>\n",
       "      <td>7</td>\n",
       "      <td>9</td>\n",
       "    </tr>\n",
       "    <tr>\n",
       "      <th>top</th>\n",
       "      <td>(M, L, V, M, A, P, R, T, V, L, L, L, L, S, A, ...</td>\n",
       "      <td>1</td>\n",
       "      <td>Uncharacterized protein</td>\n",
       "      <td>1</td>\n",
       "      <td></td>\n",
       "      <td>Homo sapiens</td>\n",
       "      <td>9606</td>\n",
       "    </tr>\n",
       "    <tr>\n",
       "      <th>freq</th>\n",
       "      <td>13</td>\n",
       "      <td>11660</td>\n",
       "      <td>360</td>\n",
       "      <td>15877</td>\n",
       "      <td>583</td>\n",
       "      <td>18622</td>\n",
       "      <td>18061</td>\n",
       "    </tr>\n",
       "  </tbody>\n",
       "</table>\n",
       "</div>"
      ],
      "text/plain": [
       "                                                 Sequence SequenceVersion  \\\n",
       "count                                               22648           21909   \n",
       "unique                                              21981               9   \n",
       "top     (M, L, V, M, A, P, R, T, V, L, L, L, L, S, A, ...               1   \n",
       "freq                                                   13           11660   \n",
       "\n",
       "                        Protein ProteinExistence GeneName  OrganismName  \\\n",
       "count                     21909            21909    21909         22648   \n",
       "unique                    20094                6    19867             7   \n",
       "top     Uncharacterized protein                1           Homo sapiens   \n",
       "freq                        360            15877      583         18622   \n",
       "\n",
       "       OrganismIdentifier  \n",
       "count               21909  \n",
       "unique                  9  \n",
       "top                  9606  \n",
       "freq                18061  "
      ]
     },
     "execution_count": 5,
     "metadata": {},
     "output_type": "execute_result"
    }
   ],
   "source": [
    "import pandas as pd\n",
    "data = pd.read_pickle(\"C:/Users/nik00/py/proj/DATA.pkl\")\n",
    "data.describe()"
   ]
  },
  {
   "cell_type": "code",
   "execution_count": 6,
   "metadata": {},
   "outputs": [
    {
     "data": {
      "text/plain": [
       "517"
      ]
     },
     "execution_count": 6,
     "metadata": {},
     "output_type": "execute_result"
    }
   ],
   "source": [
    "len(list(data.loc[\"A6NFA1\"][\"Sequence\"]))"
   ]
  },
  {
   "cell_type": "code",
   "execution_count": 41,
   "metadata": {},
   "outputs": [
    {
     "data": {
      "text/plain": [
       "{'Salmonella enterica (Salmonella choleraesuis)',\n",
       " 'Salmonella enterica I',\n",
       " 'Salmonella houtenae',\n",
       " 'Yersinia pestis'}"
      ]
     },
     "execution_count": 41,
     "metadata": {},
     "output_type": "execute_result"
    }
   ],
   "source": [
    "df = pd.read_csv(\"C:/Users/nik00/py/proj/hyppi-train.txt\", sep=\"\\t\")\n",
    "idd = df.loc[0][\"ID1\"]\n",
    "df[\"ID1\"]\n",
    "organisms = []\n",
    "for idd in df[\"ID2\"]:\n",
    "    if idd in data.index:\n",
    "        organisms.append(data.loc[idd][\"OrganismName\"])\n",
    "    else:\n",
    "        print(\"Not found\")\n",
    "set(organisms)"
   ]
  },
  {
   "cell_type": "code",
   "execution_count": 14,
   "metadata": {},
   "outputs": [
    {
     "data": {
      "text/plain": [
       "['A0A151PRP0', 'A0A151PRL9', 'A0A151PRU0', 'A0A151PRN7', 'A0A151PRM1']"
      ]
     },
     "execution_count": 14,
     "metadata": {},
     "output_type": "execute_result"
    }
   ],
   "source": [
    "not_Yersinia=[]\n",
    "for idd in df[\"ID2\"]:\n",
    "    org = data.loc[idd][\"OrganismName\"]\n",
    "    if org != 'Yersinia pestis':\n",
    "        not_Yersinia.append(idd)\n",
    "not_Yersinia"
   ]
  },
  {
   "cell_type": "code",
   "execution_count": 31,
   "metadata": {},
   "outputs": [
    {
     "data": {
      "text/plain": [
       "'a n a d b n u q e'"
      ]
     },
     "execution_count": 31,
     "metadata": {},
     "output_type": "execute_result"
    }
   ],
   "source": [
    "l1=list(\"anad\")\n",
    "l2 = list(\"bnuqe\")\n",
    "' '.join(l1+l2)"
   ]
  },
  {
   "cell_type": "code",
   "execution_count": 45,
   "metadata": {},
   "outputs": [
    {
     "data": {
      "text/plain": [
       "Seq('MEDEEGPEYGKPDFVLLDQVTMEDFMRNLQLRFEKGRIYTYIGEVLVSVNPYQE...PSR')"
      ]
     },
     "execution_count": 45,
     "metadata": {},
     "output_type": "execute_result"
    }
   ],
   "source": [
    "df.iloc[0][\"ID1\"]\n",
    "data.loc[df.iloc[row][\"ID1\"]][\"Sequence\"]"
   ]
  },
  {
   "cell_type": "code",
   "execution_count": 46,
   "metadata": {},
   "outputs": [],
   "source": [
    "df[\"Human\"] = [list(data.loc[df.iloc[row][\"ID1\"]][\"Sequence\"]) for row in range(df.shape[0])]\n",
    "df[\"Yersinia\"] = [list(data.loc[df.iloc[row][\"ID2\"]][\"Sequence\"]) for row in range(df.shape[0])]"
   ]
  },
  {
   "cell_type": "code",
   "execution_count": 53,
   "metadata": {},
   "outputs": [],
   "source": [
    "df[\"Joined\"] = [df.loc[row]['Human']+df.loc[row]['Yersinia'] for row in range(df.shape[0])]"
   ]
  },
  {
   "cell_type": "code",
   "execution_count": 54,
   "metadata": {
    "scrolled": true
   },
   "outputs": [
    {
     "data": {
      "text/html": [
       "<div>\n",
       "<style scoped>\n",
       "    .dataframe tbody tr th:only-of-type {\n",
       "        vertical-align: middle;\n",
       "    }\n",
       "\n",
       "    .dataframe tbody tr th {\n",
       "        vertical-align: top;\n",
       "    }\n",
       "\n",
       "    .dataframe thead th {\n",
       "        text-align: right;\n",
       "    }\n",
       "</style>\n",
       "<table border=\"1\" class=\"dataframe\">\n",
       "  <thead>\n",
       "    <tr style=\"text-align: right;\">\n",
       "      <th></th>\n",
       "      <th>label</th>\n",
       "      <th>ID1</th>\n",
       "      <th>ID2</th>\n",
       "      <th>Human</th>\n",
       "      <th>Yersinia</th>\n",
       "      <th>Joined</th>\n",
       "    </tr>\n",
       "  </thead>\n",
       "  <tbody>\n",
       "    <tr>\n",
       "      <th>0</th>\n",
       "      <td>1</td>\n",
       "      <td>B0I1T2</td>\n",
       "      <td>Q7CJI0</td>\n",
       "      <td>[M, E, D, E, E, G, P, E, Y, G, K, P, D, F, V, ...</td>\n",
       "      <td>[M, T, D, L, S, R, R, K, L, L, T, G, F, W, Q, ...</td>\n",
       "      <td>[M, E, D, E, E, G, P, E, Y, G, K, P, D, F, V, ...</td>\n",
       "    </tr>\n",
       "    <tr>\n",
       "      <th>1</th>\n",
       "      <td>1</td>\n",
       "      <td>Q8IZ63</td>\n",
       "      <td>Q8D014</td>\n",
       "      <td>[M, Q, H, P, K, P, F, C, A, P, A, A, P, Q, E, ...</td>\n",
       "      <td>[M, P, I, T, L, F, V, L, C, T, T, P, E, E, T, ...</td>\n",
       "      <td>[M, Q, H, P, K, P, F, C, A, P, A, A, P, Q, E, ...</td>\n",
       "    </tr>\n",
       "    <tr>\n",
       "      <th>2</th>\n",
       "      <td>1</td>\n",
       "      <td>O75592</td>\n",
       "      <td>Q7CGI3</td>\n",
       "      <td>[M, M, M, C, A, A, T, A, S, P, A, A, A, S, S, ...</td>\n",
       "      <td>[M, V, D, V, I, D, I, Q, A, Q, M, A, D, K, I, ...</td>\n",
       "      <td>[M, M, M, C, A, A, T, A, S, P, A, A, A, S, S, ...</td>\n",
       "    </tr>\n",
       "    <tr>\n",
       "      <th>3</th>\n",
       "      <td>1</td>\n",
       "      <td>Q9HCI7</td>\n",
       "      <td>Q7CKV2</td>\n",
       "      <td>[M, N, P, V, N, A, T, A, L, Y, I, S, A, S, R, ...</td>\n",
       "      <td>[M, T, M, T, T, F, S, H, P, S, L, I, P, L, D, ...</td>\n",
       "      <td>[M, N, P, V, N, A, T, A, L, Y, I, S, A, S, R, ...</td>\n",
       "    </tr>\n",
       "    <tr>\n",
       "      <th>4</th>\n",
       "      <td>1</td>\n",
       "      <td>Q9BY50</td>\n",
       "      <td>Q8D0B6</td>\n",
       "      <td>[M, V, R, A, G, A, V, G, A, H, L, P, A, S, G, ...</td>\n",
       "      <td>[M, A, S, T, T, M, G, V, K, L, D, E, A, T, R, ...</td>\n",
       "      <td>[M, V, R, A, G, A, V, G, A, H, L, P, A, S, G, ...</td>\n",
       "    </tr>\n",
       "  </tbody>\n",
       "</table>\n",
       "</div>"
      ],
      "text/plain": [
       "   label     ID1     ID2                                              Human  \\\n",
       "0      1  B0I1T2  Q7CJI0  [M, E, D, E, E, G, P, E, Y, G, K, P, D, F, V, ...   \n",
       "1      1  Q8IZ63  Q8D014  [M, Q, H, P, K, P, F, C, A, P, A, A, P, Q, E, ...   \n",
       "2      1  O75592  Q7CGI3  [M, M, M, C, A, A, T, A, S, P, A, A, A, S, S, ...   \n",
       "3      1  Q9HCI7  Q7CKV2  [M, N, P, V, N, A, T, A, L, Y, I, S, A, S, R, ...   \n",
       "4      1  Q9BY50  Q8D0B6  [M, V, R, A, G, A, V, G, A, H, L, P, A, S, G, ...   \n",
       "\n",
       "                                            Yersinia  \\\n",
       "0  [M, T, D, L, S, R, R, K, L, L, T, G, F, W, Q, ...   \n",
       "1  [M, P, I, T, L, F, V, L, C, T, T, P, E, E, T, ...   \n",
       "2  [M, V, D, V, I, D, I, Q, A, Q, M, A, D, K, I, ...   \n",
       "3  [M, T, M, T, T, F, S, H, P, S, L, I, P, L, D, ...   \n",
       "4  [M, A, S, T, T, M, G, V, K, L, D, E, A, T, R, ...   \n",
       "\n",
       "                                              Joined  \n",
       "0  [M, E, D, E, E, G, P, E, Y, G, K, P, D, F, V, ...  \n",
       "1  [M, Q, H, P, K, P, F, C, A, P, A, A, P, Q, E, ...  \n",
       "2  [M, M, M, C, A, A, T, A, S, P, A, A, A, S, S, ...  \n",
       "3  [M, N, P, V, N, A, T, A, L, Y, I, S, A, S, R, ...  \n",
       "4  [M, V, R, A, G, A, V, G, A, H, L, P, A, S, G, ...  "
      ]
     },
     "execution_count": 54,
     "metadata": {},
     "output_type": "execute_result"
    }
   ],
   "source": [
    "df.head()"
   ]
  },
  {
   "cell_type": "code",
   "execution_count": 52,
   "metadata": {
    "scrolled": true
   },
   "outputs": [
    {
     "name": "stdout",
     "output_type": "stream",
     "text": [
      "MEDEEGPEYGKPDFVLLDQVTMEDFMRNLQLRFEKGRIYTYIGEVLVSVNPYQELPLYGPEAIARYQGRELYERPPHLYAVANAAYKAMKHRSRDTCIVISGESGAGKTEASKHIMQYIAAVTNPSQRAEVERVKDVLLKSTCVLEAFGNARTNRNHNSSRFGKYMDINFDFKGDPIGGHIHSYLLEKSRVLKQHVGERNFHAFYQLLRGSEDKQLHELHLERNPAVYNFTHQGAGLNMTVHSALDSDEQSHQAVTEAMRVIGFSPEEVESVHRILAAILHLGNIEFVETEEGGLQKEGLAVAEEALVDHVAELTATPRDLVLRSLLARTVASGGRELIEKGHTAAEASYARDACAKAVYQRLFEWVVNRINSVMEPRGRDPRRDGKDTVIGVLDIYGFEVFPVNSFEQFCINYCNEKLQQLFIQLILKQEQEEYEREGITWQSVEYFNNATIVDLVERPHRGILAVLDEACSSAGTITDRIFLQTLDMHHRHHLHYTSRQLCPTDKTMEFGRDFRIKHYAGDVTYSVEGFIDKNRDFLFQDFKRLLYNSTDPTLRAMWPDGQQDITEVTKRPLTAGTLFKNSMVALVENLASKEPFYVRCIKPNEDKVAGKLDENHCRHQVAYLGLLENVRVRRAGFASRQPYSRFLLRYKMTCEYTWPNHLLGSDKAAVSALLEQHGLQGDVAFGHSKLFIRSPRTLVTLEQSRARLIPIIVLLLQKAWRGTLARWRCRRLRAIYTIMRWFRRHKVRAHLAELQRRFQAARQPPLYGRDLVWPLPPAVLQPFQDTCHALFCRWRARQLVKNIPPSDMPQIKAKVAAMGALQGLRQDWGCRRAWARDYLSSATDNPTASSLFAQRLKTLQDKDGFGAVLFSSHVRKVNRFHKIRNRALLLTDQHLYKLDPDRQYRVMRAVPLEAVTGLSVTSGGDQLVVLHARGQDDLVVCLHRSRPPLDNRVGELVGVLAAHCQGEGRTLEVRVSDCIPLSHRGVRRLISVEPRPEQPEPDFRCARGSFTLLWPSR\n"
     ]
    },
    {
     "data": {
      "text/plain": [
       "'M E D E E G P E Y G K P D F V L L D Q V T M E D F M R N L Q L R F E K G R I Y T Y I G E V L V S V N P Y Q E L P L Y G P E A I A R Y Q G R E L Y E R P P H L Y A V A N A A Y K A M K H R S R D T C I V I S G E S G A G K T E A S K H I M Q Y I A A V T N P S Q R A E V E R V K D V L L K S T C V L E A F G N A R T N R N H N S S R F G K Y M D I N F D F K G D P I G G H I H S Y L L E K S R V L K Q H V G E R N F H A F Y Q L L R G S E D K Q L H E L H L E R N P A V Y N F T H Q G A G L N M T V H S A L D S D E Q S H Q A V T E A M R V I G F S P E E V E S V H R I L A A I L H L G N I E F V E T E E G G L Q K E G L A V A E E A L V D H V A E L T A T P R D L V L R S L L A R T V A S G G R E L I E K G H T A A E A S Y A R D A C A K A V Y Q R L F E W V V N R I N S V M E P R G R D P R R D G K D T V I G V L D I Y G F E V F P V N S F E Q F C I N Y C N E K L Q Q L F I Q L I L K Q E Q E E Y E R E G I T W Q S V E Y F N N A T I V D L V E R P H R G I L A V L D E A C S S A G T I T D R I F L Q T L D M H H R H H L H Y T S R Q L C P T D K T M E F G R D F R I K H Y A G D V T Y S V E G F I D K N R D F L F Q D F K R L L Y N S T D P T L R A M W P D G Q Q D I T E V T K R P L T A G T L F K N S M V A L V E N L A S K E P F Y V R C I K P N E D K V A G K L D E N H C R H Q V A Y L G L L E N V R V R R A G F A S R Q P Y S R F L L R Y K M T C E Y T W P N H L L G S D K A A V S A L L E Q H G L Q G D V A F G H S K L F I R S P R T L V T L E Q S R A R L I P I I V L L L Q K A W R G T L A R W R C R R L R A I Y T I M R W F R R H K V R A H L A E L Q R R F Q A A R Q P P L Y G R D L V W P L P P A V L Q P F Q D T C H A L F C R W R A R Q L V K N I P P S D M P Q I K A K V A A M G A L Q G L R Q D W G C R R A W A R D Y L S S A T D N P T A S S L F A Q R L K T L Q D K D G F G A V L F S S H V R K V N R F H K I R N R A L L L T D Q H L Y K L D P D R Q Y R V M R A V P L E A V T G L S V T S G G D Q L V V L H A R G Q D D L V V C L H R S R P P L D N R V G E L V G V L A A H C Q G E G R T L E V R V S D C I P L S H R G V R R L I S V E P R P E Q P E P D F R C A R G S F T L L W P S R'"
      ]
     },
     "execution_count": 52,
     "metadata": {},
     "output_type": "execute_result"
    }
   ],
   "source": [
    "#print(data.loc['B0I1T2'][\"Sequence\"])\n",
    "' '.join(df.loc[0]['Human'])\n"
   ]
  },
  {
   "cell_type": "code",
   "execution_count": 66,
   "metadata": {},
   "outputs": [],
   "source": [
    "df.to_pickle(\"C:/Users/nik00/py/proj/hyppi-train.pkl\")"
   ]
  },
  {
   "cell_type": "code",
   "execution_count": 6,
   "metadata": {},
   "outputs": [
    {
     "data": {
      "text/html": [
       "<div>\n",
       "<style scoped>\n",
       "    .dataframe tbody tr th:only-of-type {\n",
       "        vertical-align: middle;\n",
       "    }\n",
       "\n",
       "    .dataframe tbody tr th {\n",
       "        vertical-align: top;\n",
       "    }\n",
       "\n",
       "    .dataframe thead th {\n",
       "        text-align: right;\n",
       "    }\n",
       "</style>\n",
       "<table border=\"1\" class=\"dataframe\">\n",
       "  <thead>\n",
       "    <tr style=\"text-align: right;\">\n",
       "      <th></th>\n",
       "      <th>Human</th>\n",
       "      <th>Yersinia</th>\n",
       "      <th>Joined</th>\n",
       "      <th>label</th>\n",
       "    </tr>\n",
       "  </thead>\n",
       "  <tbody>\n",
       "    <tr>\n",
       "      <th>0</th>\n",
       "      <td>[M, K, D, K, Q, K, K, K, K, E, R, T, W, A, E, ...</td>\n",
       "      <td>[M, A, K, A, S, R, H, N, L, S, I, G, I, S, M, ...</td>\n",
       "      <td>[M, K, D, K, Q, K, K, K, K, E, R, T, W, A, E, ...</td>\n",
       "      <td>1</td>\n",
       "    </tr>\n",
       "    <tr>\n",
       "      <th>1</th>\n",
       "      <td>[M, S, W, S, G, L, L, H, G, L, N, T, S, L, T, ...</td>\n",
       "      <td>[M, Q, H, V, T, G, S, K, R, R, L, I, G, W, V, ...</td>\n",
       "      <td>[M, S, W, S, G, L, L, H, G, L, N, T, S, L, T, ...</td>\n",
       "      <td>0</td>\n",
       "    </tr>\n",
       "    <tr>\n",
       "      <th>2</th>\n",
       "      <td>[M, S, L, F, D, L, F, R, G, F, F, G, F, P, G, ...</td>\n",
       "      <td>[M, A, E, L, P, A, K, R, R, F, T, R, I, D, R, ...</td>\n",
       "      <td>[M, S, L, F, D, L, F, R, G, F, F, G, F, P, G, ...</td>\n",
       "      <td>1</td>\n",
       "    </tr>\n",
       "    <tr>\n",
       "      <th>3</th>\n",
       "      <td>[M, A, V, A, P, R, L, F, G, G, L, C, F, R, F, ...</td>\n",
       "      <td>[M, R, I, F, A, I, S, C, S, S, Y, T, Y, C, Y, ...</td>\n",
       "      <td>[M, A, V, A, P, R, L, F, G, G, L, C, F, R, F, ...</td>\n",
       "      <td>0</td>\n",
       "    </tr>\n",
       "    <tr>\n",
       "      <th>4</th>\n",
       "      <td>[M, S, T, I, Q, S, E, T, D, C, Y, D, I, I, E, ...</td>\n",
       "      <td>[M, S, Y, A, F, P, G, T, F, P, G, R, R, M, R, ...</td>\n",
       "      <td>[M, S, T, I, Q, S, E, T, D, C, Y, D, I, I, E, ...</td>\n",
       "      <td>0</td>\n",
       "    </tr>\n",
       "  </tbody>\n",
       "</table>\n",
       "</div>"
      ],
      "text/plain": [
       "                                               Human  \\\n",
       "0  [M, K, D, K, Q, K, K, K, K, E, R, T, W, A, E, ...   \n",
       "1  [M, S, W, S, G, L, L, H, G, L, N, T, S, L, T, ...   \n",
       "2  [M, S, L, F, D, L, F, R, G, F, F, G, F, P, G, ...   \n",
       "3  [M, A, V, A, P, R, L, F, G, G, L, C, F, R, F, ...   \n",
       "4  [M, S, T, I, Q, S, E, T, D, C, Y, D, I, I, E, ...   \n",
       "\n",
       "                                            Yersinia  \\\n",
       "0  [M, A, K, A, S, R, H, N, L, S, I, G, I, S, M, ...   \n",
       "1  [M, Q, H, V, T, G, S, K, R, R, L, I, G, W, V, ...   \n",
       "2  [M, A, E, L, P, A, K, R, R, F, T, R, I, D, R, ...   \n",
       "3  [M, R, I, F, A, I, S, C, S, S, Y, T, Y, C, Y, ...   \n",
       "4  [M, S, Y, A, F, P, G, T, F, P, G, R, R, M, R, ...   \n",
       "\n",
       "                                              Joined  label  \n",
       "0  [M, K, D, K, Q, K, K, K, K, E, R, T, W, A, E, ...      1  \n",
       "1  [M, S, W, S, G, L, L, H, G, L, N, T, S, L, T, ...      0  \n",
       "2  [M, S, L, F, D, L, F, R, G, F, F, G, F, P, G, ...      1  \n",
       "3  [M, A, V, A, P, R, L, F, G, G, L, C, F, R, F, ...      0  \n",
       "4  [M, S, T, I, Q, S, E, T, D, C, Y, D, I, I, E, ...      0  "
      ]
     },
     "execution_count": 6,
     "metadata": {},
     "output_type": "execute_result"
    }
   ],
   "source": [
    "import numpy as np\n",
    "try:\n",
    "    with open(\"/content/drive/MyDrive/ML_Data/hyppi-train.pkl\", \"rb\") as fh:\n",
    "      df = pickle.load(fh)\n",
    "except:\n",
    "    df = pd.read_pickle(\"C:/Users/nik00/py/proj/hyppi-train.pkl\")\n",
    "df = df.sample(frac=1).reset_index(drop=True)[['Human','Yersinia','Joined','label']]   #SHUFFLE\n",
    "df['label'] = np.where(df['label']==-1, 0, 1)\n",
    "df.head()"
   ]
  },
  {
   "cell_type": "code",
   "execution_count": 9,
   "metadata": {},
   "outputs": [],
   "source": [
    "df.to_pickle(\"C:/Users/nik00/py/proj/hyppi-train.pkl\")"
   ]
  },
  {
   "cell_type": "code",
   "execution_count": 74,
   "metadata": {},
   "outputs": [
    {
     "data": {
      "text/plain": [
       "{'Homo sapiens'}"
      ]
     },
     "execution_count": 74,
     "metadata": {},
     "output_type": "execute_result"
    }
   ],
   "source": [
    "df = pd.read_csv(\"C:/Users/nik00/py/proj/hyppi-independent.txt\", sep=\"\\t\")\n",
    "idd = df.loc[0][\"ID1\"]\n",
    "df[\"ID1\"]\n",
    "df\n",
    "organisms = []\n",
    "for idd in df[\"ID1\"]:\n",
    "    if idd in data.index:\n",
    "        organisms.append(data.loc[idd][\"OrganismName\"])\n",
    "    else:\n",
    "        print(\"Not found\")\n",
    "set(organisms)"
   ]
  },
  {
   "cell_type": "code",
   "execution_count": 75,
   "metadata": {},
   "outputs": [],
   "source": [
    "df[\"Human\"] = [list(data.loc[df.iloc[row][\"ID1\"]][\"Sequence\"]) for row in range(df.shape[0])]\n",
    "df[\"Yersinia\"] = [list(data.loc[df.iloc[row][\"ID2\"]][\"Sequence\"]) for row in range(df.shape[0])]\n",
    "df[\"Joined\"] = [df.loc[row]['Human']+df.loc[row]['Yersinia'] for row in range(df.shape[0])]"
   ]
  },
  {
   "cell_type": "code",
   "execution_count": 79,
   "metadata": {},
   "outputs": [],
   "source": [
    "df.to_pickle(\"C:/Users/nik00/py/proj/hyppi-independent.pkl\")"
   ]
  },
  {
   "cell_type": "code",
   "execution_count": 10,
   "metadata": {},
   "outputs": [
    {
     "data": {
      "text/html": [
       "<div>\n",
       "<style scoped>\n",
       "    .dataframe tbody tr th:only-of-type {\n",
       "        vertical-align: middle;\n",
       "    }\n",
       "\n",
       "    .dataframe tbody tr th {\n",
       "        vertical-align: top;\n",
       "    }\n",
       "\n",
       "    .dataframe thead th {\n",
       "        text-align: right;\n",
       "    }\n",
       "</style>\n",
       "<table border=\"1\" class=\"dataframe\">\n",
       "  <thead>\n",
       "    <tr style=\"text-align: right;\">\n",
       "      <th></th>\n",
       "      <th>Human</th>\n",
       "      <th>Yersinia</th>\n",
       "      <th>Joined</th>\n",
       "      <th>label</th>\n",
       "    </tr>\n",
       "  </thead>\n",
       "  <tbody>\n",
       "    <tr>\n",
       "      <th>0</th>\n",
       "      <td>[M, Y, V, T, M, M, M, T, D, Q, I, P, L, E, L, ...</td>\n",
       "      <td>[M, T, G, P, Q, Q, G, K, I, L, L, R, L, E, N, ...</td>\n",
       "      <td>[M, Y, V, T, M, M, M, T, D, Q, I, P, L, E, L, ...</td>\n",
       "      <td>1</td>\n",
       "    </tr>\n",
       "    <tr>\n",
       "      <th>1</th>\n",
       "      <td>[M, E, D, H, Q, H, V, P, I, D, I, Q, T, S, K, ...</td>\n",
       "      <td>[M, K, N, R, T, L, G, S, I, F, I, V, A, G, T, ...</td>\n",
       "      <td>[M, E, D, H, Q, H, V, P, I, D, I, Q, T, S, K, ...</td>\n",
       "      <td>1</td>\n",
       "    </tr>\n",
       "    <tr>\n",
       "      <th>2</th>\n",
       "      <td>[M, V, L, G, K, V, K, S, L, T, I, S, F, D, C, ...</td>\n",
       "      <td>[M, I, I, V, T, G, G, A, G, F, I, G, S, N, I, ...</td>\n",
       "      <td>[M, V, L, G, K, V, K, S, L, T, I, S, F, D, C, ...</td>\n",
       "      <td>1</td>\n",
       "    </tr>\n",
       "    <tr>\n",
       "      <th>3</th>\n",
       "      <td>[M, E, H, K, E, V, V, L, L, L, L, L, F, L, K, ...</td>\n",
       "      <td>[M, L, I, K, L, L, T, K, V, F, G, S, R, N, D, ...</td>\n",
       "      <td>[M, E, H, K, E, V, V, L, L, L, L, L, F, L, K, ...</td>\n",
       "      <td>1</td>\n",
       "    </tr>\n",
       "    <tr>\n",
       "      <th>4</th>\n",
       "      <td>[M, A, P, R, T, L, W, S, C, Y, L, C, C, L, L, ...</td>\n",
       "      <td>[M, T, N, T, S, Y, I, K, N, A, E, T, K, L, S, ...</td>\n",
       "      <td>[M, A, P, R, T, L, W, S, C, Y, L, C, C, L, L, ...</td>\n",
       "      <td>0</td>\n",
       "    </tr>\n",
       "    <tr>\n",
       "      <th>...</th>\n",
       "      <td>...</td>\n",
       "      <td>...</td>\n",
       "      <td>...</td>\n",
       "      <td>...</td>\n",
       "    </tr>\n",
       "    <tr>\n",
       "      <th>1509</th>\n",
       "      <td>[M, G, T, P, A, S, G, R, K, R, T, P, V, K, D, ...</td>\n",
       "      <td>[M, I, K, L, G, I, V, M, D, P, I, S, S, I, N, ...</td>\n",
       "      <td>[M, G, T, P, A, S, G, R, K, R, T, P, V, K, D, ...</td>\n",
       "      <td>1</td>\n",
       "    </tr>\n",
       "    <tr>\n",
       "      <th>1510</th>\n",
       "      <td>[M, R, S, A, A, A, A, P, R, S, P, A, V, A, T, ...</td>\n",
       "      <td>[M, R, S, C, L, S, G, T, R, C, V, P, R, R, L, ...</td>\n",
       "      <td>[M, R, S, A, A, A, A, P, R, S, P, A, V, A, T, ...</td>\n",
       "      <td>1</td>\n",
       "    </tr>\n",
       "    <tr>\n",
       "      <th>1511</th>\n",
       "      <td>[M, L, L, R, L, L, L, A, W, A, A, A, G, P, T, ...</td>\n",
       "      <td>[M, R, V, E, I, G, N, M, S, G, D, D, R, E, P, ...</td>\n",
       "      <td>[M, L, L, R, L, L, L, A, W, A, A, A, G, P, T, ...</td>\n",
       "      <td>0</td>\n",
       "    </tr>\n",
       "    <tr>\n",
       "      <th>1512</th>\n",
       "      <td>[M, T, L, E, E, L, V, A, C, D, N, A, A, Q, K, ...</td>\n",
       "      <td>[M, R, L, F, A, Q, L, G, W, Y, F, R, R, E, W, ...</td>\n",
       "      <td>[M, T, L, E, E, L, V, A, C, D, N, A, A, Q, K, ...</td>\n",
       "      <td>0</td>\n",
       "    </tr>\n",
       "    <tr>\n",
       "      <th>1513</th>\n",
       "      <td>[M, A, A, S, C, L, V, L, L, A, L, C, L, L, L, ...</td>\n",
       "      <td>[M, S, N, T, L, A, I, A, S, L, F, G, S, S, F, ...</td>\n",
       "      <td>[M, A, A, S, C, L, V, L, L, A, L, C, L, L, L, ...</td>\n",
       "      <td>0</td>\n",
       "    </tr>\n",
       "  </tbody>\n",
       "</table>\n",
       "<p>1514 rows × 4 columns</p>\n",
       "</div>"
      ],
      "text/plain": [
       "                                                  Human  \\\n",
       "0     [M, Y, V, T, M, M, M, T, D, Q, I, P, L, E, L, ...   \n",
       "1     [M, E, D, H, Q, H, V, P, I, D, I, Q, T, S, K, ...   \n",
       "2     [M, V, L, G, K, V, K, S, L, T, I, S, F, D, C, ...   \n",
       "3     [M, E, H, K, E, V, V, L, L, L, L, L, F, L, K, ...   \n",
       "4     [M, A, P, R, T, L, W, S, C, Y, L, C, C, L, L, ...   \n",
       "...                                                 ...   \n",
       "1509  [M, G, T, P, A, S, G, R, K, R, T, P, V, K, D, ...   \n",
       "1510  [M, R, S, A, A, A, A, P, R, S, P, A, V, A, T, ...   \n",
       "1511  [M, L, L, R, L, L, L, A, W, A, A, A, G, P, T, ...   \n",
       "1512  [M, T, L, E, E, L, V, A, C, D, N, A, A, Q, K, ...   \n",
       "1513  [M, A, A, S, C, L, V, L, L, A, L, C, L, L, L, ...   \n",
       "\n",
       "                                               Yersinia  \\\n",
       "0     [M, T, G, P, Q, Q, G, K, I, L, L, R, L, E, N, ...   \n",
       "1     [M, K, N, R, T, L, G, S, I, F, I, V, A, G, T, ...   \n",
       "2     [M, I, I, V, T, G, G, A, G, F, I, G, S, N, I, ...   \n",
       "3     [M, L, I, K, L, L, T, K, V, F, G, S, R, N, D, ...   \n",
       "4     [M, T, N, T, S, Y, I, K, N, A, E, T, K, L, S, ...   \n",
       "...                                                 ...   \n",
       "1509  [M, I, K, L, G, I, V, M, D, P, I, S, S, I, N, ...   \n",
       "1510  [M, R, S, C, L, S, G, T, R, C, V, P, R, R, L, ...   \n",
       "1511  [M, R, V, E, I, G, N, M, S, G, D, D, R, E, P, ...   \n",
       "1512  [M, R, L, F, A, Q, L, G, W, Y, F, R, R, E, W, ...   \n",
       "1513  [M, S, N, T, L, A, I, A, S, L, F, G, S, S, F, ...   \n",
       "\n",
       "                                                 Joined  label  \n",
       "0     [M, Y, V, T, M, M, M, T, D, Q, I, P, L, E, L, ...      1  \n",
       "1     [M, E, D, H, Q, H, V, P, I, D, I, Q, T, S, K, ...      1  \n",
       "2     [M, V, L, G, K, V, K, S, L, T, I, S, F, D, C, ...      1  \n",
       "3     [M, E, H, K, E, V, V, L, L, L, L, L, F, L, K, ...      1  \n",
       "4     [M, A, P, R, T, L, W, S, C, Y, L, C, C, L, L, ...      0  \n",
       "...                                                 ...    ...  \n",
       "1509  [M, G, T, P, A, S, G, R, K, R, T, P, V, K, D, ...      1  \n",
       "1510  [M, R, S, A, A, A, A, P, R, S, P, A, V, A, T, ...      1  \n",
       "1511  [M, L, L, R, L, L, L, A, W, A, A, A, G, P, T, ...      0  \n",
       "1512  [M, T, L, E, E, L, V, A, C, D, N, A, A, Q, K, ...      0  \n",
       "1513  [M, A, A, S, C, L, V, L, L, A, L, C, L, L, L, ...      0  \n",
       "\n",
       "[1514 rows x 4 columns]"
      ]
     },
     "execution_count": 10,
     "metadata": {},
     "output_type": "execute_result"
    }
   ],
   "source": [
    "try:\n",
    "    with open(\"/content/drive/MyDrive/ML_Data/hyppi-train.pkl\", \"rb\") as fh:\n",
    "      df = pickle.load(fh)\n",
    "except:\n",
    "    df = pd.read_pickle(\"C:/Users/nik00/py/proj/hyppi-independent.pkl\")\n",
    "df = df.sample(frac=1).reset_index(drop=True)[['Human','Yersinia','Joined','label']]   #SHUFFLE\n",
    "df['label'] = np.where(df['label']==-1, 0, 1)\n",
    "df"
   ]
  },
  {
   "cell_type": "code",
   "execution_count": 11,
   "metadata": {},
   "outputs": [],
   "source": [
    "df.to_pickle(\"C:/Users/nik00/py/proj/hyppi-independent.pkl\")"
   ]
  }
 ],
 "metadata": {
  "colab": {
   "name": "PROJ_preprocessing.ipynb",
   "provenance": []
  },
  "kernelspec": {
   "display_name": "Python 3",
   "language": "python",
   "name": "python3"
  },
  "language_info": {
   "codemirror_mode": {
    "name": "ipython",
    "version": 3
   },
   "file_extension": ".py",
   "mimetype": "text/x-python",
   "name": "python",
   "nbconvert_exporter": "python",
   "pygments_lexer": "ipython3",
   "version": "3.8.5"
  }
 },
 "nbformat": 4,
 "nbformat_minor": 1
}
